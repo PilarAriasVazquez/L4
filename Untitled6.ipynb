{
  "cells": [
    {
      "cell_type": "markdown",
      "source": [
        "PILAR ARIAS, YEDRA MARTÍN, PATRICIA MEDIAVILLA, AMAYA SARASA\n",
        "\n",
        "<GRUPO 9>"
      ],
      "metadata": {
        "id": "lz5qtoBQK-AV"
      },
      "id": "lz5qtoBQK-AV"
    },
    {
      "cell_type": "markdown",
      "source": [
        "#Práctica 3"
      ],
      "metadata": {
        "id": "xSofsfjxLAGE"
      },
      "id": "xSofsfjxLAGE"
    },
    {
      "cell_type": "markdown",
      "source": [
        "##Introducción"
      ],
      "metadata": {
        "id": "mE103JmILBHC"
      },
      "id": "mE103JmILBHC"
    },
    {
      "cell_type": "markdown",
      "source": [
        "Es la tercera práctica del cuarto laboratorio. Dada una base de datos en formato .csv, se nos pide contestar a una serie de cuestiones. Para ello, lo primero que debemos hacer es cargar y leer la base de datos junto a las librerías necesarias: "
      ],
      "metadata": {
        "id": "15goObVTLCBF"
      },
      "id": "15goObVTLCBF"
    },
    {
      "cell_type": "code",
      "execution_count": 1,
      "id": "ab2a6a21",
      "metadata": {
        "id": "ab2a6a21",
        "outputId": "70402b2f-3494-4e38-8229-f2fdc541113f",
        "colab": {
          "base_uri": "https://localhost:8080/",
          "height": 484
        }
      },
      "outputs": [
        {
          "output_type": "stream",
          "name": "stdout",
          "text": [
            "<class 'pandas.core.frame.DataFrame'>\n",
            "RangeIndex: 12960 entries, 0 to 12959\n",
            "Data columns (total 9 columns):\n",
            " #   Column              Non-Null Count  Dtype \n",
            "---  ------              --------------  ----- \n",
            " 0   parents_occupation  12960 non-null  object\n",
            " 1   childs_nursery      12960 non-null  object\n",
            " 2   family_form         12960 non-null  object\n",
            " 3   number_children     12960 non-null  object\n",
            " 4   housing_conditions  12960 non-null  object\n",
            " 5   financial_standing  12960 non-null  object\n",
            " 6   social_conditions   12960 non-null  object\n",
            " 7   health_conditions   12960 non-null  object\n",
            " 8   recommendation      12960 non-null  object\n",
            "dtypes: object(9)\n",
            "memory usage: 911.4+ KB\n"
          ]
        },
        {
          "output_type": "execute_result",
          "data": {
            "text/plain": [
              "  parents_occupation childs_nursery family_form number_children  \\\n",
              "0              usual         proper    complete               1   \n",
              "1              usual         proper    complete               1   \n",
              "2              usual         proper    complete               1   \n",
              "3              usual         proper    complete               1   \n",
              "4              usual         proper    complete               1   \n",
              "\n",
              "  housing_conditions financial_standing social_conditions health_conditions  \\\n",
              "0         convenient         convenient           nonprob       recommended   \n",
              "1         convenient         convenient           nonprob          priority   \n",
              "2         convenient         convenient           nonprob         not_recom   \n",
              "3         convenient         convenient     slightly_prob       recommended   \n",
              "4         convenient         convenient     slightly_prob          priority   \n",
              "\n",
              "  recommendation  \n",
              "0      recommend  \n",
              "1       priority  \n",
              "2      not_recom  \n",
              "3      recommend  \n",
              "4       priority  "
            ],
            "text/html": [
              "\n",
              "  <div id=\"df-33dc04b7-5e36-422d-81d4-dcb055cd4732\">\n",
              "    <div class=\"colab-df-container\">\n",
              "      <div>\n",
              "<style scoped>\n",
              "    .dataframe tbody tr th:only-of-type {\n",
              "        vertical-align: middle;\n",
              "    }\n",
              "\n",
              "    .dataframe tbody tr th {\n",
              "        vertical-align: top;\n",
              "    }\n",
              "\n",
              "    .dataframe thead th {\n",
              "        text-align: right;\n",
              "    }\n",
              "</style>\n",
              "<table border=\"1\" class=\"dataframe\">\n",
              "  <thead>\n",
              "    <tr style=\"text-align: right;\">\n",
              "      <th></th>\n",
              "      <th>parents_occupation</th>\n",
              "      <th>childs_nursery</th>\n",
              "      <th>family_form</th>\n",
              "      <th>number_children</th>\n",
              "      <th>housing_conditions</th>\n",
              "      <th>financial_standing</th>\n",
              "      <th>social_conditions</th>\n",
              "      <th>health_conditions</th>\n",
              "      <th>recommendation</th>\n",
              "    </tr>\n",
              "  </thead>\n",
              "  <tbody>\n",
              "    <tr>\n",
              "      <th>0</th>\n",
              "      <td>usual</td>\n",
              "      <td>proper</td>\n",
              "      <td>complete</td>\n",
              "      <td>1</td>\n",
              "      <td>convenient</td>\n",
              "      <td>convenient</td>\n",
              "      <td>nonprob</td>\n",
              "      <td>recommended</td>\n",
              "      <td>recommend</td>\n",
              "    </tr>\n",
              "    <tr>\n",
              "      <th>1</th>\n",
              "      <td>usual</td>\n",
              "      <td>proper</td>\n",
              "      <td>complete</td>\n",
              "      <td>1</td>\n",
              "      <td>convenient</td>\n",
              "      <td>convenient</td>\n",
              "      <td>nonprob</td>\n",
              "      <td>priority</td>\n",
              "      <td>priority</td>\n",
              "    </tr>\n",
              "    <tr>\n",
              "      <th>2</th>\n",
              "      <td>usual</td>\n",
              "      <td>proper</td>\n",
              "      <td>complete</td>\n",
              "      <td>1</td>\n",
              "      <td>convenient</td>\n",
              "      <td>convenient</td>\n",
              "      <td>nonprob</td>\n",
              "      <td>not_recom</td>\n",
              "      <td>not_recom</td>\n",
              "    </tr>\n",
              "    <tr>\n",
              "      <th>3</th>\n",
              "      <td>usual</td>\n",
              "      <td>proper</td>\n",
              "      <td>complete</td>\n",
              "      <td>1</td>\n",
              "      <td>convenient</td>\n",
              "      <td>convenient</td>\n",
              "      <td>slightly_prob</td>\n",
              "      <td>recommended</td>\n",
              "      <td>recommend</td>\n",
              "    </tr>\n",
              "    <tr>\n",
              "      <th>4</th>\n",
              "      <td>usual</td>\n",
              "      <td>proper</td>\n",
              "      <td>complete</td>\n",
              "      <td>1</td>\n",
              "      <td>convenient</td>\n",
              "      <td>convenient</td>\n",
              "      <td>slightly_prob</td>\n",
              "      <td>priority</td>\n",
              "      <td>priority</td>\n",
              "    </tr>\n",
              "  </tbody>\n",
              "</table>\n",
              "</div>\n",
              "      <button class=\"colab-df-convert\" onclick=\"convertToInteractive('df-33dc04b7-5e36-422d-81d4-dcb055cd4732')\"\n",
              "              title=\"Convert this dataframe to an interactive table.\"\n",
              "              style=\"display:none;\">\n",
              "        \n",
              "  <svg xmlns=\"http://www.w3.org/2000/svg\" height=\"24px\"viewBox=\"0 0 24 24\"\n",
              "       width=\"24px\">\n",
              "    <path d=\"M0 0h24v24H0V0z\" fill=\"none\"/>\n",
              "    <path d=\"M18.56 5.44l.94 2.06.94-2.06 2.06-.94-2.06-.94-.94-2.06-.94 2.06-2.06.94zm-11 1L8.5 8.5l.94-2.06 2.06-.94-2.06-.94L8.5 2.5l-.94 2.06-2.06.94zm10 10l.94 2.06.94-2.06 2.06-.94-2.06-.94-.94-2.06-.94 2.06-2.06.94z\"/><path d=\"M17.41 7.96l-1.37-1.37c-.4-.4-.92-.59-1.43-.59-.52 0-1.04.2-1.43.59L10.3 9.45l-7.72 7.72c-.78.78-.78 2.05 0 2.83L4 21.41c.39.39.9.59 1.41.59.51 0 1.02-.2 1.41-.59l7.78-7.78 2.81-2.81c.8-.78.8-2.07 0-2.86zM5.41 20L4 18.59l7.72-7.72 1.47 1.35L5.41 20z\"/>\n",
              "  </svg>\n",
              "      </button>\n",
              "      \n",
              "  <style>\n",
              "    .colab-df-container {\n",
              "      display:flex;\n",
              "      flex-wrap:wrap;\n",
              "      gap: 12px;\n",
              "    }\n",
              "\n",
              "    .colab-df-convert {\n",
              "      background-color: #E8F0FE;\n",
              "      border: none;\n",
              "      border-radius: 50%;\n",
              "      cursor: pointer;\n",
              "      display: none;\n",
              "      fill: #1967D2;\n",
              "      height: 32px;\n",
              "      padding: 0 0 0 0;\n",
              "      width: 32px;\n",
              "    }\n",
              "\n",
              "    .colab-df-convert:hover {\n",
              "      background-color: #E2EBFA;\n",
              "      box-shadow: 0px 1px 2px rgba(60, 64, 67, 0.3), 0px 1px 3px 1px rgba(60, 64, 67, 0.15);\n",
              "      fill: #174EA6;\n",
              "    }\n",
              "\n",
              "    [theme=dark] .colab-df-convert {\n",
              "      background-color: #3B4455;\n",
              "      fill: #D2E3FC;\n",
              "    }\n",
              "\n",
              "    [theme=dark] .colab-df-convert:hover {\n",
              "      background-color: #434B5C;\n",
              "      box-shadow: 0px 1px 3px 1px rgba(0, 0, 0, 0.15);\n",
              "      filter: drop-shadow(0px 1px 2px rgba(0, 0, 0, 0.3));\n",
              "      fill: #FFFFFF;\n",
              "    }\n",
              "  </style>\n",
              "\n",
              "      <script>\n",
              "        const buttonEl =\n",
              "          document.querySelector('#df-33dc04b7-5e36-422d-81d4-dcb055cd4732 button.colab-df-convert');\n",
              "        buttonEl.style.display =\n",
              "          google.colab.kernel.accessAllowed ? 'block' : 'none';\n",
              "\n",
              "        async function convertToInteractive(key) {\n",
              "          const element = document.querySelector('#df-33dc04b7-5e36-422d-81d4-dcb055cd4732');\n",
              "          const dataTable =\n",
              "            await google.colab.kernel.invokeFunction('convertToInteractive',\n",
              "                                                     [key], {});\n",
              "          if (!dataTable) return;\n",
              "\n",
              "          const docLinkHtml = 'Like what you see? Visit the ' +\n",
              "            '<a target=\"_blank\" href=https://colab.research.google.com/notebooks/data_table.ipynb>data table notebook</a>'\n",
              "            + ' to learn more about interactive tables.';\n",
              "          element.innerHTML = '';\n",
              "          dataTable['output_type'] = 'display_data';\n",
              "          await google.colab.output.renderOutput(dataTable, element);\n",
              "          const docLink = document.createElement('div');\n",
              "          docLink.innerHTML = docLinkHtml;\n",
              "          element.appendChild(docLink);\n",
              "        }\n",
              "      </script>\n",
              "    </div>\n",
              "  </div>\n",
              "  "
            ]
          },
          "metadata": {},
          "execution_count": 1
        }
      ],
      "source": [
        "#Importar librerías\n",
        "import numpy as np \n",
        "import pandas as pd \n",
        "import sklearn as sk \n",
        "import matplotlib.pyplot as plt \n",
        "from sklearn.cluster import AgglomerativeClustering\n",
        "from sklearn.preprocessing import LabelEncoder \n",
        "import scipy.cluster.hierarchy as sch \n",
        "from scipy.cluster.hierarchy import dendrogram, linkage, fcluster\n",
        "\n",
        "#Importamos la base de datos\n",
        "data = pd.read_csv('enfermeria.csv', encoding = 'latin_1')\n",
        "data.info()\n",
        "data.head()"
      ]
    },
    {
      "cell_type": "markdown",
      "source": [
        "Gracias a la función data.info(), se observa que se está trabajando con un total de 12960 observaciones, mientras que con data.head() se visualiza la forma que tiene la base de datos y las primeras filas de esta. "
      ],
      "metadata": {
        "id": "PvPqfYd_Lk53"
      },
      "id": "PvPqfYd_Lk53"
    },
    {
      "cell_type": "markdown",
      "source": [
        "Según se ha estudiado, destacamos dos métodos para afrontar un proyecto, KDD (Knowledge Discovery in Databases) y CRIPS-DM (Cross-Industry Standard Process for Data Mining). En este caso, para enfrentarlo, se utilizará CRISP-DM, ya que consiste en un método no acádemico, y se considera que es el más apropiado para esta práctica."
      ],
      "metadata": {
        "id": "-s_SuvqTLpuy"
      },
      "id": "-s_SuvqTLpuy"
    },
    {
      "cell_type": "markdown",
      "source": [
        "Es un marco de trabajo que define un proceso estandarizado para llevar a cabo proyectos de minería de datos, desde la definición del problema hasta la implementación y evaluación del resultado. Los seis pasos que componen Crisp-DM son los siguientes:\n",
        "\n",
        "-Comprensión de los negocios y definición del problema: comprender la naturaleza del problema y los objetivos de negocio.\n",
        "\n",
        "-Comprensión de los datos: recopilación inicial, descripción y exploración de datos.\n",
        "\n",
        "-Preparación de los datos: Selección, limpieza, construcción, integración, formateo de los datos.\n",
        "\n",
        "-Modelado: aplicar las técnicas de minería de datos a los dataset.\n",
        "\n",
        "-Evaluación: determinar si los resultados son útiles a las necesidades del negocio.\n",
        "\n",
        "-Despliegue: explotar utilidad de los modelos, integrándolos en las tareas de toma de decisiones de la organización -> Call to Action."
      ],
      "metadata": {
        "id": "Ylwf1V_3Lrf3"
      },
      "id": "Ylwf1V_3Lrf3"
    },
    {
      "cell_type": "markdown",
      "source": [
        "## Comprensión de los negocios y definición del problema"
      ],
      "metadata": {
        "id": "0iyVmAY5LsyC"
      },
      "id": "0iyVmAY5LsyC"
    },
    {
      "cell_type": "markdown",
      "source": [
        "Una empresa de colocación de trabajadores pretende hacer una aplicación para ser más eficiente en los enfermeros y enfermeras que asignan para cuidados en hogares. Para ello se dispone del archivo csv “enfermeria” con las características de las distintas personas que pueden optar a los puestos. Crear un modelo que agrupe los candidatos y establezca como se relacionan entre ellos jerárquicamente.\n",
        "\n",
        "1) Utiliza varias configuraciones para el modelo que más se adapte y teniendo en cuenta los tipos de distancias entre elementos. ¿Cuál es la k del modelo? \n",
        "\n",
        "2) Dibuja un dendograma con los clusters obtenidos. Explica alguna de las relaciones interesantes que puedas encontrar. "
      ],
      "metadata": {
        "id": "IfsTWP4RLw2U"
      },
      "id": "IfsTWP4RLw2U"
    },
    {
      "cell_type": "markdown",
      "source": [
        "## Comprensión de los datos"
      ],
      "metadata": {
        "id": "50BVIveGL35v"
      },
      "id": "50BVIveGL35v"
    },
    {
      "cell_type": "code",
      "source": [
        "\n",
        "data.isnull().values.any()"
      ],
      "metadata": {
        "id": "LOslmnEUHSp8",
        "outputId": "06ff0731-90b5-4275-942f-f1146ec6b508",
        "colab": {
          "base_uri": "https://localhost:8080/"
        }
      },
      "id": "LOslmnEUHSp8",
      "execution_count": null,
      "outputs": [
        {
          "output_type": "execute_result",
          "data": {
            "text/plain": [
              "False"
            ]
          },
          "metadata": {},
          "execution_count": 15
        }
      ]
    },
    {
      "cell_type": "code",
      "source": [
        "data.describe()"
      ],
      "metadata": {
        "id": "2R_DIc5yHUw_",
        "outputId": "2303b4b7-f085-4f27-a223-0f0b266f74f3",
        "colab": {
          "base_uri": "https://localhost:8080/",
          "height": 239
        }
      },
      "id": "2R_DIc5yHUw_",
      "execution_count": null,
      "outputs": [
        {
          "output_type": "execute_result",
          "data": {
            "text/plain": [
              "       parents_occupation childs_nursery family_form number_children  \\\n",
              "count               12960          12960       12960           12960   \n",
              "unique                  3              5           4               4   \n",
              "top                 usual         proper    complete               1   \n",
              "freq                 4320           2592        3240            3240   \n",
              "\n",
              "       housing_conditions financial_standing social_conditions  \\\n",
              "count               12960              12960             12960   \n",
              "unique                  3                  2                 3   \n",
              "top            convenient         convenient           nonprob   \n",
              "freq                 4320               6480              4320   \n",
              "\n",
              "       health_conditions recommendation  \n",
              "count              12960          12960  \n",
              "unique                 3              5  \n",
              "top          recommended      not_recom  \n",
              "freq                4320           4320  "
            ],
            "text/html": [
              "\n",
              "  <div id=\"df-77559304-1d75-4b3e-8db1-7717479b64a6\">\n",
              "    <div class=\"colab-df-container\">\n",
              "      <div>\n",
              "<style scoped>\n",
              "    .dataframe tbody tr th:only-of-type {\n",
              "        vertical-align: middle;\n",
              "    }\n",
              "\n",
              "    .dataframe tbody tr th {\n",
              "        vertical-align: top;\n",
              "    }\n",
              "\n",
              "    .dataframe thead th {\n",
              "        text-align: right;\n",
              "    }\n",
              "</style>\n",
              "<table border=\"1\" class=\"dataframe\">\n",
              "  <thead>\n",
              "    <tr style=\"text-align: right;\">\n",
              "      <th></th>\n",
              "      <th>parents_occupation</th>\n",
              "      <th>childs_nursery</th>\n",
              "      <th>family_form</th>\n",
              "      <th>number_children</th>\n",
              "      <th>housing_conditions</th>\n",
              "      <th>financial_standing</th>\n",
              "      <th>social_conditions</th>\n",
              "      <th>health_conditions</th>\n",
              "      <th>recommendation</th>\n",
              "    </tr>\n",
              "  </thead>\n",
              "  <tbody>\n",
              "    <tr>\n",
              "      <th>count</th>\n",
              "      <td>12960</td>\n",
              "      <td>12960</td>\n",
              "      <td>12960</td>\n",
              "      <td>12960</td>\n",
              "      <td>12960</td>\n",
              "      <td>12960</td>\n",
              "      <td>12960</td>\n",
              "      <td>12960</td>\n",
              "      <td>12960</td>\n",
              "    </tr>\n",
              "    <tr>\n",
              "      <th>unique</th>\n",
              "      <td>3</td>\n",
              "      <td>5</td>\n",
              "      <td>4</td>\n",
              "      <td>4</td>\n",
              "      <td>3</td>\n",
              "      <td>2</td>\n",
              "      <td>3</td>\n",
              "      <td>3</td>\n",
              "      <td>5</td>\n",
              "    </tr>\n",
              "    <tr>\n",
              "      <th>top</th>\n",
              "      <td>usual</td>\n",
              "      <td>proper</td>\n",
              "      <td>complete</td>\n",
              "      <td>1</td>\n",
              "      <td>convenient</td>\n",
              "      <td>convenient</td>\n",
              "      <td>nonprob</td>\n",
              "      <td>recommended</td>\n",
              "      <td>not_recom</td>\n",
              "    </tr>\n",
              "    <tr>\n",
              "      <th>freq</th>\n",
              "      <td>4320</td>\n",
              "      <td>2592</td>\n",
              "      <td>3240</td>\n",
              "      <td>3240</td>\n",
              "      <td>4320</td>\n",
              "      <td>6480</td>\n",
              "      <td>4320</td>\n",
              "      <td>4320</td>\n",
              "      <td>4320</td>\n",
              "    </tr>\n",
              "  </tbody>\n",
              "</table>\n",
              "</div>\n",
              "      <button class=\"colab-df-convert\" onclick=\"convertToInteractive('df-77559304-1d75-4b3e-8db1-7717479b64a6')\"\n",
              "              title=\"Convert this dataframe to an interactive table.\"\n",
              "              style=\"display:none;\">\n",
              "        \n",
              "  <svg xmlns=\"http://www.w3.org/2000/svg\" height=\"24px\"viewBox=\"0 0 24 24\"\n",
              "       width=\"24px\">\n",
              "    <path d=\"M0 0h24v24H0V0z\" fill=\"none\"/>\n",
              "    <path d=\"M18.56 5.44l.94 2.06.94-2.06 2.06-.94-2.06-.94-.94-2.06-.94 2.06-2.06.94zm-11 1L8.5 8.5l.94-2.06 2.06-.94-2.06-.94L8.5 2.5l-.94 2.06-2.06.94zm10 10l.94 2.06.94-2.06 2.06-.94-2.06-.94-.94-2.06-.94 2.06-2.06.94z\"/><path d=\"M17.41 7.96l-1.37-1.37c-.4-.4-.92-.59-1.43-.59-.52 0-1.04.2-1.43.59L10.3 9.45l-7.72 7.72c-.78.78-.78 2.05 0 2.83L4 21.41c.39.39.9.59 1.41.59.51 0 1.02-.2 1.41-.59l7.78-7.78 2.81-2.81c.8-.78.8-2.07 0-2.86zM5.41 20L4 18.59l7.72-7.72 1.47 1.35L5.41 20z\"/>\n",
              "  </svg>\n",
              "      </button>\n",
              "      \n",
              "  <style>\n",
              "    .colab-df-container {\n",
              "      display:flex;\n",
              "      flex-wrap:wrap;\n",
              "      gap: 12px;\n",
              "    }\n",
              "\n",
              "    .colab-df-convert {\n",
              "      background-color: #E8F0FE;\n",
              "      border: none;\n",
              "      border-radius: 50%;\n",
              "      cursor: pointer;\n",
              "      display: none;\n",
              "      fill: #1967D2;\n",
              "      height: 32px;\n",
              "      padding: 0 0 0 0;\n",
              "      width: 32px;\n",
              "    }\n",
              "\n",
              "    .colab-df-convert:hover {\n",
              "      background-color: #E2EBFA;\n",
              "      box-shadow: 0px 1px 2px rgba(60, 64, 67, 0.3), 0px 1px 3px 1px rgba(60, 64, 67, 0.15);\n",
              "      fill: #174EA6;\n",
              "    }\n",
              "\n",
              "    [theme=dark] .colab-df-convert {\n",
              "      background-color: #3B4455;\n",
              "      fill: #D2E3FC;\n",
              "    }\n",
              "\n",
              "    [theme=dark] .colab-df-convert:hover {\n",
              "      background-color: #434B5C;\n",
              "      box-shadow: 0px 1px 3px 1px rgba(0, 0, 0, 0.15);\n",
              "      filter: drop-shadow(0px 1px 2px rgba(0, 0, 0, 0.3));\n",
              "      fill: #FFFFFF;\n",
              "    }\n",
              "  </style>\n",
              "\n",
              "      <script>\n",
              "        const buttonEl =\n",
              "          document.querySelector('#df-77559304-1d75-4b3e-8db1-7717479b64a6 button.colab-df-convert');\n",
              "        buttonEl.style.display =\n",
              "          google.colab.kernel.accessAllowed ? 'block' : 'none';\n",
              "\n",
              "        async function convertToInteractive(key) {\n",
              "          const element = document.querySelector('#df-77559304-1d75-4b3e-8db1-7717479b64a6');\n",
              "          const dataTable =\n",
              "            await google.colab.kernel.invokeFunction('convertToInteractive',\n",
              "                                                     [key], {});\n",
              "          if (!dataTable) return;\n",
              "\n",
              "          const docLinkHtml = 'Like what you see? Visit the ' +\n",
              "            '<a target=\"_blank\" href=https://colab.research.google.com/notebooks/data_table.ipynb>data table notebook</a>'\n",
              "            + ' to learn more about interactive tables.';\n",
              "          element.innerHTML = '';\n",
              "          dataTable['output_type'] = 'display_data';\n",
              "          await google.colab.output.renderOutput(dataTable, element);\n",
              "          const docLink = document.createElement('div');\n",
              "          docLink.innerHTML = docLinkHtml;\n",
              "          element.appendChild(docLink);\n",
              "        }\n",
              "      </script>\n",
              "    </div>\n",
              "  </div>\n",
              "  "
            ]
          },
          "metadata": {},
          "execution_count": 16
        }
      ]
    },
    {
      "cell_type": "code",
      "source": [
        "le = LabelEncoder()\n",
        "for col in data.columns: #Cambiar los strings del dataframe de x\n",
        "    if data[col].dtype == 'object':\n",
        "        data[col] = le.fit_transform(data[col])\n",
        "data   "
      ],
      "metadata": {
        "id": "NVFImL4mHZP2",
        "outputId": "4f322e08-5ee8-4cb9-c10d-43e0205be7a5",
        "colab": {
          "base_uri": "https://localhost:8080/",
          "height": 423
        }
      },
      "id": "NVFImL4mHZP2",
      "execution_count": 2,
      "outputs": [
        {
          "output_type": "execute_result",
          "data": {
            "text/plain": [
              "       parents_occupation  childs_nursery  family_form  number_children  \\\n",
              "0                       2               3            0                0   \n",
              "1                       2               3            0                0   \n",
              "2                       2               3            0                0   \n",
              "3                       2               3            0                0   \n",
              "4                       2               3            0                0   \n",
              "...                   ...             ...          ...              ...   \n",
              "12955                   0               4            2                3   \n",
              "12956                   0               4            2                3   \n",
              "12957                   0               4            2                3   \n",
              "12958                   0               4            2                3   \n",
              "12959                   0               4            2                3   \n",
              "\n",
              "       housing_conditions  financial_standing  social_conditions  \\\n",
              "0                       0                   0                  0   \n",
              "1                       0                   0                  0   \n",
              "2                       0                   0                  0   \n",
              "3                       0                   0                  2   \n",
              "4                       0                   0                  2   \n",
              "...                   ...                 ...                ...   \n",
              "12955                   1                   1                  2   \n",
              "12956                   1                   1                  2   \n",
              "12957                   1                   1                  1   \n",
              "12958                   1                   1                  1   \n",
              "12959                   1                   1                  1   \n",
              "\n",
              "       health_conditions  recommendation  \n",
              "0                      2               2  \n",
              "1                      1               1  \n",
              "2                      0               0  \n",
              "3                      2               2  \n",
              "4                      1               1  \n",
              "...                  ...             ...  \n",
              "12955                  1               3  \n",
              "12956                  0               0  \n",
              "12957                  2               3  \n",
              "12958                  1               3  \n",
              "12959                  0               0  \n",
              "\n",
              "[12960 rows x 9 columns]"
            ],
            "text/html": [
              "\n",
              "  <div id=\"df-60cf145d-eae0-435d-85dd-cadba495f0c5\">\n",
              "    <div class=\"colab-df-container\">\n",
              "      <div>\n",
              "<style scoped>\n",
              "    .dataframe tbody tr th:only-of-type {\n",
              "        vertical-align: middle;\n",
              "    }\n",
              "\n",
              "    .dataframe tbody tr th {\n",
              "        vertical-align: top;\n",
              "    }\n",
              "\n",
              "    .dataframe thead th {\n",
              "        text-align: right;\n",
              "    }\n",
              "</style>\n",
              "<table border=\"1\" class=\"dataframe\">\n",
              "  <thead>\n",
              "    <tr style=\"text-align: right;\">\n",
              "      <th></th>\n",
              "      <th>parents_occupation</th>\n",
              "      <th>childs_nursery</th>\n",
              "      <th>family_form</th>\n",
              "      <th>number_children</th>\n",
              "      <th>housing_conditions</th>\n",
              "      <th>financial_standing</th>\n",
              "      <th>social_conditions</th>\n",
              "      <th>health_conditions</th>\n",
              "      <th>recommendation</th>\n",
              "    </tr>\n",
              "  </thead>\n",
              "  <tbody>\n",
              "    <tr>\n",
              "      <th>0</th>\n",
              "      <td>2</td>\n",
              "      <td>3</td>\n",
              "      <td>0</td>\n",
              "      <td>0</td>\n",
              "      <td>0</td>\n",
              "      <td>0</td>\n",
              "      <td>0</td>\n",
              "      <td>2</td>\n",
              "      <td>2</td>\n",
              "    </tr>\n",
              "    <tr>\n",
              "      <th>1</th>\n",
              "      <td>2</td>\n",
              "      <td>3</td>\n",
              "      <td>0</td>\n",
              "      <td>0</td>\n",
              "      <td>0</td>\n",
              "      <td>0</td>\n",
              "      <td>0</td>\n",
              "      <td>1</td>\n",
              "      <td>1</td>\n",
              "    </tr>\n",
              "    <tr>\n",
              "      <th>2</th>\n",
              "      <td>2</td>\n",
              "      <td>3</td>\n",
              "      <td>0</td>\n",
              "      <td>0</td>\n",
              "      <td>0</td>\n",
              "      <td>0</td>\n",
              "      <td>0</td>\n",
              "      <td>0</td>\n",
              "      <td>0</td>\n",
              "    </tr>\n",
              "    <tr>\n",
              "      <th>3</th>\n",
              "      <td>2</td>\n",
              "      <td>3</td>\n",
              "      <td>0</td>\n",
              "      <td>0</td>\n",
              "      <td>0</td>\n",
              "      <td>0</td>\n",
              "      <td>2</td>\n",
              "      <td>2</td>\n",
              "      <td>2</td>\n",
              "    </tr>\n",
              "    <tr>\n",
              "      <th>4</th>\n",
              "      <td>2</td>\n",
              "      <td>3</td>\n",
              "      <td>0</td>\n",
              "      <td>0</td>\n",
              "      <td>0</td>\n",
              "      <td>0</td>\n",
              "      <td>2</td>\n",
              "      <td>1</td>\n",
              "      <td>1</td>\n",
              "    </tr>\n",
              "    <tr>\n",
              "      <th>...</th>\n",
              "      <td>...</td>\n",
              "      <td>...</td>\n",
              "      <td>...</td>\n",
              "      <td>...</td>\n",
              "      <td>...</td>\n",
              "      <td>...</td>\n",
              "      <td>...</td>\n",
              "      <td>...</td>\n",
              "      <td>...</td>\n",
              "    </tr>\n",
              "    <tr>\n",
              "      <th>12955</th>\n",
              "      <td>0</td>\n",
              "      <td>4</td>\n",
              "      <td>2</td>\n",
              "      <td>3</td>\n",
              "      <td>1</td>\n",
              "      <td>1</td>\n",
              "      <td>2</td>\n",
              "      <td>1</td>\n",
              "      <td>3</td>\n",
              "    </tr>\n",
              "    <tr>\n",
              "      <th>12956</th>\n",
              "      <td>0</td>\n",
              "      <td>4</td>\n",
              "      <td>2</td>\n",
              "      <td>3</td>\n",
              "      <td>1</td>\n",
              "      <td>1</td>\n",
              "      <td>2</td>\n",
              "      <td>0</td>\n",
              "      <td>0</td>\n",
              "    </tr>\n",
              "    <tr>\n",
              "      <th>12957</th>\n",
              "      <td>0</td>\n",
              "      <td>4</td>\n",
              "      <td>2</td>\n",
              "      <td>3</td>\n",
              "      <td>1</td>\n",
              "      <td>1</td>\n",
              "      <td>1</td>\n",
              "      <td>2</td>\n",
              "      <td>3</td>\n",
              "    </tr>\n",
              "    <tr>\n",
              "      <th>12958</th>\n",
              "      <td>0</td>\n",
              "      <td>4</td>\n",
              "      <td>2</td>\n",
              "      <td>3</td>\n",
              "      <td>1</td>\n",
              "      <td>1</td>\n",
              "      <td>1</td>\n",
              "      <td>1</td>\n",
              "      <td>3</td>\n",
              "    </tr>\n",
              "    <tr>\n",
              "      <th>12959</th>\n",
              "      <td>0</td>\n",
              "      <td>4</td>\n",
              "      <td>2</td>\n",
              "      <td>3</td>\n",
              "      <td>1</td>\n",
              "      <td>1</td>\n",
              "      <td>1</td>\n",
              "      <td>0</td>\n",
              "      <td>0</td>\n",
              "    </tr>\n",
              "  </tbody>\n",
              "</table>\n",
              "<p>12960 rows × 9 columns</p>\n",
              "</div>\n",
              "      <button class=\"colab-df-convert\" onclick=\"convertToInteractive('df-60cf145d-eae0-435d-85dd-cadba495f0c5')\"\n",
              "              title=\"Convert this dataframe to an interactive table.\"\n",
              "              style=\"display:none;\">\n",
              "        \n",
              "  <svg xmlns=\"http://www.w3.org/2000/svg\" height=\"24px\"viewBox=\"0 0 24 24\"\n",
              "       width=\"24px\">\n",
              "    <path d=\"M0 0h24v24H0V0z\" fill=\"none\"/>\n",
              "    <path d=\"M18.56 5.44l.94 2.06.94-2.06 2.06-.94-2.06-.94-.94-2.06-.94 2.06-2.06.94zm-11 1L8.5 8.5l.94-2.06 2.06-.94-2.06-.94L8.5 2.5l-.94 2.06-2.06.94zm10 10l.94 2.06.94-2.06 2.06-.94-2.06-.94-.94-2.06-.94 2.06-2.06.94z\"/><path d=\"M17.41 7.96l-1.37-1.37c-.4-.4-.92-.59-1.43-.59-.52 0-1.04.2-1.43.59L10.3 9.45l-7.72 7.72c-.78.78-.78 2.05 0 2.83L4 21.41c.39.39.9.59 1.41.59.51 0 1.02-.2 1.41-.59l7.78-7.78 2.81-2.81c.8-.78.8-2.07 0-2.86zM5.41 20L4 18.59l7.72-7.72 1.47 1.35L5.41 20z\"/>\n",
              "  </svg>\n",
              "      </button>\n",
              "      \n",
              "  <style>\n",
              "    .colab-df-container {\n",
              "      display:flex;\n",
              "      flex-wrap:wrap;\n",
              "      gap: 12px;\n",
              "    }\n",
              "\n",
              "    .colab-df-convert {\n",
              "      background-color: #E8F0FE;\n",
              "      border: none;\n",
              "      border-radius: 50%;\n",
              "      cursor: pointer;\n",
              "      display: none;\n",
              "      fill: #1967D2;\n",
              "      height: 32px;\n",
              "      padding: 0 0 0 0;\n",
              "      width: 32px;\n",
              "    }\n",
              "\n",
              "    .colab-df-convert:hover {\n",
              "      background-color: #E2EBFA;\n",
              "      box-shadow: 0px 1px 2px rgba(60, 64, 67, 0.3), 0px 1px 3px 1px rgba(60, 64, 67, 0.15);\n",
              "      fill: #174EA6;\n",
              "    }\n",
              "\n",
              "    [theme=dark] .colab-df-convert {\n",
              "      background-color: #3B4455;\n",
              "      fill: #D2E3FC;\n",
              "    }\n",
              "\n",
              "    [theme=dark] .colab-df-convert:hover {\n",
              "      background-color: #434B5C;\n",
              "      box-shadow: 0px 1px 3px 1px rgba(0, 0, 0, 0.15);\n",
              "      filter: drop-shadow(0px 1px 2px rgba(0, 0, 0, 0.3));\n",
              "      fill: #FFFFFF;\n",
              "    }\n",
              "  </style>\n",
              "\n",
              "      <script>\n",
              "        const buttonEl =\n",
              "          document.querySelector('#df-60cf145d-eae0-435d-85dd-cadba495f0c5 button.colab-df-convert');\n",
              "        buttonEl.style.display =\n",
              "          google.colab.kernel.accessAllowed ? 'block' : 'none';\n",
              "\n",
              "        async function convertToInteractive(key) {\n",
              "          const element = document.querySelector('#df-60cf145d-eae0-435d-85dd-cadba495f0c5');\n",
              "          const dataTable =\n",
              "            await google.colab.kernel.invokeFunction('convertToInteractive',\n",
              "                                                     [key], {});\n",
              "          if (!dataTable) return;\n",
              "\n",
              "          const docLinkHtml = 'Like what you see? Visit the ' +\n",
              "            '<a target=\"_blank\" href=https://colab.research.google.com/notebooks/data_table.ipynb>data table notebook</a>'\n",
              "            + ' to learn more about interactive tables.';\n",
              "          element.innerHTML = '';\n",
              "          dataTable['output_type'] = 'display_data';\n",
              "          await google.colab.output.renderOutput(dataTable, element);\n",
              "          const docLink = document.createElement('div');\n",
              "          docLink.innerHTML = docLinkHtml;\n",
              "          element.appendChild(docLink);\n",
              "        }\n",
              "      </script>\n",
              "    </div>\n",
              "  </div>\n",
              "  "
            ]
          },
          "metadata": {},
          "execution_count": 2
        }
      ]
    },
    {
      "cell_type": "markdown",
      "source": [
        "Son clústeres conceptuales, ya que tienen alguna propiedad en común o representan un concepto particular. \n",
        "Encuentra características comunes entre los elementos de los clústeres. Los jerárquicos son conceptuales"
      ],
      "metadata": {
        "id": "8LgGvpurOERX"
      },
      "id": "8LgGvpurOERX"
    },
    {
      "cell_type": "code",
      "source": [
        "modelo = AgglomerativeClustering(n_clusters=3, affinity='euclidean', linkage='ward')\n",
        "#labels = hierarchical_cluster.fit_predict(data)\n",
        "modelo.fit(data)    \n",
        "etiquetas = modelo.labels_\n"
      ],
      "metadata": {
        "id": "ZrOGQxsuIWL8",
        "outputId": "79a499ca-64ff-428a-8e53-9f650c453021",
        "colab": {
          "base_uri": "https://localhost:8080/"
        }
      },
      "id": "ZrOGQxsuIWL8",
      "execution_count": null,
      "outputs": [
        {
          "output_type": "stream",
          "name": "stderr",
          "text": [
            "/usr/local/lib/python3.10/dist-packages/sklearn/cluster/_agglomerative.py:983: FutureWarning: Attribute `affinity` was deprecated in version 1.2 and will be removed in 1.4. Use `metric` instead\n",
            "  warnings.warn(\n"
          ]
        }
      ]
    },
    {
      "cell_type": "code",
      "source": [],
      "metadata": {
        "id": "eIugukY-NAlq",
        "outputId": "9bf6aa0b-4e5c-4a5e-aae1-2e17969d32a7",
        "colab": {
          "base_uri": "https://localhost:8080/",
          "height": 536
        }
      },
      "id": "eIugukY-NAlq",
      "execution_count": null,
      "outputs": [
        {
          "output_type": "error",
          "ename": "ValueError",
          "evalue": "ignored",
          "traceback": [
            "\u001b[0;31m---------------------------------------------------------------------------\u001b[0m",
            "\u001b[0;31mValueError\u001b[0m                                Traceback (most recent call last)",
            "\u001b[0;32m<ipython-input-23-b4bcee908604>\u001b[0m in \u001b[0;36m<cell line: 9>\u001b[0;34m()\u001b[0m\n\u001b[1;32m      7\u001b[0m \u001b[0;34m\u001b[0m\u001b[0m\n\u001b[1;32m      8\u001b[0m \u001b[0;31m# Crear el dendrograma\u001b[0m\u001b[0;34m\u001b[0m\u001b[0;34m\u001b[0m\u001b[0m\n\u001b[0;32m----> 9\u001b[0;31m \u001b[0mdendrogram\u001b[0m\u001b[0;34m(\u001b[0m\u001b[0menlace\u001b[0m\u001b[0;34m)\u001b[0m\u001b[0;34m\u001b[0m\u001b[0;34m\u001b[0m\u001b[0m\n\u001b[0m\u001b[1;32m     10\u001b[0m \u001b[0;34m\u001b[0m\u001b[0m\n\u001b[1;32m     11\u001b[0m \u001b[0;31m# Ajustar los parámetros del dendrograma\u001b[0m\u001b[0;34m\u001b[0m\u001b[0;34m\u001b[0m\u001b[0m\n",
            "\u001b[0;32m/usr/local/lib/python3.10/dist-packages/scipy/cluster/hierarchy.py\u001b[0m in \u001b[0;36mdendrogram\u001b[0;34m(Z, p, truncate_mode, color_threshold, get_leaves, orientation, labels, count_sort, distance_sort, show_leaf_counts, no_plot, no_labels, leaf_font_size, leaf_rotation, leaf_label_func, show_contracted, link_color_func, ax, above_threshold_color)\u001b[0m\n\u001b[1;32m   3305\u001b[0m         \u001b[0;32mraise\u001b[0m \u001b[0mValueError\u001b[0m\u001b[0;34m(\u001b[0m\u001b[0;34m\"Dimensions of Z and labels must be consistent.\"\u001b[0m\u001b[0;34m)\u001b[0m\u001b[0;34m\u001b[0m\u001b[0;34m\u001b[0m\u001b[0m\n\u001b[1;32m   3306\u001b[0m \u001b[0;34m\u001b[0m\u001b[0m\n\u001b[0;32m-> 3307\u001b[0;31m     \u001b[0mis_valid_linkage\u001b[0m\u001b[0;34m(\u001b[0m\u001b[0mZ\u001b[0m\u001b[0;34m,\u001b[0m \u001b[0mthrow\u001b[0m\u001b[0;34m=\u001b[0m\u001b[0;32mTrue\u001b[0m\u001b[0;34m,\u001b[0m \u001b[0mname\u001b[0m\u001b[0;34m=\u001b[0m\u001b[0;34m'Z'\u001b[0m\u001b[0;34m)\u001b[0m\u001b[0;34m\u001b[0m\u001b[0;34m\u001b[0m\u001b[0m\n\u001b[0m\u001b[1;32m   3308\u001b[0m     \u001b[0mZs\u001b[0m \u001b[0;34m=\u001b[0m \u001b[0mZ\u001b[0m\u001b[0;34m.\u001b[0m\u001b[0mshape\u001b[0m\u001b[0;34m\u001b[0m\u001b[0;34m\u001b[0m\u001b[0m\n\u001b[1;32m   3309\u001b[0m     \u001b[0mn\u001b[0m \u001b[0;34m=\u001b[0m \u001b[0mZs\u001b[0m\u001b[0;34m[\u001b[0m\u001b[0;36m0\u001b[0m\u001b[0;34m]\u001b[0m \u001b[0;34m+\u001b[0m \u001b[0;36m1\u001b[0m\u001b[0;34m\u001b[0m\u001b[0;34m\u001b[0m\u001b[0m\n",
            "\u001b[0;32m/usr/local/lib/python3.10/dist-packages/scipy/cluster/hierarchy.py\u001b[0m in \u001b[0;36mis_valid_linkage\u001b[0;34m(Z, warning, throw, name)\u001b[0m\n\u001b[1;32m   2272\u001b[0m                              'two-dimensional).' % name_str)\n\u001b[1;32m   2273\u001b[0m         \u001b[0;32mif\u001b[0m \u001b[0mZ\u001b[0m\u001b[0;34m.\u001b[0m\u001b[0mshape\u001b[0m\u001b[0;34m[\u001b[0m\u001b[0;36m1\u001b[0m\u001b[0;34m]\u001b[0m \u001b[0;34m!=\u001b[0m \u001b[0;36m4\u001b[0m\u001b[0;34m:\u001b[0m\u001b[0;34m\u001b[0m\u001b[0;34m\u001b[0m\u001b[0m\n\u001b[0;32m-> 2274\u001b[0;31m             \u001b[0;32mraise\u001b[0m \u001b[0mValueError\u001b[0m\u001b[0;34m(\u001b[0m\u001b[0;34m'Linkage matrix %smust have 4 columns.'\u001b[0m \u001b[0;34m%\u001b[0m \u001b[0mname_str\u001b[0m\u001b[0;34m)\u001b[0m\u001b[0;34m\u001b[0m\u001b[0;34m\u001b[0m\u001b[0m\n\u001b[0m\u001b[1;32m   2275\u001b[0m         \u001b[0;32mif\u001b[0m \u001b[0mZ\u001b[0m\u001b[0;34m.\u001b[0m\u001b[0mshape\u001b[0m\u001b[0;34m[\u001b[0m\u001b[0;36m0\u001b[0m\u001b[0;34m]\u001b[0m \u001b[0;34m==\u001b[0m \u001b[0;36m0\u001b[0m\u001b[0;34m:\u001b[0m\u001b[0;34m\u001b[0m\u001b[0;34m\u001b[0m\u001b[0m\n\u001b[1;32m   2276\u001b[0m             raise ValueError('Linkage must be computed on at least two '\n",
            "\u001b[0;31mValueError\u001b[0m: Linkage matrix 'Z' must have 4 columns."
          ]
        }
      ]
    },
    {
      "cell_type": "code",
      "source": [
        "plt.scatter(x, y, c=labels)\n",
        "plt.show()"
      ],
      "metadata": {
        "id": "Jnj27EHmIXUs",
        "outputId": "67236ec8-dc86-492e-a496-bda1402f8766",
        "colab": {
          "base_uri": "https://localhost:8080/",
          "height": 183
        }
      },
      "id": "Jnj27EHmIXUs",
      "execution_count": null,
      "outputs": [
        {
          "output_type": "error",
          "ename": "NameError",
          "evalue": "ignored",
          "traceback": [
            "\u001b[0;31m---------------------------------------------------------------------------\u001b[0m",
            "\u001b[0;31mNameError\u001b[0m                                 Traceback (most recent call last)",
            "\u001b[0;32m<ipython-input-9-572b9bdfce91>\u001b[0m in \u001b[0;36m<cell line: 1>\u001b[0;34m()\u001b[0m\n\u001b[0;32m----> 1\u001b[0;31m \u001b[0mplt\u001b[0m\u001b[0;34m.\u001b[0m\u001b[0mscatter\u001b[0m\u001b[0;34m(\u001b[0m\u001b[0mx\u001b[0m\u001b[0;34m,\u001b[0m \u001b[0my\u001b[0m\u001b[0;34m,\u001b[0m \u001b[0mc\u001b[0m\u001b[0;34m=\u001b[0m\u001b[0mlabels\u001b[0m\u001b[0;34m)\u001b[0m\u001b[0;34m\u001b[0m\u001b[0;34m\u001b[0m\u001b[0m\n\u001b[0m\u001b[1;32m      2\u001b[0m \u001b[0mplt\u001b[0m\u001b[0;34m.\u001b[0m\u001b[0mshow\u001b[0m\u001b[0;34m(\u001b[0m\u001b[0;34m)\u001b[0m\u001b[0;34m\u001b[0m\u001b[0;34m\u001b[0m\u001b[0m\n",
            "\u001b[0;31mNameError\u001b[0m: name 'x' is not defined"
          ]
        }
      ]
    },
    {
      "cell_type": "markdown",
      "source": [
        "video: "
      ],
      "metadata": {
        "id": "O_A4DAX5O8XB"
      },
      "id": "O_A4DAX5O8XB"
    },
    {
      "cell_type": "markdown",
      "source": [
        "obtenemos los valores de lasvariables para llevar a cabo el análisis de datos:"
      ],
      "metadata": {
        "id": "91K0rFdrPHT8"
      },
      "id": "91K0rFdrPHT8"
    },
    {
      "cell_type": "code",
      "source": [
        "\n",
        "calificaciones"
      ],
      "metadata": {
        "id": "Bz6zC12ePLs2",
        "outputId": "63419f1c-a98e-4263-92b2-997cd21cd401",
        "colab": {
          "base_uri": "https://localhost:8080/"
        }
      },
      "id": "Bz6zC12ePLs2",
      "execution_count": null,
      "outputs": [
        {
          "output_type": "execute_result",
          "data": {
            "text/plain": [
              "array([[2, 3, 0, ..., 0, 2, 2],\n",
              "       [2, 3, 0, ..., 0, 1, 1],\n",
              "       [2, 3, 0, ..., 0, 0, 0],\n",
              "       ...,\n",
              "       [0, 4, 2, ..., 1, 2, 3],\n",
              "       [0, 4, 2, ..., 1, 1, 3],\n",
              "       [0, 4, 2, ..., 1, 0, 0]])"
            ]
          },
          "metadata": {},
          "execution_count": 35
        }
      ]
    },
    {
      "cell_type": "markdown",
      "source": [
        "Creando el dendograma del clustering jerárquico"
      ],
      "metadata": {
        "id": "hkYc5q8MPZ8-"
      },
      "id": "hkYc5q8MPZ8-"
    },
    {
      "cell_type": "code",
      "source": [
        "calificaciones= data.iloc[:,[0,1,2,3,4,5,6,7,8]].values\n",
        "Clustering_Jerarquico = linkage(calificaciones, 'ward')\n",
        "dendogram=sch.dendrogram(Clustering_Jerarquico)"
      ],
      "metadata": {
        "id": "zlScDR5GPdvp"
      },
      "id": "zlScDR5GPdvp",
      "execution_count": null,
      "outputs": []
    },
    {
      "cell_type": "markdown",
      "source": [
        "truncate_mode se utiliza para recortar las ramas del dendrograma en función de una altura determinada, lo que puede ser útil para visualizar dendrogramas grandes."
      ],
      "metadata": {
        "id": "j7QJ5IlSS41Q"
      },
      "id": "j7QJ5IlSS41Q"
    },
    {
      "cell_type": "markdown",
      "source": [
        "Una posible solución para evitar que la función dendrogram() se bloquee es utilizar el argumento truncate_mode y establecer un valor adecuado para recortar las ramas del dendrograma. Por ejemplo, puedes establecer truncate_mode='level' y p=3, lo que recortará las ramas del dendrograma que tienen más de 3 niveles."
      ],
      "metadata": {
        "id": "BbCCPWwAS8fY"
      },
      "id": "BbCCPWwAS8fY"
    },
    {
      "cell_type": "code",
      "source": [
        "\n",
        "calificaciones = data.iloc[:,[0,1,2,3,4,5,6,7,8]].values\n",
        "Clustering_Jerarquico = linkage(calificaciones, 'ward')\n",
        "dendrogram = sch.dendrogram(Clustering_Jerarquico, truncate_mode='level', p=3)\n",
        "\n",
        "plt.title('Dendrograma')\n",
        "plt.xlabel('Indices de la muestra')\n",
        "plt.ylabel('Distancia Euclidiana')\n",
        "plt.show()"
      ],
      "metadata": {
        "id": "Wp4kZcowSBGx",
        "outputId": "50469297-9340-4947-af34-c096b593e123",
        "colab": {
          "base_uri": "https://localhost:8080/",
          "height": 476
        }
      },
      "id": "Wp4kZcowSBGx",
      "execution_count": null,
      "outputs": [
        {
          "output_type": "display_data",
          "data": {
            "text/plain": [
              "<Figure size 640x480 with 1 Axes>"
            ],
            "image/png": "[encoded data removed]"
          },
          "metadata": {}
        }
      ]
    },
    {
      "cell_type": "code",
      "source": [
        "#Se selecionan unos datos al azar para posteriormente verificar el clúster \n",
        "#al que pertenecen\n",
        "indices = [26, 176, 392]\n",
        "muestras = pd.DataFrame(data.loc[indices], \n",
        "                       columns = data.keys()).reset_index(drop = True)\n",
        "### PROCESAMIENTO DE LOS DATOS ###\n",
        "#Se realiza el escalamiento de los datos\n",
        "from sklearn import preprocessing\n",
        "data_escalada = preprocessing.Normalizer().fit_transform(data)\n",
        "muestras_escalada = preprocessing.Normalizer().fit_transform(muestras)\n",
        "### ANÁLISIS DE MACHINE LEARNING ###\n",
        "#Se determina las variables a evaluar\n",
        "X = data_escalada\n",
        "#Se gráfica el dendrograma para obtener el número de clúster\n",
        "import scipy.cluster.hierarchy as shc\n",
        "plt.figure(figsize=(10, 7))  \n",
        "plt.title(\"Dendrogramas\") \n",
        "dendrograma = shc.dendrogram(shc.linkage(X, method = 'ward'), truncate_mode='level', p=5)\n",
        "#Obtenido el número de clúster se procede a definir los clústeres \n",
        "from sklearn.cluster import AgglomerativeClustering\n",
        "#Se define el algoritmo junto con el valor de K\n",
        "algoritmo = AgglomerativeClustering(n_clusters = 3, \n",
        "                                    affinity='euclidean', linkage='ward')  \n",
        "#Se entrena el algoritmo\n",
        "algoritmo.fit(X)\n",
        "pred1 = algoritmo.fit_predict(X)\n",
        "#Utilicemos los datos de muestras y verifiquemos en que cluster se encuentran\n",
        "muestra_prediccion = algoritmo.fit_predict(muestras_escalada)\n",
        "for i, pred in enumerate(muestra_prediccion):\n",
        "    print( \"Muestra\", i, \"se encuentra en el clúster:\", pred)\n",
        "\n",
        "plt.show()"
      ],
      "metadata": {
        "id": "V4fByROvaTdL",
        "outputId": "c3bab648-8ad6-4fab-cecd-0386646c58de",
        "colab": {
          "base_uri": "https://localhost:8080/",
          "height": 806
        }
      },
      "id": "V4fByROvaTdL",
      "execution_count": 10,
      "outputs": [
        {
          "output_type": "stream",
          "name": "stderr",
          "text": [
            "/usr/local/lib/python3.10/dist-packages/sklearn/cluster/_agglomerative.py:983: FutureWarning: Attribute `affinity` was deprecated in version 1.2 and will be removed in 1.4. Use `metric` instead\n",
            "  warnings.warn(\n",
            "/usr/local/lib/python3.10/dist-packages/sklearn/cluster/_agglomerative.py:983: FutureWarning: Attribute `affinity` was deprecated in version 1.2 and will be removed in 1.4. Use `metric` instead\n",
            "  warnings.warn(\n",
            "/usr/local/lib/python3.10/dist-packages/sklearn/cluster/_agglomerative.py:983: FutureWarning: Attribute `affinity` was deprecated in version 1.2 and will be removed in 1.4. Use `metric` instead\n",
            "  warnings.warn(\n"
          ]
        },
        {
          "output_type": "stream",
          "name": "stdout",
          "text": [
            "Muestra 0 se encuentra en el clúster: 1\n",
            "Muestra 1 se encuentra en el clúster: 2\n",
            "Muestra 2 se encuentra en el clúster: 0\n"
          ]
        },
        {
          "output_type": "display_data",
          "data": {
            "text/plain": [
              "<Figure size 1000x700 with 1 Axes>"
            ],
            "image/png": "[encoded data removed]"
          },
          "metadata": {}
        }
      ]
    },
    {
      "cell_type": "code",
      "source": [
        "#Se gráfica el dendrograma para obtener el número de clúster\n",
        "import scipy.cluster.hierarchy as shc\n",
        "plt.figure(figsize=(10, 7))  \n",
        "plt.title(\"Dendrogramas\") \n",
        "dendrograma = shc.dendrogram(shc.linkage(X, method = 'ward'), truncate_mode='lastp')\n",
        "# , truncate_mode='level', p=5"
      ],
      "metadata": {
        "id": "iJl5vKVdn9sv",
        "outputId": "7f3ef07a-38dd-4779-dafc-85761dbbe201",
        "colab": {
          "base_uri": "https://localhost:8080/",
          "height": 644
        }
      },
      "id": "iJl5vKVdn9sv",
      "execution_count": 31,
      "outputs": [
        {
          "output_type": "display_data",
          "data": {
            "text/plain": [
              "<Figure size 1000x700 with 1 Axes>"
            ],
            "image/png": "[encoded data removed]"
          },
          "metadata": {}
        }
      ]
    },
    {
      "cell_type": "code",
      "source": [
        "from sklearn.cluster import AgglomerativeClustering\n",
        "from sklearn.metrics import silhouette_score\n",
        "\n",
        "# Definir valores para los parámetros\n",
        "num_clusters = [2, 3, 4]\n",
        "metricas = ['euclidean', 'manhattan']\n",
        "\n",
        "# Inicializar lista para almacenar resultados\n",
        "resultadosEuclidean = []\n",
        "resultadosManhattan = []\n",
        "\n",
        "# Iterar sobre valores de parámetros\n",
        "for n_clusters in num_clusters:\n",
        "      # Inicializar modelo con valores de parámetros actuales\n",
        "      modelo_euclidean = AgglomerativeClustering(n_clusters=n_clusters, metric='euclidean', linkage='ward')\n",
        "      # Entrenar modelo\n",
        "      modelo_euclidean.fit(X)\n",
        "      # Predecir clusters\n",
        "      predicciones_euclidean = modelo_euclidean.fit_predict(X)\n",
        "      # Calcular score silhouette\n",
        "      score_euclidean = silhouette_score(X, predicciones_euclidean)\n",
        "      # Almacenar resultados en lista\n",
        "      resultadosEuclidean.append((n_clusters, predicciones_euclidean, score_euclidean))\n",
        "\n",
        "\n",
        "\n",
        "# Iterar sobre valores de parámetros\n",
        "for n_clusters in num_clusters:\n",
        "        # Inicializar modelo con valores de parámetros actuales\n",
        "        modelo_manhattan = AgglomerativeClustering(n_clusters=n_clusters, metric='manhattan', compute_full_tree=True, linkage='complete')\n",
        "        # Entrenar modelo\n",
        "        modelo_manhattan.fit(X)\n",
        "        # Predecir clusters\n",
        "        predicciones_manhattan = modelo_manhattan.fit_predict(X)\n",
        "        # Calcular score silhouette\n",
        "        score_manhattan = silhouette_score(X, predicciones_manhattan)\n",
        "        # Almacenar resultados en lista\n",
        "        resultadosManhattan.append((n_clusters, predicciones_manhattan, score_manhattan))\n",
        "\n",
        "\n",
        "\n",
        "# Mostrar resultados\n",
        "print('Resultados con distancia euclidean:')\n",
        "for res in resultadosEuclidean:\n",
        "    print('Número de clusters:', res[0])\n",
        "    print('Predicciones:', res[1])\n",
        "    print('Score:', res[2])\n",
        "    print('')\n",
        "\n",
        "print('Resultados con distancia manhattan:')\n",
        "for res in resultadosManhattan:\n",
        "    print('Número de clusters:', res[0])\n",
        "    print('Predicciones:', res[1])\n",
        "    print('Score:', res[2])\n",
        "    print('')"
      ],
      "metadata": {
        "id": "2fY4W_8TZpZ9",
        "outputId": "0a5d3a93-a104-43e5-c09d-0dcb3c7c0cce",
        "colab": {
          "base_uri": "https://localhost:8080/"
        }
      },
      "id": "2fY4W_8TZpZ9",
      "execution_count": 29,
      "outputs": [
        {
          "output_type": "stream",
          "name": "stdout",
          "text": [
            "Resultados con distancia euclidean:\n",
            "Número de clusters: 2\n",
            "Predicciones: [0 0 1 ... 0 0 1]\n",
            "Score: 0.17995000671269748\n",
            "\n",
            "Número de clusters: 3\n",
            "Predicciones: [1 1 0 ... 1 1 0]\n",
            "Score: 0.13618653305634248\n",
            "\n",
            "Número de clusters: 4\n",
            "Predicciones: [0 0 3 ... 0 0 3]\n",
            "Score: 0.13729716802586467\n",
            "\n",
            "Resultados con distancia manhattan:\n",
            "Número de clusters: 2\n",
            "Predicciones: [1 1 0 ... 1 1 0]\n",
            "Score: 0.17995000671269748\n",
            "\n",
            "Número de clusters: 3\n",
            "Predicciones: [1 1 0 ... 1 1 2]\n",
            "Score: 0.13455404710364186\n",
            "\n",
            "Número de clusters: 4\n",
            "Predicciones: [0 0 1 ... 0 0 2]\n",
            "Score: 0.12547092798427054\n",
            "\n"
          ]
        }
      ]
    },
    {
      "cell_type": "code",
      "source": [
        "resultadosManhattan"
      ],
      "metadata": {
        "id": "uZ6_I_lmjynX",
        "outputId": "0eece485-549a-482d-c3d1-d199756f00bd",
        "colab": {
          "base_uri": "https://localhost:8080/"
        }
      },
      "id": "uZ6_I_lmjynX",
      "execution_count": 22,
      "outputs": [
        {
          "output_type": "execute_result",
          "data": {
            "text/plain": [
              "[(2, array([1, 1, 0, ..., 1, 1, 0])),\n",
              " (3, array([1, 1, 0, ..., 1, 1, 2])),\n",
              " (4, array([0, 0, 1, ..., 0, 0, 2]))]"
            ]
          },
          "metadata": {},
          "execution_count": 22
        }
      ]
    },
    {
      "cell_type": "code",
      "source": [
        "from sklearn.preprocessing import StandardScaler\n",
        "# escalar los datos\n",
        "scaler = StandardScaler()\n",
        "X_scaled = scaler.fit_transform(data)\n",
        "\n",
        "# definir los parámetros del algoritmo\n",
        "method = 'ward'  # método de enlace para medir la distancia entre los clusters\n",
        "metric = 'euclidean'  # métrica de distancia\n",
        "num_clusters = 7\n",
        "\n",
        "# aplicar el algoritmo de clustering jerárquico aglomerativo\n",
        "Z = linkage(X, method=method, metric=metric)\n",
        "\n",
        "# obtener los clusters finales\n",
        "clusters = fcluster(Z, t=num_clusters, criterion='maxclust')\n",
        "\n",
        "# agregar los clusters al dataframe original\n",
        "data['Cluster'] = clusters "
      ],
      "metadata": {
        "id": "c-fRT7MZvrwj"
      },
      "id": "c-fRT7MZvrwj",
      "execution_count": 36,
      "outputs": []
    },
    {
      "cell_type": "code",
      "source": [
        "data"
      ],
      "metadata": {
        "id": "n7A0rG_Kv33V",
        "outputId": "c4e3d1b1-5d38-4e89-c9a4-51cb9e3a9e8a",
        "colab": {
          "base_uri": "https://localhost:8080/",
          "height": 423
        }
      },
      "id": "n7A0rG_Kv33V",
      "execution_count": 34,
      "outputs": [
        {
          "output_type": "execute_result",
          "data": {
            "text/plain": [
              "       parents_occupation  childs_nursery  family_form  number_children  \\\n",
              "0                       2               3            0                0   \n",
              "1                       2               3            0                0   \n",
              "2                       2               3            0                0   \n",
              "3                       2               3            0                0   \n",
              "4                       2               3            0                0   \n",
              "...                   ...             ...          ...              ...   \n",
              "12955                   0               4            2                3   \n",
              "12956                   0               4            2                3   \n",
              "12957                   0               4            2                3   \n",
              "12958                   0               4            2                3   \n",
              "12959                   0               4            2                3   \n",
              "\n",
              "       housing_conditions  financial_standing  social_conditions  \\\n",
              "0                       0                   0                  0   \n",
              "1                       0                   0                  0   \n",
              "2                       0                   0                  0   \n",
              "3                       0                   0                  2   \n",
              "4                       0                   0                  2   \n",
              "...                   ...                 ...                ...   \n",
              "12955                   1                   1                  2   \n",
              "12956                   1                   1                  2   \n",
              "12957                   1                   1                  1   \n",
              "12958                   1                   1                  1   \n",
              "12959                   1                   1                  1   \n",
              "\n",
              "       health_conditions  recommendation  Cluster  \n",
              "0                      2               2        2  \n",
              "1                      1               1        2  \n",
              "2                      0               0        1  \n",
              "3                      2               2        2  \n",
              "4                      1               1        2  \n",
              "...                  ...             ...      ...  \n",
              "12955                  1               3        2  \n",
              "12956                  0               0        1  \n",
              "12957                  2               3        2  \n",
              "12958                  1               3        2  \n",
              "12959                  0               0        1  \n",
              "\n",
              "[12960 rows x 10 columns]"
            ],
            "text/html": [
              "\n",
              "  <div id=\"df-13ab7be6-9df8-44a8-875b-0593e52d5785\">\n",
              "    <div class=\"colab-df-container\">\n",
              "      <div>\n",
              "<style scoped>\n",
              "    .dataframe tbody tr th:only-of-type {\n",
              "        vertical-align: middle;\n",
              "    }\n",
              "\n",
              "    .dataframe tbody tr th {\n",
              "        vertical-align: top;\n",
              "    }\n",
              "\n",
              "    .dataframe thead th {\n",
              "        text-align: right;\n",
              "    }\n",
              "</style>\n",
              "<table border=\"1\" class=\"dataframe\">\n",
              "  <thead>\n",
              "    <tr style=\"text-align: right;\">\n",
              "      <th></th>\n",
              "      <th>parents_occupation</th>\n",
              "      <th>childs_nursery</th>\n",
              "      <th>family_form</th>\n",
              "      <th>number_children</th>\n",
              "      <th>housing_conditions</th>\n",
              "      <th>financial_standing</th>\n",
              "      <th>social_conditions</th>\n",
              "      <th>health_conditions</th>\n",
              "      <th>recommendation</th>\n",
              "      <th>Cluster</th>\n",
              "    </tr>\n",
              "  </thead>\n",
              "  <tbody>\n",
              "    <tr>\n",
              "      <th>0</th>\n",
              "      <td>2</td>\n",
              "      <td>3</td>\n",
              "      <td>0</td>\n",
              "      <td>0</td>\n",
              "      <td>0</td>\n",
              "      <td>0</td>\n",
              "      <td>0</td>\n",
              "      <td>2</td>\n",
              "      <td>2</td>\n",
              "      <td>2</td>\n",
              "    </tr>\n",
              "    <tr>\n",
              "      <th>1</th>\n",
              "      <td>2</td>\n",
              "      <td>3</td>\n",
              "      <td>0</td>\n",
              "      <td>0</td>\n",
              "      <td>0</td>\n",
              "      <td>0</td>\n",
              "      <td>0</td>\n",
              "      <td>1</td>\n",
              "      <td>1</td>\n",
              "      <td>2</td>\n",
              "    </tr>\n",
              "    <tr>\n",
              "      <th>2</th>\n",
              "      <td>2</td>\n",
              "      <td>3</td>\n",
              "      <td>0</td>\n",
              "      <td>0</td>\n",
              "      <td>0</td>\n",
              "      <td>0</td>\n",
              "      <td>0</td>\n",
              "      <td>0</td>\n",
              "      <td>0</td>\n",
              "      <td>1</td>\n",
              "    </tr>\n",
              "    <tr>\n",
              "      <th>3</th>\n",
              "      <td>2</td>\n",
              "      <td>3</td>\n",
              "      <td>0</td>\n",
              "      <td>0</td>\n",
              "      <td>0</td>\n",
              "      <td>0</td>\n",
              "      <td>2</td>\n",
              "      <td>2</td>\n",
              "      <td>2</td>\n",
              "      <td>2</td>\n",
              "    </tr>\n",
              "    <tr>\n",
              "      <th>4</th>\n",
              "      <td>2</td>\n",
              "      <td>3</td>\n",
              "      <td>0</td>\n",
              "      <td>0</td>\n",
              "      <td>0</td>\n",
              "      <td>0</td>\n",
              "      <td>2</td>\n",
              "      <td>1</td>\n",
              "      <td>1</td>\n",
              "      <td>2</td>\n",
              "    </tr>\n",
              "    <tr>\n",
              "      <th>...</th>\n",
              "      <td>...</td>\n",
              "      <td>...</td>\n",
              "      <td>...</td>\n",
              "      <td>...</td>\n",
              "      <td>...</td>\n",
              "      <td>...</td>\n",
              "      <td>...</td>\n",
              "      <td>...</td>\n",
              "      <td>...</td>\n",
              "      <td>...</td>\n",
              "    </tr>\n",
              "    <tr>\n",
              "      <th>12955</th>\n",
              "      <td>0</td>\n",
              "      <td>4</td>\n",
              "      <td>2</td>\n",
              "      <td>3</td>\n",
              "      <td>1</td>\n",
              "      <td>1</td>\n",
              "      <td>2</td>\n",
              "      <td>1</td>\n",
              "      <td>3</td>\n",
              "      <td>2</td>\n",
              "    </tr>\n",
              "    <tr>\n",
              "      <th>12956</th>\n",
              "      <td>0</td>\n",
              "      <td>4</td>\n",
              "      <td>2</td>\n",
              "      <td>3</td>\n",
              "      <td>1</td>\n",
              "      <td>1</td>\n",
              "      <td>2</td>\n",
              "      <td>0</td>\n",
              "      <td>0</td>\n",
              "      <td>1</td>\n",
              "    </tr>\n",
              "    <tr>\n",
              "      <th>12957</th>\n",
              "      <td>0</td>\n",
              "      <td>4</td>\n",
              "      <td>2</td>\n",
              "      <td>3</td>\n",
              "      <td>1</td>\n",
              "      <td>1</td>\n",
              "      <td>1</td>\n",
              "      <td>2</td>\n",
              "      <td>3</td>\n",
              "      <td>2</td>\n",
              "    </tr>\n",
              "    <tr>\n",
              "      <th>12958</th>\n",
              "      <td>0</td>\n",
              "      <td>4</td>\n",
              "      <td>2</td>\n",
              "      <td>3</td>\n",
              "      <td>1</td>\n",
              "      <td>1</td>\n",
              "      <td>1</td>\n",
              "      <td>1</td>\n",
              "      <td>3</td>\n",
              "      <td>2</td>\n",
              "    </tr>\n",
              "    <tr>\n",
              "      <th>12959</th>\n",
              "      <td>0</td>\n",
              "      <td>4</td>\n",
              "      <td>2</td>\n",
              "      <td>3</td>\n",
              "      <td>1</td>\n",
              "      <td>1</td>\n",
              "      <td>1</td>\n",
              "      <td>0</td>\n",
              "      <td>0</td>\n",
              "      <td>1</td>\n",
              "    </tr>\n",
              "  </tbody>\n",
              "</table>\n",
              "<p>12960 rows × 10 columns</p>\n",
              "</div>\n",
              "      <button class=\"colab-df-convert\" onclick=\"convertToInteractive('df-13ab7be6-9df8-44a8-875b-0593e52d5785')\"\n",
              "              title=\"Convert this dataframe to an interactive table.\"\n",
              "              style=\"display:none;\">\n",
              "        \n",
              "  <svg xmlns=\"http://www.w3.org/2000/svg\" height=\"24px\"viewBox=\"0 0 24 24\"\n",
              "       width=\"24px\">\n",
              "    <path d=\"M0 0h24v24H0V0z\" fill=\"none\"/>\n",
              "    <path d=\"M18.56 5.44l.94 2.06.94-2.06 2.06-.94-2.06-.94-.94-2.06-.94 2.06-2.06.94zm-11 1L8.5 8.5l.94-2.06 2.06-.94-2.06-.94L8.5 2.5l-.94 2.06-2.06.94zm10 10l.94 2.06.94-2.06 2.06-.94-2.06-.94-.94-2.06-.94 2.06-2.06.94z\"/><path d=\"M17.41 7.96l-1.37-1.37c-.4-.4-.92-.59-1.43-.59-.52 0-1.04.2-1.43.59L10.3 9.45l-7.72 7.72c-.78.78-.78 2.05 0 2.83L4 21.41c.39.39.9.59 1.41.59.51 0 1.02-.2 1.41-.59l7.78-7.78 2.81-2.81c.8-.78.8-2.07 0-2.86zM5.41 20L4 18.59l7.72-7.72 1.47 1.35L5.41 20z\"/>\n",
              "  </svg>\n",
              "      </button>\n",
              "      \n",
              "  <style>\n",
              "    .colab-df-container {\n",
              "      display:flex;\n",
              "      flex-wrap:wrap;\n",
              "      gap: 12px;\n",
              "    }\n",
              "\n",
              "    .colab-df-convert {\n",
              "      background-color: #E8F0FE;\n",
              "      border: none;\n",
              "      border-radius: 50%;\n",
              "      cursor: pointer;\n",
              "      display: none;\n",
              "      fill: #1967D2;\n",
              "      height: 32px;\n",
              "      padding: 0 0 0 0;\n",
              "      width: 32px;\n",
              "    }\n",
              "\n",
              "    .colab-df-convert:hover {\n",
              "      background-color: #E2EBFA;\n",
              "      box-shadow: 0px 1px 2px rgba(60, 64, 67, 0.3), 0px 1px 3px 1px rgba(60, 64, 67, 0.15);\n",
              "      fill: #174EA6;\n",
              "    }\n",
              "\n",
              "    [theme=dark] .colab-df-convert {\n",
              "      background-color: #3B4455;\n",
              "      fill: #D2E3FC;\n",
              "    }\n",
              "\n",
              "    [theme=dark] .colab-df-convert:hover {\n",
              "      background-color: #434B5C;\n",
              "      box-shadow: 0px 1px 3px 1px rgba(0, 0, 0, 0.15);\n",
              "      filter: drop-shadow(0px 1px 2px rgba(0, 0, 0, 0.3));\n",
              "      fill: #FFFFFF;\n",
              "    }\n",
              "  </style>\n",
              "\n",
              "      <script>\n",
              "        const buttonEl =\n",
              "          document.querySelector('#df-13ab7be6-9df8-44a8-875b-0593e52d5785 button.colab-df-convert');\n",
              "        buttonEl.style.display =\n",
              "          google.colab.kernel.accessAllowed ? 'block' : 'none';\n",
              "\n",
              "        async function convertToInteractive(key) {\n",
              "          const element = document.querySelector('#df-13ab7be6-9df8-44a8-875b-0593e52d5785');\n",
              "          const dataTable =\n",
              "            await google.colab.kernel.invokeFunction('convertToInteractive',\n",
              "                                                     [key], {});\n",
              "          if (!dataTable) return;\n",
              "\n",
              "          const docLinkHtml = 'Like what you see? Visit the ' +\n",
              "            '<a target=\"_blank\" href=https://colab.research.google.com/notebooks/data_table.ipynb>data table notebook</a>'\n",
              "            + ' to learn more about interactive tables.';\n",
              "          element.innerHTML = '';\n",
              "          dataTable['output_type'] = 'display_data';\n",
              "          await google.colab.output.renderOutput(dataTable, element);\n",
              "          const docLink = document.createElement('div');\n",
              "          docLink.innerHTML = docLinkHtml;\n",
              "          element.appendChild(docLink);\n",
              "        }\n",
              "      </script>\n",
              "    </div>\n",
              "  </div>\n",
              "  "
            ]
          },
          "metadata": {},
          "execution_count": 34
        }
      ]
    },
    {
      "cell_type": "code",
      "source": [
        "\n",
        "# visualizar el dendrograma\n",
        "plt.figure(figsize=(12, 8))\n",
        "plt.title('Dendrograma de enfermeros')\n",
        "plt.xlabel('Índice de candidatos')\n",
        "plt.ylabel('Distancia')\n",
        "dendrogram(Z, leaf_rotation=90., leaf_font_size=8., truncate_mode='lastp', p=20)\n",
        "plt.show()"
      ],
      "metadata": {
        "id": "kLmmpmKiv8Mf",
        "outputId": "b387bf47-06a6-4c1f-da5f-5b8fb85040f5",
        "colab": {
          "base_uri": "https://localhost:8080/",
          "height": 741
        }
      },
      "id": "kLmmpmKiv8Mf",
      "execution_count": 37,
      "outputs": [
        {
          "output_type": "display_data",
          "data": {
            "text/plain": [
              "<Figure size 1200x800 with 1 Axes>"
            ],
            "image/png": "[encoded data removed]"
          },
          "metadata": {}
        }
      ]
    }
  ],
  "metadata": {
    "kernelspec": {
      "display_name": "Python 3 (ipykernel)",
      "language": "python",
      "name": "python3"
    },
    "language_info": {
      "codemirror_mode": {
        "name": "ipython",
        "version": 3
      },
      "file_extension": ".py",
      "mimetype": "text/x-python",
      "name": "python",
      "nbconvert_exporter": "python",
      "pygments_lexer": "ipython3",
      "version": "3.8.8"
    },
    "colab": {
      "provenance": []
    }
  },
  "nbformat": 4,
  "nbformat_minor": 5
}