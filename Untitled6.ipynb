{
  "cells": [
    {
      "cell_type": "markdown",
      "source": [
        "PILAR ARIAS, YEDRA MARTÍN, PATRICIA MEDIAVILLA, AMAYA SARASA\n",
        "\n",
        "<GRUPO 9>"
      ],
      "metadata": {
        "id": "lz5qtoBQK-AV"
      },
      "id": "lz5qtoBQK-AV"
    },
    {
      "cell_type": "markdown",
      "source": [
        "#Práctica 3"
      ],
      "metadata": {
        "id": "xSofsfjxLAGE"
      },
      "id": "xSofsfjxLAGE"
    },
    {
      "cell_type": "markdown",
      "source": [
        "##Introducción"
      ],
      "metadata": {
        "id": "mE103JmILBHC"
      },
      "id": "mE103JmILBHC"
    },
    {
      "cell_type": "markdown",
      "source": [
        "Es la tercera práctica del cuarto laboratorio. Dada una base de datos en formato .csv, se nos pide contestar a una serie de cuestiones. Para ello, lo primero que debemos hacer es cargar y leer la base de datos junto a las librerías necesarias: "
      ],
      "metadata": {
        "id": "15goObVTLCBF"
      },
      "id": "15goObVTLCBF"
    },
    {
      "cell_type": "code",
      "execution_count": null,
      "id": "ab2a6a21",
      "metadata": {
        "id": "ab2a6a21",
        "outputId": "461c47f7-08b5-42f8-bc99-920d877a3a07",
        "colab": {
          "base_uri": "https://localhost:8080/",
          "height": 548
        }
      },
      "outputs": [
        {
          "output_type": "stream",
          "name": "stdout",
          "text": [
            "<class 'pandas.core.frame.DataFrame'>\n",
            "RangeIndex: 12960 entries, 0 to 12959\n",
            "Data columns (total 9 columns):\n",
            " #   Column              Non-Null Count  Dtype \n",
            "---  ------              --------------  ----- \n",
            " 0   parents_occupation  12960 non-null  object\n",
            " 1   childs_nursery      12960 non-null  object\n",
            " 2   family_form         12960 non-null  object\n",
            " 3   number_children     12960 non-null  object\n",
            " 4   housing_conditions  12960 non-null  object\n",
            " 5   financial_standing  12960 non-null  object\n",
            " 6   social_conditions   12960 non-null  object\n",
            " 7   health_conditions   12960 non-null  object\n",
            " 8   recommendation      12960 non-null  object\n",
            "dtypes: object(9)\n",
            "memory usage: 911.4+ KB\n"
          ]
        },
        {
          "output_type": "execute_result",
          "data": {
            "text/plain": [
              "  parents_occupation childs_nursery family_form number_children  \\\n",
              "0              usual         proper    complete               1   \n",
              "1              usual         proper    complete               1   \n",
              "2              usual         proper    complete               1   \n",
              "3              usual         proper    complete               1   \n",
              "4              usual         proper    complete               1   \n",
              "\n",
              "  housing_conditions financial_standing social_conditions health_conditions  \\\n",
              "0         convenient         convenient           nonprob       recommended   \n",
              "1         convenient         convenient           nonprob          priority   \n",
              "2         convenient         convenient           nonprob         not_recom   \n",
              "3         convenient         convenient     slightly_prob       recommended   \n",
              "4         convenient         convenient     slightly_prob          priority   \n",
              "\n",
              "  recommendation  \n",
              "0      recommend  \n",
              "1       priority  \n",
              "2      not_recom  \n",
              "3      recommend  \n",
              "4       priority  "
            ],
            "text/html": [
              "\n",
              "  <div id=\"df-22fda3df-3cf4-439a-92b4-451e48d46303\">\n",
              "    <div class=\"colab-df-container\">\n",
              "      <div>\n",
              "<style scoped>\n",
              "    .dataframe tbody tr th:only-of-type {\n",
              "        vertical-align: middle;\n",
              "    }\n",
              "\n",
              "    .dataframe tbody tr th {\n",
              "        vertical-align: top;\n",
              "    }\n",
              "\n",
              "    .dataframe thead th {\n",
              "        text-align: right;\n",
              "    }\n",
              "</style>\n",
              "<table border=\"1\" class=\"dataframe\">\n",
              "  <thead>\n",
              "    <tr style=\"text-align: right;\">\n",
              "      <th></th>\n",
              "      <th>parents_occupation</th>\n",
              "      <th>childs_nursery</th>\n",
              "      <th>family_form</th>\n",
              "      <th>number_children</th>\n",
              "      <th>housing_conditions</th>\n",
              "      <th>financial_standing</th>\n",
              "      <th>social_conditions</th>\n",
              "      <th>health_conditions</th>\n",
              "      <th>recommendation</th>\n",
              "    </tr>\n",
              "  </thead>\n",
              "  <tbody>\n",
              "    <tr>\n",
              "      <th>0</th>\n",
              "      <td>usual</td>\n",
              "      <td>proper</td>\n",
              "      <td>complete</td>\n",
              "      <td>1</td>\n",
              "      <td>convenient</td>\n",
              "      <td>convenient</td>\n",
              "      <td>nonprob</td>\n",
              "      <td>recommended</td>\n",
              "      <td>recommend</td>\n",
              "    </tr>\n",
              "    <tr>\n",
              "      <th>1</th>\n",
              "      <td>usual</td>\n",
              "      <td>proper</td>\n",
              "      <td>complete</td>\n",
              "      <td>1</td>\n",
              "      <td>convenient</td>\n",
              "      <td>convenient</td>\n",
              "      <td>nonprob</td>\n",
              "      <td>priority</td>\n",
              "      <td>priority</td>\n",
              "    </tr>\n",
              "    <tr>\n",
              "      <th>2</th>\n",
              "      <td>usual</td>\n",
              "      <td>proper</td>\n",
              "      <td>complete</td>\n",
              "      <td>1</td>\n",
              "      <td>convenient</td>\n",
              "      <td>convenient</td>\n",
              "      <td>nonprob</td>\n",
              "      <td>not_recom</td>\n",
              "      <td>not_recom</td>\n",
              "    </tr>\n",
              "    <tr>\n",
              "      <th>3</th>\n",
              "      <td>usual</td>\n",
              "      <td>proper</td>\n",
              "      <td>complete</td>\n",
              "      <td>1</td>\n",
              "      <td>convenient</td>\n",
              "      <td>convenient</td>\n",
              "      <td>slightly_prob</td>\n",
              "      <td>recommended</td>\n",
              "      <td>recommend</td>\n",
              "    </tr>\n",
              "    <tr>\n",
              "      <th>4</th>\n",
              "      <td>usual</td>\n",
              "      <td>proper</td>\n",
              "      <td>complete</td>\n",
              "      <td>1</td>\n",
              "      <td>convenient</td>\n",
              "      <td>convenient</td>\n",
              "      <td>slightly_prob</td>\n",
              "      <td>priority</td>\n",
              "      <td>priority</td>\n",
              "    </tr>\n",
              "  </tbody>\n",
              "</table>\n",
              "</div>\n",
              "      <button class=\"colab-df-convert\" onclick=\"convertToInteractive('df-22fda3df-3cf4-439a-92b4-451e48d46303')\"\n",
              "              title=\"Convert this dataframe to an interactive table.\"\n",
              "              style=\"display:none;\">\n",
              "        \n",
              "  <svg xmlns=\"http://www.w3.org/2000/svg\" height=\"24px\"viewBox=\"0 0 24 24\"\n",
              "       width=\"24px\">\n",
              "    <path d=\"M0 0h24v24H0V0z\" fill=\"none\"/>\n",
              "    <path d=\"M18.56 5.44l.94 2.06.94-2.06 2.06-.94-2.06-.94-.94-2.06-.94 2.06-2.06.94zm-11 1L8.5 8.5l.94-2.06 2.06-.94-2.06-.94L8.5 2.5l-.94 2.06-2.06.94zm10 10l.94 2.06.94-2.06 2.06-.94-2.06-.94-.94-2.06-.94 2.06-2.06.94z\"/><path d=\"M17.41 7.96l-1.37-1.37c-.4-.4-.92-.59-1.43-.59-.52 0-1.04.2-1.43.59L10.3 9.45l-7.72 7.72c-.78.78-.78 2.05 0 2.83L4 21.41c.39.39.9.59 1.41.59.51 0 1.02-.2 1.41-.59l7.78-7.78 2.81-2.81c.8-.78.8-2.07 0-2.86zM5.41 20L4 18.59l7.72-7.72 1.47 1.35L5.41 20z\"/>\n",
              "  </svg>\n",
              "      </button>\n",
              "      \n",
              "  <style>\n",
              "    .colab-df-container {\n",
              "      display:flex;\n",
              "      flex-wrap:wrap;\n",
              "      gap: 12px;\n",
              "    }\n",
              "\n",
              "    .colab-df-convert {\n",
              "      background-color: #E8F0FE;\n",
              "      border: none;\n",
              "      border-radius: 50%;\n",
              "      cursor: pointer;\n",
              "      display: none;\n",
              "      fill: #1967D2;\n",
              "      height: 32px;\n",
              "      padding: 0 0 0 0;\n",
              "      width: 32px;\n",
              "    }\n",
              "\n",
              "    .colab-df-convert:hover {\n",
              "      background-color: #E2EBFA;\n",
              "      box-shadow: 0px 1px 2px rgba(60, 64, 67, 0.3), 0px 1px 3px 1px rgba(60, 64, 67, 0.15);\n",
              "      fill: #174EA6;\n",
              "    }\n",
              "\n",
              "    [theme=dark] .colab-df-convert {\n",
              "      background-color: #3B4455;\n",
              "      fill: #D2E3FC;\n",
              "    }\n",
              "\n",
              "    [theme=dark] .colab-df-convert:hover {\n",
              "      background-color: #434B5C;\n",
              "      box-shadow: 0px 1px 3px 1px rgba(0, 0, 0, 0.15);\n",
              "      filter: drop-shadow(0px 1px 2px rgba(0, 0, 0, 0.3));\n",
              "      fill: #FFFFFF;\n",
              "    }\n",
              "  </style>\n",
              "\n",
              "      <script>\n",
              "        const buttonEl =\n",
              "          document.querySelector('#df-22fda3df-3cf4-439a-92b4-451e48d46303 button.colab-df-convert');\n",
              "        buttonEl.style.display =\n",
              "          google.colab.kernel.accessAllowed ? 'block' : 'none';\n",
              "\n",
              "        async function convertToInteractive(key) {\n",
              "          const element = document.querySelector('#df-22fda3df-3cf4-439a-92b4-451e48d46303');\n",
              "          const dataTable =\n",
              "            await google.colab.kernel.invokeFunction('convertToInteractive',\n",
              "                                                     [key], {});\n",
              "          if (!dataTable) return;\n",
              "\n",
              "          const docLinkHtml = 'Like what you see? Visit the ' +\n",
              "            '<a target=\"_blank\" href=https://colab.research.google.com/notebooks/data_table.ipynb>data table notebook</a>'\n",
              "            + ' to learn more about interactive tables.';\n",
              "          element.innerHTML = '';\n",
              "          dataTable['output_type'] = 'display_data';\n",
              "          await google.colab.output.renderOutput(dataTable, element);\n",
              "          const docLink = document.createElement('div');\n",
              "          docLink.innerHTML = docLinkHtml;\n",
              "          element.appendChild(docLink);\n",
              "        }\n",
              "      </script>\n",
              "    </div>\n",
              "  </div>\n",
              "  "
            ]
          },
          "metadata": {},
          "execution_count": 13
        }
      ],
      "source": [
        "#Importar librerías\n",
        "import numpy as np \n",
        "import pandas as pd \n",
        "import sklearn as sk \n",
        "import matplotlib.pyplot as plt \n",
        "from sklearn.cluster import AgglomerativeClustering\n",
        "from sklearn.preprocessing import LabelEncoder \n",
        "import scipy.cluster.hierarchy as sch \n",
        "from scipy.cluster.hierarchy import dendrogram, linkage, fcluster\n",
        "\n",
        "#Importamos la base de datos\n",
        "data = pd.read_csv('enfermeria.csv', encoding = 'latin_1')\n",
        "data.info()\n",
        "data.head()"
      ]
    },
    {
      "cell_type": "markdown",
      "source": [
        "Gracias a la función data.info(), se observa que se está trabajando con un total de 12960 observaciones, mientras que con data.head() se visualiza la forma que tiene la base de datos y las primeras filas de esta. "
      ],
      "metadata": {
        "id": "PvPqfYd_Lk53"
      },
      "id": "PvPqfYd_Lk53"
    },
    {
      "cell_type": "markdown",
      "source": [
        "Según se ha estudiado, destacamos dos métodos para afrontar un proyecto, KDD (Knowledge Discovery in Databases) y CRIPS-DM (Cross-Industry Standard Process for Data Mining). En este caso, para enfrentarlo, se utilizará CRISP-DM, ya que consiste en un método no acádemico, y se considera que es el más apropiado para esta práctica."
      ],
      "metadata": {
        "id": "-s_SuvqTLpuy"
      },
      "id": "-s_SuvqTLpuy"
    },
    {
      "cell_type": "markdown",
      "source": [
        "Es un marco de trabajo que define un proceso estandarizado para llevar a cabo proyectos de minería de datos, desde la definición del problema hasta la implementación y evaluación del resultado. Los seis pasos que componen Crisp-DM son los siguientes:\n",
        "\n",
        "- Comprensión de los negocios y definición del problema: comprender la naturaleza del problema y los objetivos de negocio.\n",
        "\n",
        "- Comprensión de los datos: recopilación inicial, descripción y exploración de datos.\n",
        "\n",
        "- Preparación de los datos: Selección, limpieza, construcción, integración, formateo de los datos.\n",
        "\n",
        "- Modelado: aplicar las técnicas de minería de datos a los dataset.\n",
        "\n",
        "- Evaluación: determinar si los resultados son útiles a las necesidades del negocio.\n",
        "\n",
        "- Despliegue: explotar utilidad de los modelos, integrándolos en las tareas de toma de decisiones de la organización -> Call to Action."
      ],
      "metadata": {
        "id": "Ylwf1V_3Lrf3"
      },
      "id": "Ylwf1V_3Lrf3"
    },
    {
      "cell_type": "markdown",
      "source": [
        "## Comprensión de los negocios y definición del problema"
      ],
      "metadata": {
        "id": "0iyVmAY5LsyC"
      },
      "id": "0iyVmAY5LsyC"
    },
    {
      "cell_type": "markdown",
      "source": [
        "Una empresa de colocación de trabajadores pretende hacer una aplicación para ser más eficiente en los enfermeros y enfermeras que asignan para cuidados en hogares. Para ello se dispone del archivo csv “enfermeria” con las características de las distintas personas que pueden optar a los puestos. Crear un modelo que agrupe los candidatos y establezca como se relacionan entre ellos jerárquicamente.\n",
        "\n",
        "1) Utiliza varias configuraciones para el modelo que más se adapte y teniendo en cuenta los tipos de distancias entre elementos. ¿Cuál es la k del modelo? \n",
        "\n",
        "2) Dibuja un dendograma con los clusters obtenidos. Explica alguna de las relaciones interesantes que puedas encontrar. "
      ],
      "metadata": {
        "id": "IfsTWP4RLw2U"
      },
      "id": "IfsTWP4RLw2U"
    },
    {
      "cell_type": "markdown",
      "source": [
        "## Comprensión de los datos"
      ],
      "metadata": {
        "id": "50BVIveGL35v"
      },
      "id": "50BVIveGL35v"
    },
    {
      "cell_type": "code",
      "source": [
        "print(data['parents_occupation'].value_counts())\n",
        "print(data['childs_nursery'].value_counts())\n",
        "print(data['family_form'].value_counts())\n",
        "print(data['number_children'].value_counts())\n",
        "print(data['housing_conditions'].value_counts())\n",
        "print(data['financial_standing'].value_counts())\n",
        "print(data['social_conditions'].value_counts())\n",
        "print(data['health_conditions'].value_counts())\n",
        "print(data['recommendation'].value_counts())"
      ],
      "metadata": {
        "colab": {
          "base_uri": "https://localhost:8080/"
        },
        "id": "caAzn9-ppr-3",
        "outputId": "fc188b34-3184-4955-8f09-d8159dae2dac"
      },
      "id": "caAzn9-ppr-3",
      "execution_count": null,
      "outputs": [
        {
          "output_type": "stream",
          "name": "stdout",
          "text": [
            "usual          4320\n",
            "pretentious    4320\n",
            "great_pret     4320\n",
            "Name: parents_occupation, dtype: int64\n",
            "proper         2592\n",
            "less_proper    2592\n",
            "improper       2592\n",
            "critical       2592\n",
            "very_crit      2592\n",
            "Name: childs_nursery, dtype: int64\n",
            "complete      3240\n",
            "completed     3240\n",
            "incomplete    3240\n",
            "foster        3240\n",
            "Name: family_form, dtype: int64\n",
            "1       3240\n",
            "2       3240\n",
            "3       3240\n",
            "more    3240\n",
            "Name: number_children, dtype: int64\n",
            "convenient    4320\n",
            "less_conv     4320\n",
            "critical      4320\n",
            "Name: housing_conditions, dtype: int64\n",
            "convenient    6480\n",
            "inconv        6480\n",
            "Name: financial_standing, dtype: int64\n",
            "nonprob          4320\n",
            "slightly_prob    4320\n",
            "problematic      4320\n",
            "Name: social_conditions, dtype: int64\n",
            "recommended    4320\n",
            "priority       4320\n",
            "not_recom      4320\n",
            "Name: health_conditions, dtype: int64\n",
            "not_recom     4320\n",
            "priority      4266\n",
            "spec_prior    4044\n",
            "very_recom     328\n",
            "recommend        2\n",
            "Name: recommendation, dtype: int64\n"
          ]
        }
      ]
    },
    {
      "cell_type": "code",
      "source": [
        "data.isnull().values.any()"
      ],
      "metadata": {
        "id": "LOslmnEUHSp8",
        "outputId": "9c1d4461-28f0-496e-c7fc-512a56fcb466",
        "colab": {
          "base_uri": "https://localhost:8080/"
        }
      },
      "id": "LOslmnEUHSp8",
      "execution_count": null,
      "outputs": [
        {
          "output_type": "execute_result",
          "data": {
            "text/plain": [
              "False"
            ]
          },
          "metadata": {},
          "execution_count": 28
        }
      ]
    },
    {
      "cell_type": "code",
      "source": [
        "data.describe()"
      ],
      "metadata": {
        "id": "2R_DIc5yHUw_",
        "outputId": "705d2008-c24d-41b1-ca11-5c990054daef",
        "colab": {
          "base_uri": "https://localhost:8080/",
          "height": 239
        }
      },
      "id": "2R_DIc5yHUw_",
      "execution_count": null,
      "outputs": [
        {
          "output_type": "execute_result",
          "data": {
            "text/plain": [
              "       parents_occupation childs_nursery family_form number_children  \\\n",
              "count               12960          12960       12960           12960   \n",
              "unique                  3              5           4               4   \n",
              "top                 usual         proper    complete               1   \n",
              "freq                 4320           2592        3240            3240   \n",
              "\n",
              "       housing_conditions financial_standing social_conditions  \\\n",
              "count               12960              12960             12960   \n",
              "unique                  3                  2                 3   \n",
              "top            convenient         convenient           nonprob   \n",
              "freq                 4320               6480              4320   \n",
              "\n",
              "       health_conditions recommendation  \n",
              "count              12960          12960  \n",
              "unique                 3              5  \n",
              "top          recommended      not_recom  \n",
              "freq                4320           4320  "
            ],
            "text/html": [
              "\n",
              "  <div id=\"df-fb317d0e-dccd-4c30-b076-e5b58f2db039\">\n",
              "    <div class=\"colab-df-container\">\n",
              "      <div>\n",
              "<style scoped>\n",
              "    .dataframe tbody tr th:only-of-type {\n",
              "        vertical-align: middle;\n",
              "    }\n",
              "\n",
              "    .dataframe tbody tr th {\n",
              "        vertical-align: top;\n",
              "    }\n",
              "\n",
              "    .dataframe thead th {\n",
              "        text-align: right;\n",
              "    }\n",
              "</style>\n",
              "<table border=\"1\" class=\"dataframe\">\n",
              "  <thead>\n",
              "    <tr style=\"text-align: right;\">\n",
              "      <th></th>\n",
              "      <th>parents_occupation</th>\n",
              "      <th>childs_nursery</th>\n",
              "      <th>family_form</th>\n",
              "      <th>number_children</th>\n",
              "      <th>housing_conditions</th>\n",
              "      <th>financial_standing</th>\n",
              "      <th>social_conditions</th>\n",
              "      <th>health_conditions</th>\n",
              "      <th>recommendation</th>\n",
              "    </tr>\n",
              "  </thead>\n",
              "  <tbody>\n",
              "    <tr>\n",
              "      <th>count</th>\n",
              "      <td>12960</td>\n",
              "      <td>12960</td>\n",
              "      <td>12960</td>\n",
              "      <td>12960</td>\n",
              "      <td>12960</td>\n",
              "      <td>12960</td>\n",
              "      <td>12960</td>\n",
              "      <td>12960</td>\n",
              "      <td>12960</td>\n",
              "    </tr>\n",
              "    <tr>\n",
              "      <th>unique</th>\n",
              "      <td>3</td>\n",
              "      <td>5</td>\n",
              "      <td>4</td>\n",
              "      <td>4</td>\n",
              "      <td>3</td>\n",
              "      <td>2</td>\n",
              "      <td>3</td>\n",
              "      <td>3</td>\n",
              "      <td>5</td>\n",
              "    </tr>\n",
              "    <tr>\n",
              "      <th>top</th>\n",
              "      <td>usual</td>\n",
              "      <td>proper</td>\n",
              "      <td>complete</td>\n",
              "      <td>1</td>\n",
              "      <td>convenient</td>\n",
              "      <td>convenient</td>\n",
              "      <td>nonprob</td>\n",
              "      <td>recommended</td>\n",
              "      <td>not_recom</td>\n",
              "    </tr>\n",
              "    <tr>\n",
              "      <th>freq</th>\n",
              "      <td>4320</td>\n",
              "      <td>2592</td>\n",
              "      <td>3240</td>\n",
              "      <td>3240</td>\n",
              "      <td>4320</td>\n",
              "      <td>6480</td>\n",
              "      <td>4320</td>\n",
              "      <td>4320</td>\n",
              "      <td>4320</td>\n",
              "    </tr>\n",
              "  </tbody>\n",
              "</table>\n",
              "</div>\n",
              "      <button class=\"colab-df-convert\" onclick=\"convertToInteractive('df-fb317d0e-dccd-4c30-b076-e5b58f2db039')\"\n",
              "              title=\"Convert this dataframe to an interactive table.\"\n",
              "              style=\"display:none;\">\n",
              "        \n",
              "  <svg xmlns=\"http://www.w3.org/2000/svg\" height=\"24px\"viewBox=\"0 0 24 24\"\n",
              "       width=\"24px\">\n",
              "    <path d=\"M0 0h24v24H0V0z\" fill=\"none\"/>\n",
              "    <path d=\"M18.56 5.44l.94 2.06.94-2.06 2.06-.94-2.06-.94-.94-2.06-.94 2.06-2.06.94zm-11 1L8.5 8.5l.94-2.06 2.06-.94-2.06-.94L8.5 2.5l-.94 2.06-2.06.94zm10 10l.94 2.06.94-2.06 2.06-.94-2.06-.94-.94-2.06-.94 2.06-2.06.94z\"/><path d=\"M17.41 7.96l-1.37-1.37c-.4-.4-.92-.59-1.43-.59-.52 0-1.04.2-1.43.59L10.3 9.45l-7.72 7.72c-.78.78-.78 2.05 0 2.83L4 21.41c.39.39.9.59 1.41.59.51 0 1.02-.2 1.41-.59l7.78-7.78 2.81-2.81c.8-.78.8-2.07 0-2.86zM5.41 20L4 18.59l7.72-7.72 1.47 1.35L5.41 20z\"/>\n",
              "  </svg>\n",
              "      </button>\n",
              "      \n",
              "  <style>\n",
              "    .colab-df-container {\n",
              "      display:flex;\n",
              "      flex-wrap:wrap;\n",
              "      gap: 12px;\n",
              "    }\n",
              "\n",
              "    .colab-df-convert {\n",
              "      background-color: #E8F0FE;\n",
              "      border: none;\n",
              "      border-radius: 50%;\n",
              "      cursor: pointer;\n",
              "      display: none;\n",
              "      fill: #1967D2;\n",
              "      height: 32px;\n",
              "      padding: 0 0 0 0;\n",
              "      width: 32px;\n",
              "    }\n",
              "\n",
              "    .colab-df-convert:hover {\n",
              "      background-color: #E2EBFA;\n",
              "      box-shadow: 0px 1px 2px rgba(60, 64, 67, 0.3), 0px 1px 3px 1px rgba(60, 64, 67, 0.15);\n",
              "      fill: #174EA6;\n",
              "    }\n",
              "\n",
              "    [theme=dark] .colab-df-convert {\n",
              "      background-color: #3B4455;\n",
              "      fill: #D2E3FC;\n",
              "    }\n",
              "\n",
              "    [theme=dark] .colab-df-convert:hover {\n",
              "      background-color: #434B5C;\n",
              "      box-shadow: 0px 1px 3px 1px rgba(0, 0, 0, 0.15);\n",
              "      filter: drop-shadow(0px 1px 2px rgba(0, 0, 0, 0.3));\n",
              "      fill: #FFFFFF;\n",
              "    }\n",
              "  </style>\n",
              "\n",
              "      <script>\n",
              "        const buttonEl =\n",
              "          document.querySelector('#df-fb317d0e-dccd-4c30-b076-e5b58f2db039 button.colab-df-convert');\n",
              "        buttonEl.style.display =\n",
              "          google.colab.kernel.accessAllowed ? 'block' : 'none';\n",
              "\n",
              "        async function convertToInteractive(key) {\n",
              "          const element = document.querySelector('#df-fb317d0e-dccd-4c30-b076-e5b58f2db039');\n",
              "          const dataTable =\n",
              "            await google.colab.kernel.invokeFunction('convertToInteractive',\n",
              "                                                     [key], {});\n",
              "          if (!dataTable) return;\n",
              "\n",
              "          const docLinkHtml = 'Like what you see? Visit the ' +\n",
              "            '<a target=\"_blank\" href=https://colab.research.google.com/notebooks/data_table.ipynb>data table notebook</a>'\n",
              "            + ' to learn more about interactive tables.';\n",
              "          element.innerHTML = '';\n",
              "          dataTable['output_type'] = 'display_data';\n",
              "          await google.colab.output.renderOutput(dataTable, element);\n",
              "          const docLink = document.createElement('div');\n",
              "          docLink.innerHTML = docLinkHtml;\n",
              "          element.appendChild(docLink);\n",
              "        }\n",
              "      </script>\n",
              "    </div>\n",
              "  </div>\n",
              "  "
            ]
          },
          "metadata": {},
          "execution_count": 29
        }
      ]
    },
    {
      "cell_type": "code",
      "source": [
        "le = LabelEncoder()\n",
        "for col in data.columns: #Cambiar los strings del dataframe de x\n",
        "    if data[col].dtype == 'object':\n",
        "        data[col] = le.fit_transform(data[col])\n",
        "data   "
      ],
      "metadata": {
        "id": "NVFImL4mHZP2",
        "outputId": "139ed70d-a0f8-4dce-91b1-d3b8899ba311",
        "colab": {
          "base_uri": "https://localhost:8080/",
          "height": 488
        }
      },
      "id": "NVFImL4mHZP2",
      "execution_count": null,
      "outputs": [
        {
          "output_type": "execute_result",
          "data": {
            "text/plain": [
              "       parents_occupation  childs_nursery  family_form  number_children  \\\n",
              "0                       2               3            0                0   \n",
              "1                       2               3            0                0   \n",
              "2                       2               3            0                0   \n",
              "3                       2               3            0                0   \n",
              "4                       2               3            0                0   \n",
              "...                   ...             ...          ...              ...   \n",
              "12955                   0               4            2                3   \n",
              "12956                   0               4            2                3   \n",
              "12957                   0               4            2                3   \n",
              "12958                   0               4            2                3   \n",
              "12959                   0               4            2                3   \n",
              "\n",
              "       housing_conditions  financial_standing  social_conditions  \\\n",
              "0                       0                   0                  0   \n",
              "1                       0                   0                  0   \n",
              "2                       0                   0                  0   \n",
              "3                       0                   0                  2   \n",
              "4                       0                   0                  2   \n",
              "...                   ...                 ...                ...   \n",
              "12955                   1                   1                  2   \n",
              "12956                   1                   1                  2   \n",
              "12957                   1                   1                  1   \n",
              "12958                   1                   1                  1   \n",
              "12959                   1                   1                  1   \n",
              "\n",
              "       health_conditions  recommendation  \n",
              "0                      2               2  \n",
              "1                      1               1  \n",
              "2                      0               0  \n",
              "3                      2               2  \n",
              "4                      1               1  \n",
              "...                  ...             ...  \n",
              "12955                  1               3  \n",
              "12956                  0               0  \n",
              "12957                  2               3  \n",
              "12958                  1               3  \n",
              "12959                  0               0  \n",
              "\n",
              "[12960 rows x 9 columns]"
            ],
            "text/html": [
              "\n",
              "  <div id=\"df-a013efa4-88ec-412c-915f-8d9981c2a3ec\">\n",
              "    <div class=\"colab-df-container\">\n",
              "      <div>\n",
              "<style scoped>\n",
              "    .dataframe tbody tr th:only-of-type {\n",
              "        vertical-align: middle;\n",
              "    }\n",
              "\n",
              "    .dataframe tbody tr th {\n",
              "        vertical-align: top;\n",
              "    }\n",
              "\n",
              "    .dataframe thead th {\n",
              "        text-align: right;\n",
              "    }\n",
              "</style>\n",
              "<table border=\"1\" class=\"dataframe\">\n",
              "  <thead>\n",
              "    <tr style=\"text-align: right;\">\n",
              "      <th></th>\n",
              "      <th>parents_occupation</th>\n",
              "      <th>childs_nursery</th>\n",
              "      <th>family_form</th>\n",
              "      <th>number_children</th>\n",
              "      <th>housing_conditions</th>\n",
              "      <th>financial_standing</th>\n",
              "      <th>social_conditions</th>\n",
              "      <th>health_conditions</th>\n",
              "      <th>recommendation</th>\n",
              "    </tr>\n",
              "  </thead>\n",
              "  <tbody>\n",
              "    <tr>\n",
              "      <th>0</th>\n",
              "      <td>2</td>\n",
              "      <td>3</td>\n",
              "      <td>0</td>\n",
              "      <td>0</td>\n",
              "      <td>0</td>\n",
              "      <td>0</td>\n",
              "      <td>0</td>\n",
              "      <td>2</td>\n",
              "      <td>2</td>\n",
              "    </tr>\n",
              "    <tr>\n",
              "      <th>1</th>\n",
              "      <td>2</td>\n",
              "      <td>3</td>\n",
              "      <td>0</td>\n",
              "      <td>0</td>\n",
              "      <td>0</td>\n",
              "      <td>0</td>\n",
              "      <td>0</td>\n",
              "      <td>1</td>\n",
              "      <td>1</td>\n",
              "    </tr>\n",
              "    <tr>\n",
              "      <th>2</th>\n",
              "      <td>2</td>\n",
              "      <td>3</td>\n",
              "      <td>0</td>\n",
              "      <td>0</td>\n",
              "      <td>0</td>\n",
              "      <td>0</td>\n",
              "      <td>0</td>\n",
              "      <td>0</td>\n",
              "      <td>0</td>\n",
              "    </tr>\n",
              "    <tr>\n",
              "      <th>3</th>\n",
              "      <td>2</td>\n",
              "      <td>3</td>\n",
              "      <td>0</td>\n",
              "      <td>0</td>\n",
              "      <td>0</td>\n",
              "      <td>0</td>\n",
              "      <td>2</td>\n",
              "      <td>2</td>\n",
              "      <td>2</td>\n",
              "    </tr>\n",
              "    <tr>\n",
              "      <th>4</th>\n",
              "      <td>2</td>\n",
              "      <td>3</td>\n",
              "      <td>0</td>\n",
              "      <td>0</td>\n",
              "      <td>0</td>\n",
              "      <td>0</td>\n",
              "      <td>2</td>\n",
              "      <td>1</td>\n",
              "      <td>1</td>\n",
              "    </tr>\n",
              "    <tr>\n",
              "      <th>...</th>\n",
              "      <td>...</td>\n",
              "      <td>...</td>\n",
              "      <td>...</td>\n",
              "      <td>...</td>\n",
              "      <td>...</td>\n",
              "      <td>...</td>\n",
              "      <td>...</td>\n",
              "      <td>...</td>\n",
              "      <td>...</td>\n",
              "    </tr>\n",
              "    <tr>\n",
              "      <th>12955</th>\n",
              "      <td>0</td>\n",
              "      <td>4</td>\n",
              "      <td>2</td>\n",
              "      <td>3</td>\n",
              "      <td>1</td>\n",
              "      <td>1</td>\n",
              "      <td>2</td>\n",
              "      <td>1</td>\n",
              "      <td>3</td>\n",
              "    </tr>\n",
              "    <tr>\n",
              "      <th>12956</th>\n",
              "      <td>0</td>\n",
              "      <td>4</td>\n",
              "      <td>2</td>\n",
              "      <td>3</td>\n",
              "      <td>1</td>\n",
              "      <td>1</td>\n",
              "      <td>2</td>\n",
              "      <td>0</td>\n",
              "      <td>0</td>\n",
              "    </tr>\n",
              "    <tr>\n",
              "      <th>12957</th>\n",
              "      <td>0</td>\n",
              "      <td>4</td>\n",
              "      <td>2</td>\n",
              "      <td>3</td>\n",
              "      <td>1</td>\n",
              "      <td>1</td>\n",
              "      <td>1</td>\n",
              "      <td>2</td>\n",
              "      <td>3</td>\n",
              "    </tr>\n",
              "    <tr>\n",
              "      <th>12958</th>\n",
              "      <td>0</td>\n",
              "      <td>4</td>\n",
              "      <td>2</td>\n",
              "      <td>3</td>\n",
              "      <td>1</td>\n",
              "      <td>1</td>\n",
              "      <td>1</td>\n",
              "      <td>1</td>\n",
              "      <td>3</td>\n",
              "    </tr>\n",
              "    <tr>\n",
              "      <th>12959</th>\n",
              "      <td>0</td>\n",
              "      <td>4</td>\n",
              "      <td>2</td>\n",
              "      <td>3</td>\n",
              "      <td>1</td>\n",
              "      <td>1</td>\n",
              "      <td>1</td>\n",
              "      <td>0</td>\n",
              "      <td>0</td>\n",
              "    </tr>\n",
              "  </tbody>\n",
              "</table>\n",
              "<p>12960 rows × 9 columns</p>\n",
              "</div>\n",
              "      <button class=\"colab-df-convert\" onclick=\"convertToInteractive('df-a013efa4-88ec-412c-915f-8d9981c2a3ec')\"\n",
              "              title=\"Convert this dataframe to an interactive table.\"\n",
              "              style=\"display:none;\">\n",
              "        \n",
              "  <svg xmlns=\"http://www.w3.org/2000/svg\" height=\"24px\"viewBox=\"0 0 24 24\"\n",
              "       width=\"24px\">\n",
              "    <path d=\"M0 0h24v24H0V0z\" fill=\"none\"/>\n",
              "    <path d=\"M18.56 5.44l.94 2.06.94-2.06 2.06-.94-2.06-.94-.94-2.06-.94 2.06-2.06.94zm-11 1L8.5 8.5l.94-2.06 2.06-.94-2.06-.94L8.5 2.5l-.94 2.06-2.06.94zm10 10l.94 2.06.94-2.06 2.06-.94-2.06-.94-.94-2.06-.94 2.06-2.06.94z\"/><path d=\"M17.41 7.96l-1.37-1.37c-.4-.4-.92-.59-1.43-.59-.52 0-1.04.2-1.43.59L10.3 9.45l-7.72 7.72c-.78.78-.78 2.05 0 2.83L4 21.41c.39.39.9.59 1.41.59.51 0 1.02-.2 1.41-.59l7.78-7.78 2.81-2.81c.8-.78.8-2.07 0-2.86zM5.41 20L4 18.59l7.72-7.72 1.47 1.35L5.41 20z\"/>\n",
              "  </svg>\n",
              "      </button>\n",
              "      \n",
              "  <style>\n",
              "    .colab-df-container {\n",
              "      display:flex;\n",
              "      flex-wrap:wrap;\n",
              "      gap: 12px;\n",
              "    }\n",
              "\n",
              "    .colab-df-convert {\n",
              "      background-color: #E8F0FE;\n",
              "      border: none;\n",
              "      border-radius: 50%;\n",
              "      cursor: pointer;\n",
              "      display: none;\n",
              "      fill: #1967D2;\n",
              "      height: 32px;\n",
              "      padding: 0 0 0 0;\n",
              "      width: 32px;\n",
              "    }\n",
              "\n",
              "    .colab-df-convert:hover {\n",
              "      background-color: #E2EBFA;\n",
              "      box-shadow: 0px 1px 2px rgba(60, 64, 67, 0.3), 0px 1px 3px 1px rgba(60, 64, 67, 0.15);\n",
              "      fill: #174EA6;\n",
              "    }\n",
              "\n",
              "    [theme=dark] .colab-df-convert {\n",
              "      background-color: #3B4455;\n",
              "      fill: #D2E3FC;\n",
              "    }\n",
              "\n",
              "    [theme=dark] .colab-df-convert:hover {\n",
              "      background-color: #434B5C;\n",
              "      box-shadow: 0px 1px 3px 1px rgba(0, 0, 0, 0.15);\n",
              "      filter: drop-shadow(0px 1px 2px rgba(0, 0, 0, 0.3));\n",
              "      fill: #FFFFFF;\n",
              "    }\n",
              "  </style>\n",
              "\n",
              "      <script>\n",
              "        const buttonEl =\n",
              "          document.querySelector('#df-a013efa4-88ec-412c-915f-8d9981c2a3ec button.colab-df-convert');\n",
              "        buttonEl.style.display =\n",
              "          google.colab.kernel.accessAllowed ? 'block' : 'none';\n",
              "\n",
              "        async function convertToInteractive(key) {\n",
              "          const element = document.querySelector('#df-a013efa4-88ec-412c-915f-8d9981c2a3ec');\n",
              "          const dataTable =\n",
              "            await google.colab.kernel.invokeFunction('convertToInteractive',\n",
              "                                                     [key], {});\n",
              "          if (!dataTable) return;\n",
              "\n",
              "          const docLinkHtml = 'Like what you see? Visit the ' +\n",
              "            '<a target=\"_blank\" href=https://colab.research.google.com/notebooks/data_table.ipynb>data table notebook</a>'\n",
              "            + ' to learn more about interactive tables.';\n",
              "          element.innerHTML = '';\n",
              "          dataTable['output_type'] = 'display_data';\n",
              "          await google.colab.output.renderOutput(dataTable, element);\n",
              "          const docLink = document.createElement('div');\n",
              "          docLink.innerHTML = docLinkHtml;\n",
              "          element.appendChild(docLink);\n",
              "        }\n",
              "      </script>\n",
              "    </div>\n",
              "  </div>\n",
              "  "
            ]
          },
          "metadata": {},
          "execution_count": 14
        }
      ]
    },
    {
      "cell_type": "markdown",
      "source": [
        "Son clústeres conceptuales, ya que tienen alguna propiedad en común o representan un concepto particular. \n",
        "Encuentra características comunes entre los elementos de los clústeres. Los jerárquicos son conceptuales"
      ],
      "metadata": {
        "id": "8LgGvpurOERX"
      },
      "id": "8LgGvpurOERX"
    },
    {
      "cell_type": "code",
      "source": [
        "# modelo = AgglomerativeClustering(n_clusters=3, affinity='euclidean', linkage='ward')\n",
        "# #labels = hierarchical_cluster.fit_predict(data)\n",
        "# modelo.fit(data)    \n",
        "# etiquetas = modelo.labels_\n"
      ],
      "metadata": {
        "id": "ZrOGQxsuIWL8",
        "outputId": "91c13cdf-c6e5-4da2-9568-2404b2bbe6ac",
        "colab": {
          "base_uri": "https://localhost:8080/"
        }
      },
      "id": "ZrOGQxsuIWL8",
      "execution_count": null,
      "outputs": [
        {
          "output_type": "stream",
          "name": "stderr",
          "text": [
            "/usr/local/lib/python3.10/dist-packages/sklearn/cluster/_agglomerative.py:983: FutureWarning: Attribute `affinity` was deprecated in version 1.2 and will be removed in 1.4. Use `metric` instead\n",
            "  warnings.warn(\n"
          ]
        }
      ]
    },
    {
      "cell_type": "code",
      "source": [],
      "metadata": {
        "id": "eIugukY-NAlq"
      },
      "id": "eIugukY-NAlq",
      "execution_count": null,
      "outputs": []
    },
    {
      "cell_type": "code",
      "source": [
        "# plt.scatter(x, y, c=labels)\n",
        "# plt.show()"
      ],
      "metadata": {
        "id": "Jnj27EHmIXUs",
        "outputId": "69606d95-b54b-460d-bc20-14e8c2ffa82a",
        "colab": {
          "base_uri": "https://localhost:8080/",
          "height": 183
        }
      },
      "id": "Jnj27EHmIXUs",
      "execution_count": null,
      "outputs": [
        {
          "output_type": "error",
          "ename": "NameError",
          "evalue": "ignored",
          "traceback": [
            "\u001b[0;31m---------------------------------------------------------------------------\u001b[0m",
            "\u001b[0;31mNameError\u001b[0m                                 Traceback (most recent call last)",
            "\u001b[0;32m<ipython-input-32-572b9bdfce91>\u001b[0m in \u001b[0;36m<cell line: 1>\u001b[0;34m()\u001b[0m\n\u001b[0;32m----> 1\u001b[0;31m \u001b[0mplt\u001b[0m\u001b[0;34m.\u001b[0m\u001b[0mscatter\u001b[0m\u001b[0;34m(\u001b[0m\u001b[0mx\u001b[0m\u001b[0;34m,\u001b[0m \u001b[0my\u001b[0m\u001b[0;34m,\u001b[0m \u001b[0mc\u001b[0m\u001b[0;34m=\u001b[0m\u001b[0mlabels\u001b[0m\u001b[0;34m)\u001b[0m\u001b[0;34m\u001b[0m\u001b[0;34m\u001b[0m\u001b[0m\n\u001b[0m\u001b[1;32m      2\u001b[0m \u001b[0mplt\u001b[0m\u001b[0;34m.\u001b[0m\u001b[0mshow\u001b[0m\u001b[0;34m(\u001b[0m\u001b[0;34m)\u001b[0m\u001b[0;34m\u001b[0m\u001b[0;34m\u001b[0m\u001b[0m\n",
            "\u001b[0;31mNameError\u001b[0m: name 'x' is not defined"
          ]
        }
      ]
    },
    {
      "cell_type": "markdown",
      "source": [
        "video: "
      ],
      "metadata": {
        "id": "O_A4DAX5O8XB"
      },
      "id": "O_A4DAX5O8XB"
    },
    {
      "cell_type": "markdown",
      "source": [
        "obtenemos los valores de lasvariables para llevar a cabo el análisis de datos:"
      ],
      "metadata": {
        "id": "91K0rFdrPHT8"
      },
      "id": "91K0rFdrPHT8"
    },
    {
      "cell_type": "markdown",
      "source": [
        "Creando el dendograma del clustering jerárquico"
      ],
      "metadata": {
        "id": "hkYc5q8MPZ8-"
      },
      "id": "hkYc5q8MPZ8-"
    },
    {
      "cell_type": "code",
      "source": [
        "# calificaciones= data.iloc[:,[0,1,2,3,4,5,6,7,8]].values\n",
        "# Clustering_Jerarquico = linkage(calificaciones, 'ward')\n",
        "# dendogram=sch.dendrogram(Clustering_Jerarquico)"
      ],
      "metadata": {
        "id": "zlScDR5GPdvp"
      },
      "id": "zlScDR5GPdvp",
      "execution_count": null,
      "outputs": []
    },
    {
      "cell_type": "markdown",
      "source": [
        "truncate_mode se utiliza para recortar las ramas del dendrograma en función de una altura determinada, lo que puede ser útil para visualizar dendrogramas grandes."
      ],
      "metadata": {
        "id": "j7QJ5IlSS41Q"
      },
      "id": "j7QJ5IlSS41Q"
    },
    {
      "cell_type": "markdown",
      "source": [
        "Una posible solución para evitar que la función dendrogram() se bloquee es utilizar el argumento truncate_mode y establecer un valor adecuado para recortar las ramas del dendrograma. Por ejemplo, puedes establecer truncate_mode='level' y p=3, lo que recortará las ramas del dendrograma que tienen más de 3 niveles."
      ],
      "metadata": {
        "id": "BbCCPWwAS8fY"
      },
      "id": "BbCCPWwAS8fY"
    },
    {
      "cell_type": "code",
      "source": [
        "\n",
        "# calificaciones = data.iloc[:,[0,1,2,3,4,5,6,7,8]].values\n",
        "# Clustering_Jerarquico = linkage(calificaciones, 'ward')\n",
        "# dendrogram = sch.dendrogram(Clustering_Jerarquico, truncate_mode='level', p=3)\n",
        "\n",
        "# plt.title('Dendrograma')\n",
        "# plt.xlabel('Indices de la muestra')\n",
        "# plt.ylabel('Distancia Euclidiana')\n",
        "# plt.show()"
      ],
      "metadata": {
        "id": "Wp4kZcowSBGx",
        "outputId": "71a844a5-f6c6-4614-aa7b-77d6d90bb5bc",
        "colab": {
          "base_uri": "https://localhost:8080/",
          "height": 476
        }
      },
      "id": "Wp4kZcowSBGx",
      "execution_count": null,
      "outputs": [
        {
          "output_type": "display_data",
          "data": {
            "text/plain": [
              "<Figure size 640x480 with 1 Axes>"
            ],
            "image/png": "[encoded data removed]"
          },
          "metadata": {}
        }
      ]
    },
    {
      "cell_type": "markdown",
      "source": [
        "AglomerativeClustering es un algoritmo de clustering jerárquico que comienza con cada punto de datos como un clúster y luego los fusiona gradualmente en grupos más grandes. En cada paso, el algoritmo fusiona los dos clústeres más cercanos en función de una métrica de distancia o similitud. El proceso de fusión se repite hasta que se forma un único clúster que contiene todos los puntos de datos. Este enfoque es conocido como \"bottom-up\" o \"aglomerativo\".\n",
        "\n",
        "Por otro lado, linkage es una función que se utiliza en el algoritmo de clustering aglomerativo para determinar la distancia entre dos clústeres. Hay varios tipos de linkage que pueden ser utilizados, como single linkage, complete linkage y average linkage. Cada uno de ellos utiliza diferentes métricas para calcular la distancia entre dos clústeres."
      ],
      "metadata": {
        "id": "QShrlhwEEkPg"
      },
      "id": "QShrlhwEEkPg"
    },
    {
      "cell_type": "code",
      "source": [
        "#Se selecionan unos datos al azar para posteriormente verificar el clúster \n",
        "#al que pertenecen\n",
        "# indices = [26, 176, 392, 498]\n",
        "# muestras = pd.DataFrame(data.loc[indices], columns = data.keys()).reset_index(drop = True)\n",
        "### PROCESAMIENTO DE LOS DATOS ###\n",
        "#Se realiza el escalamiento de los datos\n",
        "from sklearn import preprocessing\n",
        "# data_escalada = preprocessing.Normalizer().fit_transform(data)\n",
        "# muestras_escalada = preprocessing.Normalizer().fit_transform(muestras)\n",
        "### ANÁLISIS DE MACHINE LEARNING ###\n",
        "#Se determina las variables a evaluar\n",
        "# X = data_escalada\n",
        "#Se gráfica el dendrograma para obtener el número de clúster\n",
        "import scipy.cluster.hierarchy as shc\n",
        "plt.figure(figsize=(10, 7))  \n",
        "plt.title(\"Dendrogramas\") \n",
        "dendrograma = shc.dendrogram(shc.linkage(data, method = 'ward'), truncate_mode='level', p=8)\n",
        "#Obtenido el número de clúster se procede a definir los clústeres \n",
        "from sklearn.cluster import AgglomerativeClustering\n",
        "#Se define el algoritmo junto con el valor de K\n",
        "algoritmo = AgglomerativeClustering(n_clusters = 4, \n",
        "                                    affinity='euclidean', linkage='ward')  \n",
        "#Se entrena el algoritmo\n",
        "algoritmo.fit(data)\n",
        "data['Cluster']=algoritmo.labels_\n",
        "#pred1 = algoritmo.fit_predict(X)\n",
        "#Utilicemos los datos de muestras y verifiquemos en que cluster se encuentran\n",
        "# muestra_prediccion = algoritmo.fit_predict(muestras_escalada)\n",
        "# for i, pred in enumerate(muestra_prediccion):\n",
        "#     print( \"Muestra\", i, \"se encuentra en el clúster:\", pred)\n",
        "\n",
        "plt.show()"
      ],
      "metadata": {
        "colab": {
          "base_uri": "https://localhost:8080/",
          "height": 682
        },
        "id": "V4fByROvaTdL",
        "outputId": "1f78cfd2-a232-43e0-bf5e-f860a1312086"
      },
      "id": "V4fByROvaTdL",
      "execution_count": null,
      "outputs": [
        {
          "output_type": "stream",
          "name": "stderr",
          "text": [
            "/usr/local/lib/python3.10/dist-packages/sklearn/cluster/_agglomerative.py:983: FutureWarning: Attribute `affinity` was deprecated in version 1.2 and will be removed in 1.4. Use `metric` instead\n",
            "  warnings.warn(\n"
          ]
        },
        {
          "output_type": "display_data",
          "data": {
            "text/plain": [
              "<Figure size 1000x700 with 1 Axes>"
            ],
            "image/png": "[encoded data removed]"
          },
          "metadata": {}
        }
      ]
    },
    {
      "cell_type": "code",
      "source": [
        "#Se gráfica el dendrograma para obtener el número de clúster\n",
        "import scipy.cluster.hierarchy as shc\n",
        "plt.figure(figsize=(10, 7))  \n",
        "plt.title(\"Dendrogramas\") \n",
        "dendrograma = shc.dendrogram(shc.linkage(X, method = 'ward'), truncate_mode='lastp')\n",
        "# , truncate_mode='level', p=5"
      ],
      "metadata": {
        "id": "iJl5vKVdn9sv"
      },
      "id": "iJl5vKVdn9sv",
      "execution_count": null,
      "outputs": []
    },
    {
      "cell_type": "code",
      "source": [
        "from sklearn.cluster import AgglomerativeClustering\n",
        "from sklearn.metrics import silhouette_score\n",
        "\n",
        "# Definir valores para los parámetros\n",
        "num_clusters = [2, 3, 4]\n",
        "metricas = ['euclidean', 'manhattan']\n",
        "\n",
        "# Inicializar lista para almacenar resultados\n",
        "resultadosEuclidean = []\n",
        "resultadosManhattan = []\n",
        "\n",
        "# Iterar sobre valores de parámetros\n",
        "for n_clusters in num_clusters:\n",
        "      # Inicializar modelo con valores de parámetros actuales\n",
        "      modelo_euclidean = AgglomerativeClustering(n_clusters=n_clusters, metric='euclidean', linkage='ward')\n",
        "      # Entrenar modelo\n",
        "      modelo_euclidean.fit(X)\n",
        "      # Predecir clusters\n",
        "      predicciones_euclidean = modelo_euclidean.fit_predict(X)\n",
        "      # Calcular score silhouette\n",
        "      score_euclidean = silhouette_score(X, predicciones_euclidean)\n",
        "      # Almacenar resultados en lista\n",
        "      resultadosEuclidean.append((n_clusters, predicciones_euclidean, score_euclidean))\n",
        "\n",
        "\n",
        "\n",
        "# Iterar sobre valores de parámetros\n",
        "for n_clusters in num_clusters:\n",
        "        # Inicializar modelo con valores de parámetros actuales\n",
        "        modelo_manhattan = AgglomerativeClustering(n_clusters=n_clusters, metric='manhattan', compute_full_tree=True, linkage='complete')\n",
        "        # Entrenar modelo\n",
        "        modelo_manhattan.fit(X)\n",
        "        # Predecir clusters\n",
        "        predicciones_manhattan = modelo_manhattan.fit_predict(X)\n",
        "        # Calcular score silhouette\n",
        "        score_manhattan = silhouette_score(X, predicciones_manhattan)\n",
        "        # Almacenar resultados en lista\n",
        "        resultadosManhattan.append((n_clusters, predicciones_manhattan, score_manhattan))\n",
        "\n",
        "\n",
        "\n",
        "# Mostrar resultados\n",
        "print('Resultados con distancia euclidean:')\n",
        "for res in resultadosEuclidean:\n",
        "    print('Número de clusters:', res[0])\n",
        "    print('Predicciones:', res[1])\n",
        "    print('Score:', res[2])\n",
        "    print('')\n",
        "\n",
        "print('Resultados con distancia manhattan:')\n",
        "for res in resultadosManhattan:\n",
        "    print('Número de clusters:', res[0])\n",
        "    print('Predicciones:', res[1])\n",
        "    print('Score:', res[2])\n",
        "    print('')"
      ],
      "metadata": {
        "id": "2fY4W_8TZpZ9"
      },
      "id": "2fY4W_8TZpZ9",
      "execution_count": null,
      "outputs": []
    },
    {
      "cell_type": "code",
      "source": [
        "resultadosManhattan"
      ],
      "metadata": {
        "id": "uZ6_I_lmjynX"
      },
      "id": "uZ6_I_lmjynX",
      "execution_count": null,
      "outputs": []
    },
    {
      "cell_type": "markdown",
      "source": [
        "La función fcluster se utiliza para asignar cada punto de datos a un clúster después de haber aplicado el algoritmo de clustering jerárquico aglomerativo utilizando la función linkage.\n",
        "\n",
        "La función fcluster toma como entrada la matriz de enlace (Z) que se obtiene como salida de la función linkage, el número de clústeres (num_clusters) que se desean obtener y un criterio de corte (criterion) que se utilizará para determinar el número de clústeres."
      ],
      "metadata": {
        "id": "pCsur1_SFH3A"
      },
      "id": "pCsur1_SFH3A"
    },
    {
      "cell_type": "code",
      "source": [
        "from sklearn.preprocessing import StandardScaler\n",
        "# escalar los datos\n",
        "#scaler = StandardScaler()\n",
        "#X_scaled = scaler.fit_transform(data)\n",
        "\n",
        "# definir los parámetros del algoritmo\n",
        "method = 'ward'  # método de enlace para medir la distancia entre los clusters\n",
        "metric = 'euclidean'  # métrica de distancia\n",
        "num_clusters = 3\n",
        "\n",
        "# aplicar el algoritmo de clustering jerárquico aglomerativo\n",
        "Z = linkage(data, method=method, metric=metric)\n",
        "\n",
        "# obtener los clusters finales\n",
        "clusters = fcluster(Z, t=num_clusters, criterion='maxclust')\n",
        "\n",
        "# agregar los clusters al dataframe original\n",
        "data['Cluster'] = clusters \n",
        "\n",
        "\n",
        "# visualizar el dendrograma\n",
        "plt.figure(figsize=(12, 8))\n",
        "plt.title('Dendrograma de enfermeros')\n",
        "plt.xlabel('Índice de candidatos')\n",
        "plt.ylabel('Distancia')\n",
        "dendrogram(Z, leaf_rotation=90., leaf_font_size=8., truncate_mode='lastp', p=20, color_threshold=Z[-num_clusters+1, 2])\n",
        "plt.show()"
      ],
      "metadata": {
        "colab": {
          "base_uri": "https://localhost:8080/",
          "height": 644
        },
        "id": "c-fRT7MZvrwj",
        "outputId": "c5b5def1-0e33-43ce-8705-16bb14ff42c1"
      },
      "id": "c-fRT7MZvrwj",
      "execution_count": null,
      "outputs": [
        {
          "output_type": "display_data",
          "data": {
            "text/plain": [
              "<Figure size 1200x800 with 1 Axes>"
            ],
            "image/png": "[encoded data removed]"
          },
          "metadata": {}
        }
      ]
    },
    {
      "cell_type": "code",
      "source": [
        "# agregar los clusters al dataframe original\n",
        "data['Cluster'] = clusters\n",
        "\n",
        "# obtener la cantidad de individuos en cada cluster\n",
        "counts = data['Cluster'].value_counts()\n",
        "\n",
        "# imprimir la cantidad de individuos en cada cluster\n",
        "print(counts)\n"
      ],
      "metadata": {
        "colab": {
          "base_uri": "https://localhost:8080/"
        },
        "id": "n7A0rG_Kv33V",
        "outputId": "a6a7cacf-f04b-4a08-bd00-9048cb0972b4"
      },
      "id": "n7A0rG_Kv33V",
      "execution_count": null,
      "outputs": [
        {
          "output_type": "stream",
          "name": "stdout",
          "text": [
            "1    6314\n",
            "3    4612\n",
            "2    2034\n",
            "Name: Cluster, dtype: int64\n"
          ]
        }
      ]
    },
    {
      "cell_type": "code",
      "source": [
        "#(data['Cluster']==1).value_counts()\n",
        "data1=data['Cluster']==1 \n",
        "\n",
        "\n",
        "\n",
        "\n",
        "\n",
        "data1 = data[data['Cluster'] == 1]\n",
        "\n",
        "print(data1['parents_occupation'].value_counts())\n",
        "print(data1['childs_nursery'].value_counts())\n",
        "print(data1['family_form'].value_counts())\n",
        "print(data1['number_children'].value_counts())\n",
        "print(data1['housing_conditions'].value_counts())\n",
        "print(data1['financial_standing'].value_counts())\n",
        "print(data1['social_conditions'].value_counts())\n",
        "print(data1['health_conditions'].value_counts())\n",
        "print(data1['recommendation'].value_counts())"
      ],
      "metadata": {
        "colab": {
          "base_uri": "https://localhost:8080/"
        },
        "id": "x1hJoV8xoT8v",
        "outputId": "3821bb11-36a7-45ab-a2a9-8b14ec6e0732"
      },
      "id": "x1hJoV8xoT8v",
      "execution_count": null,
      "outputs": [
        {
          "output_type": "stream",
          "name": "stdout",
          "text": [
            "2    3366\n",
            "1    2924\n",
            "0    2298\n",
            "Name: parents_occupation, dtype: int64\n",
            "3    2210\n",
            "2    2208\n",
            "1    1768\n",
            "0    1328\n",
            "4    1074\n",
            "Name: childs_nursery, dtype: int64\n",
            "0    2234\n",
            "1    2172\n",
            "3    2118\n",
            "2    2064\n",
            "Name: family_form, dtype: int64\n",
            "0    2288\n",
            "1    2172\n",
            "2    2064\n",
            "3    2064\n",
            "Name: number_children, dtype: int64\n",
            "0    3060\n",
            "2    2836\n",
            "1    2692\n",
            "Name: housing_conditions, dtype: int64\n",
            "0    4406\n",
            "1    4182\n",
            "Name: financial_standing, dtype: int64\n",
            "0    2956\n",
            "2    2956\n",
            "1    2676\n",
            "Name: social_conditions, dtype: int64\n",
            "0    4320\n",
            "2    2414\n",
            "1    1854\n",
            "Name: health_conditions, dtype: int64\n",
            "0    4320\n",
            "1    4266\n",
            "2       2\n",
            "Name: recommendation, dtype: int64\n"
          ]
        }
      ]
    },
    {
      "cell_type": "markdown",
      "source": [
        "principalmente, depende de health_conditions \n"
      ],
      "metadata": {
        "id": "PzAFxd-dtMi8"
      },
      "id": "PzAFxd-dtMi8"
    },
    {
      "cell_type": "code",
      "source": [
        "\n",
        "data2 = data[data['Cluster'] == 2]\n",
        "\n",
        "print(data2['parents_occupation'].value_counts())\n",
        "print(data2['childs_nursery'].value_counts())\n",
        "print(data2['family_form'].value_counts())\n",
        "print(data2['number_children'].value_counts())\n",
        "print(data2['housing_conditions'].value_counts())\n",
        "print(data2['financial_standing'].value_counts())\n",
        "print(data2['social_conditions'].value_counts())\n",
        "print(data2['health_conditions'].value_counts())\n",
        "print(data2['recommendation'].value_counts())"
      ],
      "metadata": {
        "colab": {
          "base_uri": "https://localhost:8080/"
        },
        "id": "kU0SlvLRtevu",
        "outputId": "349b98e9-a40c-4593-85eb-59ae191d4b45"
      },
      "id": "kU0SlvLRtevu",
      "execution_count": null,
      "outputs": [
        {
          "output_type": "stream",
          "name": "stdout",
          "text": [
            "0    964\n",
            "2    702\n",
            "1    638\n",
            "Name: parents_occupation, dtype: int64\n",
            "4    1518\n",
            "3     382\n",
            "2     338\n",
            "1      66\n",
            "Name: childs_nursery, dtype: int64\n",
            "2    602\n",
            "3    590\n",
            "1    567\n",
            "0    545\n",
            "Name: family_form, dtype: int64\n",
            "2    588\n",
            "1    584\n",
            "3    582\n",
            "0    550\n",
            "Name: number_children, dtype: int64\n",
            "1    814\n",
            "2    764\n",
            "0    726\n",
            "Name: housing_conditions, dtype: int64\n",
            "1    1178\n",
            "0    1126\n",
            "Name: financial_standing, dtype: int64\n",
            "1    794\n",
            "2    756\n",
            "0    754\n",
            "Name: social_conditions, dtype: int64\n",
            "1    1203\n",
            "2    1101\n",
            "Name: health_conditions, dtype: int64\n",
            "3    1976\n",
            "4     328\n",
            "Name: recommendation, dtype: int64\n"
          ]
        }
      ]
    },
    {
      "cell_type": "code",
      "source": [
        "data1.describe()"
      ],
      "metadata": {
        "colab": {
          "base_uri": "https://localhost:8080/",
          "height": 364
        },
        "id": "IJI0_VxSsP8O",
        "outputId": "62278151-b4ff-4981-f835-80c68165952e"
      },
      "id": "IJI0_VxSsP8O",
      "execution_count": null,
      "outputs": [
        {
          "output_type": "execute_result",
          "data": {
            "text/plain": [
              "       parents_occupation  childs_nursery  family_form  number_children  \\\n",
              "count          8588.00000     8588.000000  8588.000000      8588.000000   \n",
              "mean              1.12436        1.992315     1.473451         1.454588   \n",
              "std               0.80258        1.257816     1.123810         1.123206   \n",
              "min               0.00000        0.000000     0.000000         0.000000   \n",
              "25%               0.00000        1.000000     0.000000         0.000000   \n",
              "50%               1.00000        2.000000     1.000000         1.000000   \n",
              "75%               2.00000        3.000000     2.000000         2.000000   \n",
              "max               2.00000        4.000000     3.000000         3.000000   \n",
              "\n",
              "       housing_conditions  financial_standing  social_conditions  \\\n",
              "count         8588.000000         8588.000000        8588.000000   \n",
              "mean             0.973917            0.486959           1.000000   \n",
              "std              0.828214            0.499859           0.829749   \n",
              "min              0.000000            0.000000           0.000000   \n",
              "25%              0.000000            0.000000           0.000000   \n",
              "50%              1.000000            0.000000           1.000000   \n",
              "75%              2.000000            1.000000           2.000000   \n",
              "max              2.000000            1.000000           2.000000   \n",
              "\n",
              "       health_conditions  recommendation  Cluster  \n",
              "count        8588.000000     8588.000000   8588.0  \n",
              "mean            0.778062        0.497205      1.0  \n",
              "std             0.857290        0.500487      0.0  \n",
              "min             0.000000        0.000000      1.0  \n",
              "25%             0.000000        0.000000      1.0  \n",
              "50%             0.000000        0.000000      1.0  \n",
              "75%             2.000000        1.000000      1.0  \n",
              "max             2.000000        2.000000      1.0  "
            ],
            "text/html": [
              "\n",
              "  <div id=\"df-fdcf028c-30cf-4b78-bd7c-9ee64538f229\">\n",
              "    <div class=\"colab-df-container\">\n",
              "      <div>\n",
              "<style scoped>\n",
              "    .dataframe tbody tr th:only-of-type {\n",
              "        vertical-align: middle;\n",
              "    }\n",
              "\n",
              "    .dataframe tbody tr th {\n",
              "        vertical-align: top;\n",
              "    }\n",
              "\n",
              "    .dataframe thead th {\n",
              "        text-align: right;\n",
              "    }\n",
              "</style>\n",
              "<table border=\"1\" class=\"dataframe\">\n",
              "  <thead>\n",
              "    <tr style=\"text-align: right;\">\n",
              "      <th></th>\n",
              "      <th>parents_occupation</th>\n",
              "      <th>childs_nursery</th>\n",
              "      <th>family_form</th>\n",
              "      <th>number_children</th>\n",
              "      <th>housing_conditions</th>\n",
              "      <th>financial_standing</th>\n",
              "      <th>social_conditions</th>\n",
              "      <th>health_conditions</th>\n",
              "      <th>recommendation</th>\n",
              "      <th>Cluster</th>\n",
              "    </tr>\n",
              "  </thead>\n",
              "  <tbody>\n",
              "    <tr>\n",
              "      <th>count</th>\n",
              "      <td>8588.00000</td>\n",
              "      <td>8588.000000</td>\n",
              "      <td>8588.000000</td>\n",
              "      <td>8588.000000</td>\n",
              "      <td>8588.000000</td>\n",
              "      <td>8588.000000</td>\n",
              "      <td>8588.000000</td>\n",
              "      <td>8588.000000</td>\n",
              "      <td>8588.000000</td>\n",
              "      <td>8588.0</td>\n",
              "    </tr>\n",
              "    <tr>\n",
              "      <th>mean</th>\n",
              "      <td>1.12436</td>\n",
              "      <td>1.992315</td>\n",
              "      <td>1.473451</td>\n",
              "      <td>1.454588</td>\n",
              "      <td>0.973917</td>\n",
              "      <td>0.486959</td>\n",
              "      <td>1.000000</td>\n",
              "      <td>0.778062</td>\n",
              "      <td>0.497205</td>\n",
              "      <td>1.0</td>\n",
              "    </tr>\n",
              "    <tr>\n",
              "      <th>std</th>\n",
              "      <td>0.80258</td>\n",
              "      <td>1.257816</td>\n",
              "      <td>1.123810</td>\n",
              "      <td>1.123206</td>\n",
              "      <td>0.828214</td>\n",
              "      <td>0.499859</td>\n",
              "      <td>0.829749</td>\n",
              "      <td>0.857290</td>\n",
              "      <td>0.500487</td>\n",
              "      <td>0.0</td>\n",
              "    </tr>\n",
              "    <tr>\n",
              "      <th>min</th>\n",
              "      <td>0.00000</td>\n",
              "      <td>0.000000</td>\n",
              "      <td>0.000000</td>\n",
              "      <td>0.000000</td>\n",
              "      <td>0.000000</td>\n",
              "      <td>0.000000</td>\n",
              "      <td>0.000000</td>\n",
              "      <td>0.000000</td>\n",
              "      <td>0.000000</td>\n",
              "      <td>1.0</td>\n",
              "    </tr>\n",
              "    <tr>\n",
              "      <th>25%</th>\n",
              "      <td>0.00000</td>\n",
              "      <td>1.000000</td>\n",
              "      <td>0.000000</td>\n",
              "      <td>0.000000</td>\n",
              "      <td>0.000000</td>\n",
              "      <td>0.000000</td>\n",
              "      <td>0.000000</td>\n",
              "      <td>0.000000</td>\n",
              "      <td>0.000000</td>\n",
              "      <td>1.0</td>\n",
              "    </tr>\n",
              "    <tr>\n",
              "      <th>50%</th>\n",
              "      <td>1.00000</td>\n",
              "      <td>2.000000</td>\n",
              "      <td>1.000000</td>\n",
              "      <td>1.000000</td>\n",
              "      <td>1.000000</td>\n",
              "      <td>0.000000</td>\n",
              "      <td>1.000000</td>\n",
              "      <td>0.000000</td>\n",
              "      <td>0.000000</td>\n",
              "      <td>1.0</td>\n",
              "    </tr>\n",
              "    <tr>\n",
              "      <th>75%</th>\n",
              "      <td>2.00000</td>\n",
              "      <td>3.000000</td>\n",
              "      <td>2.000000</td>\n",
              "      <td>2.000000</td>\n",
              "      <td>2.000000</td>\n",
              "      <td>1.000000</td>\n",
              "      <td>2.000000</td>\n",
              "      <td>2.000000</td>\n",
              "      <td>1.000000</td>\n",
              "      <td>1.0</td>\n",
              "    </tr>\n",
              "    <tr>\n",
              "      <th>max</th>\n",
              "      <td>2.00000</td>\n",
              "      <td>4.000000</td>\n",
              "      <td>3.000000</td>\n",
              "      <td>3.000000</td>\n",
              "      <td>2.000000</td>\n",
              "      <td>1.000000</td>\n",
              "      <td>2.000000</td>\n",
              "      <td>2.000000</td>\n",
              "      <td>2.000000</td>\n",
              "      <td>1.0</td>\n",
              "    </tr>\n",
              "  </tbody>\n",
              "</table>\n",
              "</div>\n",
              "      <button class=\"colab-df-convert\" onclick=\"convertToInteractive('df-fdcf028c-30cf-4b78-bd7c-9ee64538f229')\"\n",
              "              title=\"Convert this dataframe to an interactive table.\"\n",
              "              style=\"display:none;\">\n",
              "        \n",
              "  <svg xmlns=\"http://www.w3.org/2000/svg\" height=\"24px\"viewBox=\"0 0 24 24\"\n",
              "       width=\"24px\">\n",
              "    <path d=\"M0 0h24v24H0V0z\" fill=\"none\"/>\n",
              "    <path d=\"M18.56 5.44l.94 2.06.94-2.06 2.06-.94-2.06-.94-.94-2.06-.94 2.06-2.06.94zm-11 1L8.5 8.5l.94-2.06 2.06-.94-2.06-.94L8.5 2.5l-.94 2.06-2.06.94zm10 10l.94 2.06.94-2.06 2.06-.94-2.06-.94-.94-2.06-.94 2.06-2.06.94z\"/><path d=\"M17.41 7.96l-1.37-1.37c-.4-.4-.92-.59-1.43-.59-.52 0-1.04.2-1.43.59L10.3 9.45l-7.72 7.72c-.78.78-.78 2.05 0 2.83L4 21.41c.39.39.9.59 1.41.59.51 0 1.02-.2 1.41-.59l7.78-7.78 2.81-2.81c.8-.78.8-2.07 0-2.86zM5.41 20L4 18.59l7.72-7.72 1.47 1.35L5.41 20z\"/>\n",
              "  </svg>\n",
              "      </button>\n",
              "      \n",
              "  <style>\n",
              "    .colab-df-container {\n",
              "      display:flex;\n",
              "      flex-wrap:wrap;\n",
              "      gap: 12px;\n",
              "    }\n",
              "\n",
              "    .colab-df-convert {\n",
              "      background-color: #E8F0FE;\n",
              "      border: none;\n",
              "      border-radius: 50%;\n",
              "      cursor: pointer;\n",
              "      display: none;\n",
              "      fill: #1967D2;\n",
              "      height: 32px;\n",
              "      padding: 0 0 0 0;\n",
              "      width: 32px;\n",
              "    }\n",
              "\n",
              "    .colab-df-convert:hover {\n",
              "      background-color: #E2EBFA;\n",
              "      box-shadow: 0px 1px 2px rgba(60, 64, 67, 0.3), 0px 1px 3px 1px rgba(60, 64, 67, 0.15);\n",
              "      fill: #174EA6;\n",
              "    }\n",
              "\n",
              "    [theme=dark] .colab-df-convert {\n",
              "      background-color: #3B4455;\n",
              "      fill: #D2E3FC;\n",
              "    }\n",
              "\n",
              "    [theme=dark] .colab-df-convert:hover {\n",
              "      background-color: #434B5C;\n",
              "      box-shadow: 0px 1px 3px 1px rgba(0, 0, 0, 0.15);\n",
              "      filter: drop-shadow(0px 1px 2px rgba(0, 0, 0, 0.3));\n",
              "      fill: #FFFFFF;\n",
              "    }\n",
              "  </style>\n",
              "\n",
              "      <script>\n",
              "        const buttonEl =\n",
              "          document.querySelector('#df-fdcf028c-30cf-4b78-bd7c-9ee64538f229 button.colab-df-convert');\n",
              "        buttonEl.style.display =\n",
              "          google.colab.kernel.accessAllowed ? 'block' : 'none';\n",
              "\n",
              "        async function convertToInteractive(key) {\n",
              "          const element = document.querySelector('#df-fdcf028c-30cf-4b78-bd7c-9ee64538f229');\n",
              "          const dataTable =\n",
              "            await google.colab.kernel.invokeFunction('convertToInteractive',\n",
              "                                                     [key], {});\n",
              "          if (!dataTable) return;\n",
              "\n",
              "          const docLinkHtml = 'Like what you see? Visit the ' +\n",
              "            '<a target=\"_blank\" href=https://colab.research.google.com/notebooks/data_table.ipynb>data table notebook</a>'\n",
              "            + ' to learn more about interactive tables.';\n",
              "          element.innerHTML = '';\n",
              "          dataTable['output_type'] = 'display_data';\n",
              "          await google.colab.output.renderOutput(dataTable, element);\n",
              "          const docLink = document.createElement('div');\n",
              "          docLink.innerHTML = docLinkHtml;\n",
              "          element.appendChild(docLink);\n",
              "        }\n",
              "      </script>\n",
              "    </div>\n",
              "  </div>\n",
              "  "
            ]
          },
          "metadata": {},
          "execution_count": 47
        }
      ]
    },
    {
      "cell_type": "code",
      "source": [
        "#Importamos la base de datos\n",
        "data = pd.read_csv('enfermeria.csv', encoding = 'latin_1')\n",
        "data.info()\n",
        "data.head()\n",
        "\n",
        "\n",
        "# definir los parámetros del algoritmo\n",
        "n_clusters = 3\n",
        "linkage_1 = 'ward'\n",
        "linkage_2 = 'complete'\n",
        "\n",
        "# codificar los datos con label encoder\n",
        "le = LabelEncoder()\n",
        "data_le = data.apply(le.fit_transform)\n",
        "\n",
        "# ajustar el modelo de clustering con euclidean\n",
        "model_1 = AgglomerativeClustering(n_clusters=n_clusters, linkage=linkage_1, affinity='euclidean')\n",
        "clusters_1 = model_1.fit_predict(data_le)\n",
        "\n",
        "\n",
        "# crear un dendrograma\n",
        "Z_1 = linkage(data_le, method=linkage_1, metric='euclidean')\n",
        "plt.figure(figsize=(12, 8))\n",
        "plt.title('Dendrograma con LabelEncoder y Euclidean')\n",
        "plt.xlabel('Índice de candidatos')\n",
        "plt.ylabel('Distancia')\n",
        "dendrogram(Z_1, leaf_rotation=90., leaf_font_size=8., truncate_mode='lastp', p=20)\n",
        "plt.show()\n"
      ],
      "metadata": {
        "id": "d46Z8aY1H2Nm",
        "outputId": "5fc2b4c3-7977-4346-fced-5e738eaa46e4",
        "colab": {
          "base_uri": "https://localhost:8080/",
          "height": 971
        }
      },
      "id": "d46Z8aY1H2Nm",
      "execution_count": null,
      "outputs": [
        {
          "output_type": "stream",
          "name": "stdout",
          "text": [
            "<class 'pandas.core.frame.DataFrame'>\n",
            "RangeIndex: 12960 entries, 0 to 12959\n",
            "Data columns (total 9 columns):\n",
            " #   Column              Non-Null Count  Dtype \n",
            "---  ------              --------------  ----- \n",
            " 0   parents_occupation  12960 non-null  object\n",
            " 1   childs_nursery      12960 non-null  object\n",
            " 2   family_form         12960 non-null  object\n",
            " 3   number_children     12960 non-null  object\n",
            " 4   housing_conditions  12960 non-null  object\n",
            " 5   financial_standing  12960 non-null  object\n",
            " 6   social_conditions   12960 non-null  object\n",
            " 7   health_conditions   12960 non-null  object\n",
            " 8   recommendation      12960 non-null  object\n",
            "dtypes: object(9)\n",
            "memory usage: 911.4+ KB\n"
          ]
        },
        {
          "output_type": "stream",
          "name": "stderr",
          "text": [
            "/usr/local/lib/python3.10/dist-packages/sklearn/cluster/_agglomerative.py:983: FutureWarning: Attribute `affinity` was deprecated in version 1.2 and will be removed in 1.4. Use `metric` instead\n",
            "  warnings.warn(\n"
          ]
        },
        {
          "output_type": "display_data",
          "data": {
            "text/plain": [
              "<Figure size 1200x800 with 1 Axes>"
            ],
            "image/png": "[encoded data removed]"
          },
          "metadata": {}
        }
      ]
    },
    {
      "cell_type": "code",
      "source": [
        "from sklearn.preprocessing import OneHotEncoder\n",
        "# codificar los datos con one-hot encoder\n",
        "ohe = OneHotEncoder()\n",
        "data_ohe = pd.DataFrame(ohe.fit_transform(data).toarray())\n",
        "\n",
        "# ajustar el modelo de clustering con hamming\n",
        "model_2 = AgglomerativeClustering(n_clusters=n_clusters, linkage=linkage_2, affinity='hamming')\n",
        "clusters_2 = model_2.fit_predict(data_ohe)\n",
        "\n",
        "# crear un dendrograma\n",
        "Z_2 = linkage(data_ohe, method='ward', metric='hamming')\n",
        "plt.figure(figsize=(12, 8))\n",
        "plt.title('Dendrograma con OneHotEncoder y Hamming')\n",
        "plt.xlabel('Índice de candidatos')\n",
        "plt.ylabel('Distancia')\n",
        "dendrogram(Z_2, leaf_rotation=90., leaf_font_size=8., truncate_mode='lastp', p=20)\n",
        "plt.show()"
      ],
      "metadata": {
        "id": "XOB6Gy1NIBYS",
        "outputId": "57073729-9fbb-43bf-f532-0574d6c88c9a",
        "colab": {
          "base_uri": "https://localhost:8080/",
          "height": 428
        }
      },
      "id": "XOB6Gy1NIBYS",
      "execution_count": null,
      "outputs": [
        {
          "output_type": "stream",
          "name": "stderr",
          "text": [
            "/usr/local/lib/python3.10/dist-packages/sklearn/cluster/_agglomerative.py:983: FutureWarning: Attribute `affinity` was deprecated in version 1.2 and will be removed in 1.4. Use `metric` instead\n",
            "  warnings.warn(\n"
          ]
        },
        {
          "output_type": "error",
          "ename": "ValueError",
          "evalue": "ignored",
          "traceback": [
            "\u001b[0;31m---------------------------------------------------------------------------\u001b[0m",
            "\u001b[0;31mValueError\u001b[0m                                Traceback (most recent call last)",
            "\u001b[0;32m<ipython-input-27-d2a014dcacfe>\u001b[0m in \u001b[0;36m<cell line: 11>\u001b[0;34m()\u001b[0m\n\u001b[1;32m      9\u001b[0m \u001b[0;34m\u001b[0m\u001b[0m\n\u001b[1;32m     10\u001b[0m \u001b[0;31m# crear un dendrograma\u001b[0m\u001b[0;34m\u001b[0m\u001b[0;34m\u001b[0m\u001b[0m\n\u001b[0;32m---> 11\u001b[0;31m \u001b[0mZ_2\u001b[0m \u001b[0;34m=\u001b[0m \u001b[0mlinkage\u001b[0m\u001b[0;34m(\u001b[0m\u001b[0mdata_ohe\u001b[0m\u001b[0;34m,\u001b[0m \u001b[0mmethod\u001b[0m\u001b[0;34m=\u001b[0m\u001b[0;34m'ward'\u001b[0m\u001b[0;34m,\u001b[0m \u001b[0mmetric\u001b[0m\u001b[0;34m=\u001b[0m\u001b[0;34m'hamming'\u001b[0m\u001b[0;34m)\u001b[0m\u001b[0;34m\u001b[0m\u001b[0;34m\u001b[0m\u001b[0m\n\u001b[0m\u001b[1;32m     12\u001b[0m \u001b[0mplt\u001b[0m\u001b[0;34m.\u001b[0m\u001b[0mfigure\u001b[0m\u001b[0;34m(\u001b[0m\u001b[0mfigsize\u001b[0m\u001b[0;34m=\u001b[0m\u001b[0;34m(\u001b[0m\u001b[0;36m12\u001b[0m\u001b[0;34m,\u001b[0m \u001b[0;36m8\u001b[0m\u001b[0;34m)\u001b[0m\u001b[0;34m)\u001b[0m\u001b[0;34m\u001b[0m\u001b[0;34m\u001b[0m\u001b[0m\n\u001b[1;32m     13\u001b[0m \u001b[0mplt\u001b[0m\u001b[0;34m.\u001b[0m\u001b[0mtitle\u001b[0m\u001b[0;34m(\u001b[0m\u001b[0;34m'Dendrograma con OneHotEncoder y Hamming'\u001b[0m\u001b[0;34m)\u001b[0m\u001b[0;34m\u001b[0m\u001b[0;34m\u001b[0m\u001b[0m\n",
            "\u001b[0;32m/usr/local/lib/python3.10/dist-packages/scipy/cluster/hierarchy.py\u001b[0m in \u001b[0;36mlinkage\u001b[0;34m(y, method, metric, optimal_ordering)\u001b[0m\n\u001b[1;32m   1051\u001b[0m     \u001b[0;32melif\u001b[0m \u001b[0my\u001b[0m\u001b[0;34m.\u001b[0m\u001b[0mndim\u001b[0m \u001b[0;34m==\u001b[0m \u001b[0;36m2\u001b[0m\u001b[0;34m:\u001b[0m\u001b[0;34m\u001b[0m\u001b[0;34m\u001b[0m\u001b[0m\n\u001b[1;32m   1052\u001b[0m         \u001b[0;32mif\u001b[0m \u001b[0mmethod\u001b[0m \u001b[0;32min\u001b[0m \u001b[0m_EUCLIDEAN_METHODS\u001b[0m \u001b[0;32mand\u001b[0m \u001b[0mmetric\u001b[0m \u001b[0;34m!=\u001b[0m \u001b[0;34m'euclidean'\u001b[0m\u001b[0;34m:\u001b[0m\u001b[0;34m\u001b[0m\u001b[0;34m\u001b[0m\u001b[0m\n\u001b[0;32m-> 1053\u001b[0;31m             raise ValueError(\"Method '{0}' requires the distance metric \"\n\u001b[0m\u001b[1;32m   1054\u001b[0m                              \"to be Euclidean\".format(method))\n\u001b[1;32m   1055\u001b[0m         \u001b[0;32mif\u001b[0m \u001b[0my\u001b[0m\u001b[0;34m.\u001b[0m\u001b[0mshape\u001b[0m\u001b[0;34m[\u001b[0m\u001b[0;36m0\u001b[0m\u001b[0;34m]\u001b[0m \u001b[0;34m==\u001b[0m \u001b[0my\u001b[0m\u001b[0;34m.\u001b[0m\u001b[0mshape\u001b[0m\u001b[0;34m[\u001b[0m\u001b[0;36m1\u001b[0m\u001b[0;34m]\u001b[0m \u001b[0;32mand\u001b[0m \u001b[0mnp\u001b[0m\u001b[0;34m.\u001b[0m\u001b[0mallclose\u001b[0m\u001b[0;34m(\u001b[0m\u001b[0mnp\u001b[0m\u001b[0;34m.\u001b[0m\u001b[0mdiag\u001b[0m\u001b[0;34m(\u001b[0m\u001b[0my\u001b[0m\u001b[0;34m)\u001b[0m\u001b[0;34m,\u001b[0m \u001b[0;36m0\u001b[0m\u001b[0;34m)\u001b[0m\u001b[0;34m:\u001b[0m\u001b[0;34m\u001b[0m\u001b[0;34m\u001b[0m\u001b[0m\n",
            "\u001b[0;31mValueError\u001b[0m: Method 'ward' requires the distance metric to be Euclidean"
          ]
        }
      ]
    }
  ],
  "metadata": {
    "kernelspec": {
      "display_name": "Python 3 (ipykernel)",
      "language": "python",
      "name": "python3"
    },
    "language_info": {
      "codemirror_mode": {
        "name": "ipython",
        "version": 3
      },
      "file_extension": ".py",
      "mimetype": "text/x-python",
      "name": "python",
      "nbconvert_exporter": "python",
      "pygments_lexer": "ipython3",
      "version": "3.8.8"
    },
    "colab": {
      "provenance": []
    }
  },
  "nbformat": 4,
  "nbformat_minor": 5
}