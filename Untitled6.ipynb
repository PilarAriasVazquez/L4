{
  "cells": [
    {
      "cell_type": "markdown",
      "source": [
        "PILAR ARIAS, YEDRA MARTÍN, PATRICIA MEDIAVILLA, AMAYA SARASA\n",
        "\n",
        "<GRUPO 9>"
      ],
      "metadata": {
        "id": "lz5qtoBQK-AV"
      },
      "id": "lz5qtoBQK-AV"
    },
    {
      "cell_type": "markdown",
      "source": [
        "#Práctica 3"
      ],
      "metadata": {
        "id": "xSofsfjxLAGE"
      },
      "id": "xSofsfjxLAGE"
    },
    {
      "cell_type": "markdown",
      "source": [
        "##Introducción"
      ],
      "metadata": {
        "id": "mE103JmILBHC"
      },
      "id": "mE103JmILBHC"
    },
    {
      "cell_type": "markdown",
      "source": [
        "Es la tercera práctica del cuarto laboratorio. Dada una base de datos en formato .csv, se nos pide contestar a una serie de cuestiones. Para ello, lo primero que debemos hacer es cargar y leer la base de datos junto a las librerías necesarias: "
      ],
      "metadata": {
        "id": "15goObVTLCBF"
      },
      "id": "15goObVTLCBF"
    },
    {
      "cell_type": "code",
      "execution_count": 89,
      "id": "ab2a6a21",
      "metadata": {
        "id": "ab2a6a21",
        "outputId": "5f079987-56e7-4666-d9c4-43837f0b5927",
        "colab": {
          "base_uri": "https://localhost:8080/",
          "height": 548
        }
      },
      "outputs": [
        {
          "output_type": "stream",
          "name": "stdout",
          "text": [
            "<class 'pandas.core.frame.DataFrame'>\n",
            "RangeIndex: 12960 entries, 0 to 12959\n",
            "Data columns (total 9 columns):\n",
            " #   Column              Non-Null Count  Dtype \n",
            "---  ------              --------------  ----- \n",
            " 0   parents_occupation  12960 non-null  object\n",
            " 1   childs_nursery      12960 non-null  object\n",
            " 2   family_form         12960 non-null  object\n",
            " 3   number_children     12960 non-null  object\n",
            " 4   housing_conditions  12960 non-null  object\n",
            " 5   financial_standing  12960 non-null  object\n",
            " 6   social_conditions   12960 non-null  object\n",
            " 7   health_conditions   12960 non-null  object\n",
            " 8   recommendation      12960 non-null  object\n",
            "dtypes: object(9)\n",
            "memory usage: 911.4+ KB\n"
          ]
        },
        {
          "output_type": "execute_result",
          "data": {
            "text/plain": [
              "  parents_occupation childs_nursery family_form number_children  \\\n",
              "0              usual         proper    complete               1   \n",
              "1              usual         proper    complete               1   \n",
              "2              usual         proper    complete               1   \n",
              "3              usual         proper    complete               1   \n",
              "4              usual         proper    complete               1   \n",
              "\n",
              "  housing_conditions financial_standing social_conditions health_conditions  \\\n",
              "0         convenient         convenient           nonprob       recommended   \n",
              "1         convenient         convenient           nonprob          priority   \n",
              "2         convenient         convenient           nonprob         not_recom   \n",
              "3         convenient         convenient     slightly_prob       recommended   \n",
              "4         convenient         convenient     slightly_prob          priority   \n",
              "\n",
              "  recommendation  \n",
              "0      recommend  \n",
              "1       priority  \n",
              "2      not_recom  \n",
              "3      recommend  \n",
              "4       priority  "
            ],
            "text/html": [
              "\n",
              "  <div id=\"df-bdd419db-4f34-4390-9b8d-bca6bd1691e5\">\n",
              "    <div class=\"colab-df-container\">\n",
              "      <div>\n",
              "<style scoped>\n",
              "    .dataframe tbody tr th:only-of-type {\n",
              "        vertical-align: middle;\n",
              "    }\n",
              "\n",
              "    .dataframe tbody tr th {\n",
              "        vertical-align: top;\n",
              "    }\n",
              "\n",
              "    .dataframe thead th {\n",
              "        text-align: right;\n",
              "    }\n",
              "</style>\n",
              "<table border=\"1\" class=\"dataframe\">\n",
              "  <thead>\n",
              "    <tr style=\"text-align: right;\">\n",
              "      <th></th>\n",
              "      <th>parents_occupation</th>\n",
              "      <th>childs_nursery</th>\n",
              "      <th>family_form</th>\n",
              "      <th>number_children</th>\n",
              "      <th>housing_conditions</th>\n",
              "      <th>financial_standing</th>\n",
              "      <th>social_conditions</th>\n",
              "      <th>health_conditions</th>\n",
              "      <th>recommendation</th>\n",
              "    </tr>\n",
              "  </thead>\n",
              "  <tbody>\n",
              "    <tr>\n",
              "      <th>0</th>\n",
              "      <td>usual</td>\n",
              "      <td>proper</td>\n",
              "      <td>complete</td>\n",
              "      <td>1</td>\n",
              "      <td>convenient</td>\n",
              "      <td>convenient</td>\n",
              "      <td>nonprob</td>\n",
              "      <td>recommended</td>\n",
              "      <td>recommend</td>\n",
              "    </tr>\n",
              "    <tr>\n",
              "      <th>1</th>\n",
              "      <td>usual</td>\n",
              "      <td>proper</td>\n",
              "      <td>complete</td>\n",
              "      <td>1</td>\n",
              "      <td>convenient</td>\n",
              "      <td>convenient</td>\n",
              "      <td>nonprob</td>\n",
              "      <td>priority</td>\n",
              "      <td>priority</td>\n",
              "    </tr>\n",
              "    <tr>\n",
              "      <th>2</th>\n",
              "      <td>usual</td>\n",
              "      <td>proper</td>\n",
              "      <td>complete</td>\n",
              "      <td>1</td>\n",
              "      <td>convenient</td>\n",
              "      <td>convenient</td>\n",
              "      <td>nonprob</td>\n",
              "      <td>not_recom</td>\n",
              "      <td>not_recom</td>\n",
              "    </tr>\n",
              "    <tr>\n",
              "      <th>3</th>\n",
              "      <td>usual</td>\n",
              "      <td>proper</td>\n",
              "      <td>complete</td>\n",
              "      <td>1</td>\n",
              "      <td>convenient</td>\n",
              "      <td>convenient</td>\n",
              "      <td>slightly_prob</td>\n",
              "      <td>recommended</td>\n",
              "      <td>recommend</td>\n",
              "    </tr>\n",
              "    <tr>\n",
              "      <th>4</th>\n",
              "      <td>usual</td>\n",
              "      <td>proper</td>\n",
              "      <td>complete</td>\n",
              "      <td>1</td>\n",
              "      <td>convenient</td>\n",
              "      <td>convenient</td>\n",
              "      <td>slightly_prob</td>\n",
              "      <td>priority</td>\n",
              "      <td>priority</td>\n",
              "    </tr>\n",
              "  </tbody>\n",
              "</table>\n",
              "</div>\n",
              "      <button class=\"colab-df-convert\" onclick=\"convertToInteractive('df-bdd419db-4f34-4390-9b8d-bca6bd1691e5')\"\n",
              "              title=\"Convert this dataframe to an interactive table.\"\n",
              "              style=\"display:none;\">\n",
              "        \n",
              "  <svg xmlns=\"http://www.w3.org/2000/svg\" height=\"24px\"viewBox=\"0 0 24 24\"\n",
              "       width=\"24px\">\n",
              "    <path d=\"M0 0h24v24H0V0z\" fill=\"none\"/>\n",
              "    <path d=\"M18.56 5.44l.94 2.06.94-2.06 2.06-.94-2.06-.94-.94-2.06-.94 2.06-2.06.94zm-11 1L8.5 8.5l.94-2.06 2.06-.94-2.06-.94L8.5 2.5l-.94 2.06-2.06.94zm10 10l.94 2.06.94-2.06 2.06-.94-2.06-.94-.94-2.06-.94 2.06-2.06.94z\"/><path d=\"M17.41 7.96l-1.37-1.37c-.4-.4-.92-.59-1.43-.59-.52 0-1.04.2-1.43.59L10.3 9.45l-7.72 7.72c-.78.78-.78 2.05 0 2.83L4 21.41c.39.39.9.59 1.41.59.51 0 1.02-.2 1.41-.59l7.78-7.78 2.81-2.81c.8-.78.8-2.07 0-2.86zM5.41 20L4 18.59l7.72-7.72 1.47 1.35L5.41 20z\"/>\n",
              "  </svg>\n",
              "      </button>\n",
              "      \n",
              "  <style>\n",
              "    .colab-df-container {\n",
              "      display:flex;\n",
              "      flex-wrap:wrap;\n",
              "      gap: 12px;\n",
              "    }\n",
              "\n",
              "    .colab-df-convert {\n",
              "      background-color: #E8F0FE;\n",
              "      border: none;\n",
              "      border-radius: 50%;\n",
              "      cursor: pointer;\n",
              "      display: none;\n",
              "      fill: #1967D2;\n",
              "      height: 32px;\n",
              "      padding: 0 0 0 0;\n",
              "      width: 32px;\n",
              "    }\n",
              "\n",
              "    .colab-df-convert:hover {\n",
              "      background-color: #E2EBFA;\n",
              "      box-shadow: 0px 1px 2px rgba(60, 64, 67, 0.3), 0px 1px 3px 1px rgba(60, 64, 67, 0.15);\n",
              "      fill: #174EA6;\n",
              "    }\n",
              "\n",
              "    [theme=dark] .colab-df-convert {\n",
              "      background-color: #3B4455;\n",
              "      fill: #D2E3FC;\n",
              "    }\n",
              "\n",
              "    [theme=dark] .colab-df-convert:hover {\n",
              "      background-color: #434B5C;\n",
              "      box-shadow: 0px 1px 3px 1px rgba(0, 0, 0, 0.15);\n",
              "      filter: drop-shadow(0px 1px 2px rgba(0, 0, 0, 0.3));\n",
              "      fill: #FFFFFF;\n",
              "    }\n",
              "  </style>\n",
              "\n",
              "      <script>\n",
              "        const buttonEl =\n",
              "          document.querySelector('#df-bdd419db-4f34-4390-9b8d-bca6bd1691e5 button.colab-df-convert');\n",
              "        buttonEl.style.display =\n",
              "          google.colab.kernel.accessAllowed ? 'block' : 'none';\n",
              "\n",
              "        async function convertToInteractive(key) {\n",
              "          const element = document.querySelector('#df-bdd419db-4f34-4390-9b8d-bca6bd1691e5');\n",
              "          const dataTable =\n",
              "            await google.colab.kernel.invokeFunction('convertToInteractive',\n",
              "                                                     [key], {});\n",
              "          if (!dataTable) return;\n",
              "\n",
              "          const docLinkHtml = 'Like what you see? Visit the ' +\n",
              "            '<a target=\"_blank\" href=https://colab.research.google.com/notebooks/data_table.ipynb>data table notebook</a>'\n",
              "            + ' to learn more about interactive tables.';\n",
              "          element.innerHTML = '';\n",
              "          dataTable['output_type'] = 'display_data';\n",
              "          await google.colab.output.renderOutput(dataTable, element);\n",
              "          const docLink = document.createElement('div');\n",
              "          docLink.innerHTML = docLinkHtml;\n",
              "          element.appendChild(docLink);\n",
              "        }\n",
              "      </script>\n",
              "    </div>\n",
              "  </div>\n",
              "  "
            ]
          },
          "metadata": {},
          "execution_count": 89
        }
      ],
      "source": [
        "#Importar librerías\n",
        "import numpy as np \n",
        "import pandas as pd \n",
        "import sklearn as sk \n",
        "import matplotlib.pyplot as plt \n",
        "from sklearn.cluster import AgglomerativeClustering\n",
        "from sklearn.metrics import silhouette_score\n",
        "from sklearn.preprocessing import LabelEncoder \n",
        "from scipy.cluster.hierarchy import dendrogram, linkage, fcluster\n",
        "import scipy.cluster.hierarchy as sch\n",
        "\n",
        "\n",
        "\n",
        "#Importamos la base de datos\n",
        "df = pd.read_csv('enfermeria.csv', encoding = 'latin_1')\n",
        "df.info()\n",
        "df.head()"
      ]
    },
    {
      "cell_type": "markdown",
      "source": [
        "Gracias a la función data.info(), se observa que se está trabajando con un total de 12960 observaciones, mientras que con data.head() se visualiza la forma que tiene la base de datos y las primeras filas de esta. "
      ],
      "metadata": {
        "id": "PvPqfYd_Lk53"
      },
      "id": "PvPqfYd_Lk53"
    },
    {
      "cell_type": "markdown",
      "source": [
        "Según se ha estudiado, destacamos dos métodos para afrontar un proyecto, KDD (Knowledge Discovery in Databases) y CRIPS-DM (Cross-Industry Standard Process for Data Mining). En este caso, para enfrentarlo, se utilizará CRISP-DM, ya que consiste en un método no acádemico, y se considera que es el más apropiado para esta práctica."
      ],
      "metadata": {
        "id": "-s_SuvqTLpuy"
      },
      "id": "-s_SuvqTLpuy"
    },
    {
      "cell_type": "markdown",
      "source": [
        "Es un marco de trabajo que define un proceso estandarizado para llevar a cabo proyectos de minería de datos, desde la definición del problema hasta la implementación y evaluación del resultado. Los seis pasos que componen Crisp-DM son los siguientes:\n",
        "\n",
        "- Comprensión de los negocios y definición del problema: comprender la naturaleza del problema y los objetivos de negocio.\n",
        "\n",
        "- Comprensión de los datos: recopilación inicial, descripción y exploración de datos.\n",
        "\n",
        "- Preparación de los datos: Selección, limpieza, construcción, integración, formateo de los datos.\n",
        "\n",
        "- Modelado: aplicar las técnicas de minería de datos a los dataset.\n",
        "\n",
        "- Evaluación: determinar si los resultados son útiles a las necesidades del negocio.\n",
        "\n",
        "- Despliegue: explotar utilidad de los modelos, integrándolos en las tareas de toma de decisiones de la organización -> Call to Action."
      ],
      "metadata": {
        "id": "Ylwf1V_3Lrf3"
      },
      "id": "Ylwf1V_3Lrf3"
    },
    {
      "cell_type": "markdown",
      "source": [
        "## Comprensión de los negocios y definición del problema"
      ],
      "metadata": {
        "id": "0iyVmAY5LsyC"
      },
      "id": "0iyVmAY5LsyC"
    },
    {
      "cell_type": "markdown",
      "source": [
        "Una empresa de colocación de trabajadores pretende hacer una aplicación para ser más eficiente en los enfermeros y enfermeras que asignan para cuidados en hogares. Para ello se dispone del archivo csv “enfermeria” con las características de las distintas personas que pueden optar a los puestos. Crear un modelo que agrupe los candidatos y establezca como se relacionan entre ellos jerárquicamente.\n",
        "\n",
        "1) Utiliza varias configuraciones para el modelo que más se adapte y teniendo en cuenta los tipos de distancias entre elementos. ¿Cuál es la k del modelo? \n",
        "\n",
        "2) Dibuja un dendograma con los clusters obtenidos. Explica alguna de las relaciones interesantes que puedas encontrar. "
      ],
      "metadata": {
        "id": "IfsTWP4RLw2U"
      },
      "id": "IfsTWP4RLw2U"
    },
    {
      "cell_type": "markdown",
      "source": [
        "## Comprensión de los datos"
      ],
      "metadata": {
        "id": "50BVIveGL35v"
      },
      "id": "50BVIveGL35v"
    },
    {
      "cell_type": "markdown",
      "source": [
        "Se van a imprimir todos los valores que adoptan las variables, para obtener una mejor interpretación de estas. "
      ],
      "metadata": {
        "id": "wuRTD83Tb_7R"
      },
      "id": "wuRTD83Tb_7R"
    },
    {
      "cell_type": "code",
      "source": [
        "print(df['parents_occupation'].value_counts())\n",
        "print(df['childs_nursery'].value_counts())\n",
        "print(df['family_form'].value_counts())\n",
        "print(df['number_children'].value_counts())\n",
        "print(df['housing_conditions'].value_counts())\n",
        "print(df['financial_standing'].value_counts())\n",
        "print(df['social_conditions'].value_counts())\n",
        "print(df['health_conditions'].value_counts())\n",
        "print(df['recommendation'].value_counts())"
      ],
      "metadata": {
        "colab": {
          "base_uri": "https://localhost:8080/"
        },
        "id": "caAzn9-ppr-3",
        "outputId": "345eeffe-4f41-4b2a-df14-9ec6f3c54209"
      },
      "id": "caAzn9-ppr-3",
      "execution_count": 90,
      "outputs": [
        {
          "output_type": "stream",
          "name": "stdout",
          "text": [
            "usual          4320\n",
            "pretentious    4320\n",
            "great_pret     4320\n",
            "Name: parents_occupation, dtype: int64\n",
            "proper         2592\n",
            "less_proper    2592\n",
            "improper       2592\n",
            "critical       2592\n",
            "very_crit      2592\n",
            "Name: childs_nursery, dtype: int64\n",
            "complete      3240\n",
            "completed     3240\n",
            "incomplete    3240\n",
            "foster        3240\n",
            "Name: family_form, dtype: int64\n",
            "1       3240\n",
            "2       3240\n",
            "3       3240\n",
            "more    3240\n",
            "Name: number_children, dtype: int64\n",
            "convenient    4320\n",
            "less_conv     4320\n",
            "critical      4320\n",
            "Name: housing_conditions, dtype: int64\n",
            "convenient    6480\n",
            "inconv        6480\n",
            "Name: financial_standing, dtype: int64\n",
            "nonprob          4320\n",
            "slightly_prob    4320\n",
            "problematic      4320\n",
            "Name: social_conditions, dtype: int64\n",
            "recommended    4320\n",
            "priority       4320\n",
            "not_recom      4320\n",
            "Name: health_conditions, dtype: int64\n",
            "not_recom     4320\n",
            "priority      4266\n",
            "spec_prior    4044\n",
            "very_recom     328\n",
            "recommend        2\n",
            "Name: recommendation, dtype: int64\n"
          ]
        }
      ]
    },
    {
      "cell_type": "markdown",
      "source": [
        "En esta base de datos se recoge información sobre las siguientes variables. No se cuenta con una interpretación previa sobre las variables, por lo que se intuye el significado que se especifica:\n",
        "- parents_occupation: la profesión de los padres\n",
        "- childs_nursery: calidad de los servicios de cuidado infantil, desde muy adecuados y seguros, hasta peligrosos e inadecuados\n",
        "- family_form \n",
        "- number_children: la cantidad de hijos que tiene la familia, medida en: 1,2,3 o más\n",
        "- housing_conditions: estado en el que se encuentra la casa\n",
        "- financial_standing: estado financiero de la familia\n",
        "- social_conditions: estado social de la familia\n",
        "- health_conditions: estado de salud\n",
        "- recommendation: el orden de recomendación para que la familia reciba la ayuda de un enfermero"
      ],
      "metadata": {
        "id": "90fMa8pPYtBZ"
      },
      "id": "90fMa8pPYtBZ"
    },
    {
      "cell_type": "markdown",
      "source": [
        "## Preparación de los datos"
      ],
      "metadata": {
        "id": "nD_0DCv3bzfe"
      },
      "id": "nD_0DCv3bzfe"
    },
    {
      "cell_type": "markdown",
      "source": [
        "Primeramente se debe estudiar la cantidad de NaN's que contenga la base de datos. Para ello se imprimirá la suma total."
      ],
      "metadata": {
        "id": "dWOhXQ8Qb2HO"
      },
      "id": "dWOhXQ8Qb2HO"
    },
    {
      "cell_type": "code",
      "source": [
        "df.isnull().values.any()"
      ],
      "metadata": {
        "id": "LOslmnEUHSp8",
        "outputId": "582931f2-76a3-4669-a5e8-193179025271",
        "colab": {
          "base_uri": "https://localhost:8080/"
        }
      },
      "id": "LOslmnEUHSp8",
      "execution_count": 91,
      "outputs": [
        {
          "output_type": "execute_result",
          "data": {
            "text/plain": [
              "False"
            ]
          },
          "metadata": {},
          "execution_count": 91
        }
      ]
    },
    {
      "cell_type": "markdown",
      "source": [
        "Ya vemos por tanto que la suma total es 0, por lo que se puede proceder a la codificación de las etiquetas de los posibles valores de las variables. Para ello hacemos uso de la siguiente función:  le.fit_transform. De esta manera, trabajamos con números enteros en vez de strings, así se puede calcular la distancia entre ellas. Imprimimos además la base de datos para ver si se ha codificado de manera correcta."
      ],
      "metadata": {
        "id": "pcpJ-ZmLcIJr"
      },
      "id": "pcpJ-ZmLcIJr"
    },
    {
      "cell_type": "code",
      "source": [
        "le = LabelEncoder()\n",
        "for col in df.columns: #Cambiar los strings del dataframe de x\n",
        "    if df[col].dtype == 'object':\n",
        "        data[col] = le.fit_transform(df[col])\n",
        "data.head()   "
      ],
      "metadata": {
        "id": "NVFImL4mHZP2",
        "outputId": "1a0687a7-4695-46cc-9af5-062ae9fb78e6",
        "colab": {
          "base_uri": "https://localhost:8080/",
          "height": 270
        }
      },
      "id": "NVFImL4mHZP2",
      "execution_count": 92,
      "outputs": [
        {
          "output_type": "execute_result",
          "data": {
            "text/plain": [
              "   parents_occupation  childs_nursery  family_form  number_children  \\\n",
              "0                   2               3            0                0   \n",
              "1                   2               3            0                0   \n",
              "2                   2               3            0                0   \n",
              "3                   2               3            0                0   \n",
              "4                   2               3            0                0   \n",
              "\n",
              "   housing_conditions  financial_standing  social_conditions  \\\n",
              "0                   0                   0                  0   \n",
              "1                   0                   0                  0   \n",
              "2                   0                   0                  0   \n",
              "3                   0                   0                  2   \n",
              "4                   0                   0                  2   \n",
              "\n",
              "   health_conditions  recommendation  Cluster  \n",
              "0                  2               2        0  \n",
              "1                  1               1        0  \n",
              "2                  0               0        0  \n",
              "3                  2               2        0  \n",
              "4                  1               1        0  "
            ],
            "text/html": [
              "\n",
              "  <div id=\"df-0ac8151a-2c03-4ee6-9a59-0d40b2ee0bf1\">\n",
              "    <div class=\"colab-df-container\">\n",
              "      <div>\n",
              "<style scoped>\n",
              "    .dataframe tbody tr th:only-of-type {\n",
              "        vertical-align: middle;\n",
              "    }\n",
              "\n",
              "    .dataframe tbody tr th {\n",
              "        vertical-align: top;\n",
              "    }\n",
              "\n",
              "    .dataframe thead th {\n",
              "        text-align: right;\n",
              "    }\n",
              "</style>\n",
              "<table border=\"1\" class=\"dataframe\">\n",
              "  <thead>\n",
              "    <tr style=\"text-align: right;\">\n",
              "      <th></th>\n",
              "      <th>parents_occupation</th>\n",
              "      <th>childs_nursery</th>\n",
              "      <th>family_form</th>\n",
              "      <th>number_children</th>\n",
              "      <th>housing_conditions</th>\n",
              "      <th>financial_standing</th>\n",
              "      <th>social_conditions</th>\n",
              "      <th>health_conditions</th>\n",
              "      <th>recommendation</th>\n",
              "      <th>Cluster</th>\n",
              "    </tr>\n",
              "  </thead>\n",
              "  <tbody>\n",
              "    <tr>\n",
              "      <th>0</th>\n",
              "      <td>2</td>\n",
              "      <td>3</td>\n",
              "      <td>0</td>\n",
              "      <td>0</td>\n",
              "      <td>0</td>\n",
              "      <td>0</td>\n",
              "      <td>0</td>\n",
              "      <td>2</td>\n",
              "      <td>2</td>\n",
              "      <td>0</td>\n",
              "    </tr>\n",
              "    <tr>\n",
              "      <th>1</th>\n",
              "      <td>2</td>\n",
              "      <td>3</td>\n",
              "      <td>0</td>\n",
              "      <td>0</td>\n",
              "      <td>0</td>\n",
              "      <td>0</td>\n",
              "      <td>0</td>\n",
              "      <td>1</td>\n",
              "      <td>1</td>\n",
              "      <td>0</td>\n",
              "    </tr>\n",
              "    <tr>\n",
              "      <th>2</th>\n",
              "      <td>2</td>\n",
              "      <td>3</td>\n",
              "      <td>0</td>\n",
              "      <td>0</td>\n",
              "      <td>0</td>\n",
              "      <td>0</td>\n",
              "      <td>0</td>\n",
              "      <td>0</td>\n",
              "      <td>0</td>\n",
              "      <td>0</td>\n",
              "    </tr>\n",
              "    <tr>\n",
              "      <th>3</th>\n",
              "      <td>2</td>\n",
              "      <td>3</td>\n",
              "      <td>0</td>\n",
              "      <td>0</td>\n",
              "      <td>0</td>\n",
              "      <td>0</td>\n",
              "      <td>2</td>\n",
              "      <td>2</td>\n",
              "      <td>2</td>\n",
              "      <td>0</td>\n",
              "    </tr>\n",
              "    <tr>\n",
              "      <th>4</th>\n",
              "      <td>2</td>\n",
              "      <td>3</td>\n",
              "      <td>0</td>\n",
              "      <td>0</td>\n",
              "      <td>0</td>\n",
              "      <td>0</td>\n",
              "      <td>2</td>\n",
              "      <td>1</td>\n",
              "      <td>1</td>\n",
              "      <td>0</td>\n",
              "    </tr>\n",
              "  </tbody>\n",
              "</table>\n",
              "</div>\n",
              "      <button class=\"colab-df-convert\" onclick=\"convertToInteractive('df-0ac8151a-2c03-4ee6-9a59-0d40b2ee0bf1')\"\n",
              "              title=\"Convert this dataframe to an interactive table.\"\n",
              "              style=\"display:none;\">\n",
              "        \n",
              "  <svg xmlns=\"http://www.w3.org/2000/svg\" height=\"24px\"viewBox=\"0 0 24 24\"\n",
              "       width=\"24px\">\n",
              "    <path d=\"M0 0h24v24H0V0z\" fill=\"none\"/>\n",
              "    <path d=\"M18.56 5.44l.94 2.06.94-2.06 2.06-.94-2.06-.94-.94-2.06-.94 2.06-2.06.94zm-11 1L8.5 8.5l.94-2.06 2.06-.94-2.06-.94L8.5 2.5l-.94 2.06-2.06.94zm10 10l.94 2.06.94-2.06 2.06-.94-2.06-.94-.94-2.06-.94 2.06-2.06.94z\"/><path d=\"M17.41 7.96l-1.37-1.37c-.4-.4-.92-.59-1.43-.59-.52 0-1.04.2-1.43.59L10.3 9.45l-7.72 7.72c-.78.78-.78 2.05 0 2.83L4 21.41c.39.39.9.59 1.41.59.51 0 1.02-.2 1.41-.59l7.78-7.78 2.81-2.81c.8-.78.8-2.07 0-2.86zM5.41 20L4 18.59l7.72-7.72 1.47 1.35L5.41 20z\"/>\n",
              "  </svg>\n",
              "      </button>\n",
              "      \n",
              "  <style>\n",
              "    .colab-df-container {\n",
              "      display:flex;\n",
              "      flex-wrap:wrap;\n",
              "      gap: 12px;\n",
              "    }\n",
              "\n",
              "    .colab-df-convert {\n",
              "      background-color: #E8F0FE;\n",
              "      border: none;\n",
              "      border-radius: 50%;\n",
              "      cursor: pointer;\n",
              "      display: none;\n",
              "      fill: #1967D2;\n",
              "      height: 32px;\n",
              "      padding: 0 0 0 0;\n",
              "      width: 32px;\n",
              "    }\n",
              "\n",
              "    .colab-df-convert:hover {\n",
              "      background-color: #E2EBFA;\n",
              "      box-shadow: 0px 1px 2px rgba(60, 64, 67, 0.3), 0px 1px 3px 1px rgba(60, 64, 67, 0.15);\n",
              "      fill: #174EA6;\n",
              "    }\n",
              "\n",
              "    [theme=dark] .colab-df-convert {\n",
              "      background-color: #3B4455;\n",
              "      fill: #D2E3FC;\n",
              "    }\n",
              "\n",
              "    [theme=dark] .colab-df-convert:hover {\n",
              "      background-color: #434B5C;\n",
              "      box-shadow: 0px 1px 3px 1px rgba(0, 0, 0, 0.15);\n",
              "      filter: drop-shadow(0px 1px 2px rgba(0, 0, 0, 0.3));\n",
              "      fill: #FFFFFF;\n",
              "    }\n",
              "  </style>\n",
              "\n",
              "      <script>\n",
              "        const buttonEl =\n",
              "          document.querySelector('#df-0ac8151a-2c03-4ee6-9a59-0d40b2ee0bf1 button.colab-df-convert');\n",
              "        buttonEl.style.display =\n",
              "          google.colab.kernel.accessAllowed ? 'block' : 'none';\n",
              "\n",
              "        async function convertToInteractive(key) {\n",
              "          const element = document.querySelector('#df-0ac8151a-2c03-4ee6-9a59-0d40b2ee0bf1');\n",
              "          const dataTable =\n",
              "            await google.colab.kernel.invokeFunction('convertToInteractive',\n",
              "                                                     [key], {});\n",
              "          if (!dataTable) return;\n",
              "\n",
              "          const docLinkHtml = 'Like what you see? Visit the ' +\n",
              "            '<a target=\"_blank\" href=https://colab.research.google.com/notebooks/data_table.ipynb>data table notebook</a>'\n",
              "            + ' to learn more about interactive tables.';\n",
              "          element.innerHTML = '';\n",
              "          dataTable['output_type'] = 'display_data';\n",
              "          await google.colab.output.renderOutput(dataTable, element);\n",
              "          const docLink = document.createElement('div');\n",
              "          docLink.innerHTML = docLinkHtml;\n",
              "          element.appendChild(docLink);\n",
              "        }\n",
              "      </script>\n",
              "    </div>\n",
              "  </div>\n",
              "  "
            ]
          },
          "metadata": {},
          "execution_count": 92
        }
      ]
    },
    {
      "cell_type": "markdown",
      "source": [
        "Vemos que se ha ejecutado correctamente, por lo que se procede con la modelación de este."
      ],
      "metadata": {
        "id": "Tq8Cfw3HdF4R"
      },
      "id": "Tq8Cfw3HdF4R"
    },
    {
      "cell_type": "markdown",
      "source": [
        "## Modelación"
      ],
      "metadata": {
        "id": "nbnlUVJRd2lN"
      },
      "id": "nbnlUVJRd2lN"
    },
    {
      "cell_type": "markdown",
      "source": [
        "Se debe tener claro que en clustering jerárquico se produce un conjunto de clústeres anidados organizados con un árbol jerárquico, y que principalmente existen dos tipos: \n",
        "\n",
        "- Aglomerativo: Al inicio, cada punto es un clúster. En cada paso, se mezcla los pares de clústeres más cercanos entre sí en un único elemento.\n",
        "- Disociativo: Empezar con un clúster que incluya todo. En cada paso, dividir un clúster hasta que tengamos k clústeres o solo haya un punto por clúster.\n",
        "\n",
        "Ambos tipos de clústeres jerárquicos se representan en un dendrograma (se realiza posteriormente), que es un árbol que muestra la jerarquía de clústeres. En el dendrograma, cada nodo representa un clúster y la altura de los nodos indica la distancia o similitud entre los clústeres."
      ],
      "metadata": {
        "id": "4EtS2ZvLjIyI"
      },
      "id": "4EtS2ZvLjIyI"
    },
    {
      "cell_type": "markdown",
      "source": [
        "### Ejercicio 1"
      ],
      "metadata": {
        "id": "fr_E8G0tkzOM"
      },
      "id": "fr_E8G0tkzOM"
    },
    {
      "cell_type": "markdown",
      "source": [
        "Para la correcta modelación, se van a crear dos bucles. Uno que trate con las distancais euclídeas, y otro con la distancia manhattan. En cada bucle, se van a ir creando modelos gracias a la función: AgglomerativeClustering. Es un algoritmo de clustering jerárquico que comienza con cada punto de datos como un clúster y luego los fusiona gradualmente en grupos más grandes ( de tipo aglomerativo). En cada paso, el algoritmo fusiona los dos clústeres más cercanos en función de una métrica de distancia o similitud. El proceso de fusión se repite hasta que se forma un único clúster que contiene todos los puntos de datos. Este enfoque es conocido como \"bottom-up\" o \"aglomerativo\".\n",
        "\n",
        "En cada modelo, se va a proceder a trabajar con distintos valores de k=[2,3,4]. \n",
        "\n",
        "Esto se evaluará gracias a score silhouette, que consiste en determinar si los grupos son coherentes y si los puntos se han agrupado de manera apropiada. Es un valor nummérico entre -1 y 1, que mide qué tan similares son los puntos dentro de un cluster y qué tan diferentes son de los puntos de otros clusters. Un valor cercano a 1 indica que los puntos dentro de un cluster son muy similares entre sí y muy diferentes de los puntos en otros clusters, lo cual es lo deseable. \n",
        "\n",
        "El score_silhouette se calcula para cada punto, y el puntaje final del modelo es el promedio de los scores_silhouette de todos los puntos. \n",
        "\n",
        "Finalmente se imprimirán los valores de dicho criterio, y se definirá cómo óptimo un único modelo: "
      ],
      "metadata": {
        "id": "2hV0hxZlfGy9"
      },
      "id": "2hV0hxZlfGy9"
    },
    {
      "cell_type": "code",
      "source": [
        "# Definir valores para los parámetros\n",
        "num_clusters = [2, 3, 4]\n",
        "metricas = ['euclidean', 'manhattan']\n",
        "\n",
        "# Inicializar lista para almacenar resultados\n",
        "resultadosEuclidean = []\n",
        "resultadosManhattan = []\n",
        "\n",
        "# Iterar sobre valores de parámetros\n",
        "for n_clusters in num_clusters:\n",
        "      # Inicializar modelo con valores de parámetros actuales\n",
        "      modelo_euclidean = AgglomerativeClustering(n_clusters=n_clusters, metric='euclidean', linkage='ward')\n",
        "      # Entrenar modelo\n",
        "      modelo_euclidean.fit(data)\n",
        "      # Predecir clusters\n",
        "      predicciones_euclidean = modelo_euclidean.fit_predict(data)\n",
        "      # Calcular score silhouette\n",
        "      score_euclidean = silhouette_score(data, predicciones_euclidean)\n",
        "      # Almacenar resultados en lista\n",
        "      resultadosEuclidean.append((n_clusters, predicciones_euclidean, score_euclidean))\n",
        "\n",
        "\n",
        "\n",
        "# Iterar sobre valores de parámetros\n",
        "for n_clusters in num_clusters:\n",
        "        # Inicializar modelo con valores de parámetros actuales\n",
        "        modelo_manhattan = AgglomerativeClustering(n_clusters=n_clusters, metric='manhattan', compute_full_tree=True, linkage='complete')\n",
        "        # Entrenar modelo\n",
        "        modelo_manhattan.fit(data)\n",
        "        # Predecir clusters\n",
        "        predicciones_manhattan = modelo_manhattan.fit_predict(data)\n",
        "        # Calcular score silhouette\n",
        "        score_manhattan = silhouette_score(data, predicciones_manhattan)\n",
        "        # Almacenar resultados en lista\n",
        "        resultadosManhattan.append((n_clusters, predicciones_manhattan, score_manhattan))\n",
        "\n",
        "\n",
        "\n",
        "# Mostrar resultados\n",
        "print('Resultados con distancia euclidean:')\n",
        "for res in resultadosEuclidean:\n",
        "    print('Número de clusters:', res[0])\n",
        "    print('Predicciones:', res[1])\n",
        "    print('Score:', res[2])\n",
        "    print('')\n",
        "\n",
        "print('Resultados con distancia manhattan:')\n",
        "for res in resultadosManhattan:\n",
        "    print('Número de clusters:', res[0])\n",
        "    print('Predicciones:', res[1])\n",
        "    print('Score:', res[2])\n",
        "    print('')"
      ],
      "metadata": {
        "id": "B7wRTcSdd12V",
        "outputId": "3d6686aa-9ab8-4a2b-e49e-9c566261c264",
        "colab": {
          "base_uri": "https://localhost:8080/"
        }
      },
      "id": "B7wRTcSdd12V",
      "execution_count": 80,
      "outputs": [
        {
          "output_type": "stream",
          "name": "stdout",
          "text": [
            "Resultados con distancia euclidean:\n",
            "Número de clusters: 2\n",
            "Predicciones: [1 1 1 ... 0 0 1]\n",
            "Score: 0.189307953603608\n",
            "\n",
            "Número de clusters: 3\n",
            "Predicciones: [0 0 0 ... 1 1 0]\n",
            "Score: 0.17343580251679594\n",
            "\n",
            "Número de clusters: 4\n",
            "Predicciones: [0 0 0 ... 3 3 0]\n",
            "Score: 0.15221165581957358\n",
            "\n",
            "Resultados con distancia manhattan:\n",
            "Número de clusters: 2\n",
            "Predicciones: [0 0 0 ... 1 1 0]\n",
            "Score: 0.189307953603608\n",
            "\n",
            "Número de clusters: 3\n",
            "Predicciones: [0 0 0 ... 1 1 2]\n",
            "Score: 0.11275457972876789\n",
            "\n",
            "Número de clusters: 4\n",
            "Predicciones: [1 3 3 ... 0 0 2]\n",
            "Score: 0.06891358776805691\n",
            "\n"
          ]
        }
      ]
    },
    {
      "cell_type": "markdown",
      "source": [
        "Tras analizar los resultados, se llega a la conclusión de que el modelo más óptimo es k=2, haciendo uso de la distancia euclídea. Sin embargo, en la creación del modelo se hará uso de k=3, de esta manera se puede conseguir un análisis más concreto sobre las agrupaciones de los individuos, ya que de esta manera se puede conseguir una mejor interpretación y una mejor comprensión de los datos, así como una mayor flexibilidad en el análisis, ya que al tener más clústeres, es posible que se realicen análisis más detallados. "
      ],
      "metadata": {
        "id": "oicfRACVg57d"
      },
      "id": "oicfRACVg57d"
    },
    {
      "cell_type": "markdown",
      "source": [
        "Se procede a la creación del modelo, con k=3 y distancia euclídea. Para ello se hará uso de la función AgglomerativeClustering explicada anteriormente, en la que se define los parámetros, y 'linkage', que consite en una función que se utiliza para determinar la distancia entre dos clústeres. Hay varios tipos de linkage que pueden ser utilizados, como single linkage, complete linkage y average linkage. Cada uno de ellos utiliza diferentes métricas para calcular la distancia entre dos clústeres."
      ],
      "metadata": {
        "id": "vM7KGgWsiBHk"
      },
      "id": "vM7KGgWsiBHk"
    },
    {
      "cell_type": "code",
      "source": [
        "# Creamos el modelo\n",
        "modelo = AgglomerativeClustering(n_clusters=3, affinity='euclidean', linkage='ward')\n",
        "# Entrenamos el modelo\n",
        "modelo.fit(data)\n",
        "# Agregamos una nueva columna a la base de datos en la que se indique a qué cluster pertenece\n",
        "data['Cluster'] = modelo.labels_\n"
      ],
      "metadata": {
        "id": "ZrOGQxsuIWL8",
        "outputId": "c30ce1aa-7be4-4f6a-f1c1-688796bf0cfa",
        "colab": {
          "base_uri": "https://localhost:8080/"
        }
      },
      "id": "ZrOGQxsuIWL8",
      "execution_count": 81,
      "outputs": [
        {
          "output_type": "stream",
          "name": "stderr",
          "text": [
            "/usr/local/lib/python3.10/dist-packages/sklearn/cluster/_agglomerative.py:983: FutureWarning: Attribute `affinity` was deprecated in version 1.2 and will be removed in 1.4. Use `metric` instead\n",
            "  warnings.warn(\n"
          ]
        }
      ]
    },
    {
      "cell_type": "markdown",
      "source": [
        "Veamos cuántos individuos ha asignado a cada clúster:"
      ],
      "metadata": {
        "id": "fhRDB0WZqGq2"
      },
      "id": "fhRDB0WZqGq2"
    },
    {
      "cell_type": "code",
      "source": [
        "data['Cluster'].value_counts()"
      ],
      "metadata": {
        "id": "eGw21DRClGa-",
        "outputId": "bc4f6236-05e7-45d9-b123-25176cb8c462",
        "colab": {
          "base_uri": "https://localhost:8080/"
        }
      },
      "id": "eGw21DRClGa-",
      "execution_count": 82,
      "outputs": [
        {
          "output_type": "execute_result",
          "data": {
            "text/plain": [
              "0    8588\n",
              "1    2306\n",
              "2    2066\n",
              "Name: Cluster, dtype: int64"
            ]
          },
          "metadata": {},
          "execution_count": 82
        }
      ]
    },
    {
      "cell_type": "markdown",
      "source": [
        "El clúster 0 predomina frente al resto, dibujemos el dendograma en el siguiente ejercicio. \n",
        "\n"
      ],
      "metadata": {
        "id": "3Apyu7MdqOaW"
      },
      "id": "3Apyu7MdqOaW"
    },
    {
      "cell_type": "markdown",
      "source": [
        "### Ejercicio 2"
      ],
      "metadata": {
        "id": "mX2S8jsck17f"
      },
      "id": "mX2S8jsck17f"
    },
    {
      "cell_type": "markdown",
      "source": [
        "Primeramente dibujaremos un dendograma en el que se aprecien únicamente los 3 clústeres con los que se está trabajando. Para ello, se hace uso de los siguientes parámetros: \n",
        "- truncate_mode='lastp' indica que se va a recortar el dendrograma por la parte inferior (es decir, por los clusters más pequeños).\n",
        "- p=3 indica que se van a mostrar los últimos 3 clusters más pequeños.\n",
        "\n",
        "Esta es una forma útil de simplificar el dendrograma y hacerlo más fácil de leer, especialmente cuando se trabaja con grandes conjuntos de datos.\n",
        "Además se hará uso de la función linkage que se explicó anteriomente."
      ],
      "metadata": {
        "id": "fYxOcjr4qbMz"
      },
      "id": "fYxOcjr4qbMz"
    },
    {
      "cell_type": "code",
      "source": [
        "#Primero los clústeres más pequeños\n",
        "plt.figure(figsize=(10, 7))  \n",
        "plt.title(\"Dendrogramas\") \n",
        "sch.dendrogram(sch.linkage(data, method = 'ward', metric='euclidean'), truncate_mode='lastp', p=3)\n",
        "plt.show()\n",
        "\n"
      ],
      "metadata": {
        "id": "iJl5vKVdn9sv",
        "outputId": "718ac57c-be76-4471-95a4-8220ba46cff3",
        "colab": {
          "base_uri": "https://localhost:8080/",
          "height": 626
        }
      },
      "id": "iJl5vKVdn9sv",
      "execution_count": 83,
      "outputs": [
        {
          "output_type": "display_data",
          "data": {
            "text/plain": [
              "<Figure size 1000x700 with 1 Axes>"
            ],
            "image/png": "[encoded data removed]"
          },
          "metadata": {}
        }
      ]
    },
    {
      "cell_type": "markdown",
      "source": [
        "Primeramente se observan los 3 clústeres de los que hemos estado trabajando, ahora ampliaremos el rango para representar p=40, es decir, los últimos 40 clústeres más pequeños en el dendograma. De esta manera se verá más en detalle la estructura del dendograma, ya que se estarán mostrando más niveles en la jerarquía de la agrupación. \n",
        "\n",
        "Esto se ha realizado principalmente ya que si no se limitaba los clústeres mostrados, la función tardaba demasiado en ejecutar, aumentando así el coste computacional, era inviable. \n",
        "\n",
        "Por lo que se procede con la representación mencionada: "
      ],
      "metadata": {
        "id": "mBGjN8ivsEZQ"
      },
      "id": "mBGjN8ivsEZQ"
    },
    {
      "cell_type": "code",
      "source": [
        "#Bifurcación de los clústeres:\n",
        "plt.figure(figsize=(10, 7))  \n",
        "plt.title(\"Dendrogramas\") \n",
        "sch.dendrogram(sch.linkage(data, method = 'ward', metric='euclidean'), truncate_mode='lastp', p=40)\n",
        "plt.show()"
      ],
      "metadata": {
        "id": "UzrPzQGsnLPK",
        "outputId": "0ea1e2e1-0c39-49e9-f5a5-159cafff1da5",
        "colab": {
          "base_uri": "https://localhost:8080/",
          "height": 636
        }
      },
      "id": "UzrPzQGsnLPK",
      "execution_count": 84,
      "outputs": [
        {
          "output_type": "display_data",
          "data": {
            "text/plain": [
              "<Figure size 1000x700 with 1 Axes>"
            ],
            "image/png": "[encoded data removed]"
          },
          "metadata": {}
        }
      ]
    },
    {
      "cell_type": "markdown",
      "source": [
        "Se observa por tanto los 3 clústeres mencionados, el primero es el naranja, el segundo es la bifurcación de la izquierda del verde, y el tercero la bifurcación de la derecha del verde. Esto se sabe debido a que la distancia en la que se bifurcan es la mayor, es decir, son los más alejados. \n",
        "\n",
        "Los números que acompañan en el eje X suponen e número de individuos de cada bifurcación. La suma de todos ellos supone cada clúster. "
      ],
      "metadata": {
        "id": "nvXm0dy8w7sw"
      },
      "id": "nvXm0dy8w7sw"
    },
    {
      "cell_type": "code",
      "source": [
        "data1= data.loc[(data['Cluster'] == 0)]\n",
        "data1\n",
        "\n",
        "print(data1['parents_occupation'].value_counts())\n",
        "print(data1['childs_nursery'].value_counts())\n",
        "print(data1['family_form'].value_counts())\n",
        "print(data1['number_children'].value_counts())\n",
        "print(data1['housing_conditions'].value_counts())\n",
        "print(data1['financial_standing'].value_counts())\n",
        "print(data1['social_conditions'].value_counts())\n",
        "print(data1['health_conditions'].value_counts())\n",
        "print(data1['recommendation'].value_counts())"
      ],
      "metadata": {
        "colab": {
          "base_uri": "https://localhost:8080/"
        },
        "id": "x1hJoV8xoT8v",
        "outputId": "92fcba0a-d624-4513-df6e-0ce5e9c4153a"
      },
      "id": "x1hJoV8xoT8v",
      "execution_count": 85,
      "outputs": [
        {
          "output_type": "stream",
          "name": "stdout",
          "text": [
            "2    3366\n",
            "1    2924\n",
            "0    2298\n",
            "Name: parents_occupation, dtype: int64\n",
            "3    2210\n",
            "2    2208\n",
            "1    1768\n",
            "0    1328\n",
            "4    1074\n",
            "Name: childs_nursery, dtype: int64\n",
            "0    2234\n",
            "1    2172\n",
            "3    2118\n",
            "2    2064\n",
            "Name: family_form, dtype: int64\n",
            "0    2288\n",
            "1    2172\n",
            "2    2064\n",
            "3    2064\n",
            "Name: number_children, dtype: int64\n",
            "0    3060\n",
            "2    2836\n",
            "1    2692\n",
            "Name: housing_conditions, dtype: int64\n",
            "0    4406\n",
            "1    4182\n",
            "Name: financial_standing, dtype: int64\n",
            "0    2956\n",
            "2    2956\n",
            "1    2676\n",
            "Name: social_conditions, dtype: int64\n",
            "0    4320\n",
            "2    2414\n",
            "1    1854\n",
            "Name: health_conditions, dtype: int64\n",
            "0    4320\n",
            "1    4266\n",
            "2       2\n",
            "Name: recommendation, dtype: int64\n"
          ]
        }
      ]
    },
    {
      "cell_type": "markdown",
      "source": [
        "principalmente, depende de health_conditions \n"
      ],
      "metadata": {
        "id": "PzAFxd-dtMi8"
      },
      "id": "PzAFxd-dtMi8"
    },
    {
      "cell_type": "code",
      "source": [
        "\n",
        "data2 = data[data['Cluster'] == 2]\n",
        "\n",
        "print(data2['parents_occupation'].value_counts())\n",
        "print(data2['childs_nursery'].value_counts())\n",
        "print(data2['family_form'].value_counts())\n",
        "print(data2['number_children'].value_counts())\n",
        "print(data2['housing_conditions'].value_counts())\n",
        "print(data2['financial_standing'].value_counts())\n",
        "print(data2['social_conditions'].value_counts())\n",
        "print(data2['health_conditions'].value_counts())\n",
        "print(data2['recommendation'].value_counts())"
      ],
      "metadata": {
        "colab": {
          "base_uri": "https://localhost:8080/"
        },
        "id": "kU0SlvLRtevu",
        "outputId": "f1956824-0958-4a1e-f208-17adc437ce83"
      },
      "id": "kU0SlvLRtevu",
      "execution_count": 86,
      "outputs": [
        {
          "output_type": "stream",
          "name": "stdout",
          "text": [
            "0    1052\n",
            "1     758\n",
            "2     256\n",
            "Name: parents_occupation, dtype: int64\n",
            "0    1264\n",
            "1     760\n",
            "2      42\n",
            "Name: childs_nursery, dtype: int64\n",
            "2    573\n",
            "3    535\n",
            "1    499\n",
            "0    459\n",
            "Name: family_form, dtype: int64\n",
            "2    588\n",
            "3    588\n",
            "1    484\n",
            "0    406\n",
            "Name: number_children, dtype: int64\n",
            "1    812\n",
            "2    720\n",
            "0    534\n",
            "Name: housing_conditions, dtype: int64\n",
            "1    1122\n",
            "0     944\n",
            "Name: financial_standing, dtype: int64\n",
            "1    848\n",
            "0    610\n",
            "2    608\n",
            "Name: social_conditions, dtype: int64\n",
            "1    1257\n",
            "2     809\n",
            "Name: health_conditions, dtype: int64\n",
            "3    2062\n",
            "4       4\n",
            "Name: recommendation, dtype: int64\n"
          ]
        }
      ]
    }
  ],
  "metadata": {
    "kernelspec": {
      "display_name": "Python 3 (ipykernel)",
      "language": "python",
      "name": "python3"
    },
    "language_info": {
      "codemirror_mode": {
        "name": "ipython",
        "version": 3
      },
      "file_extension": ".py",
      "mimetype": "text/x-python",
      "name": "python",
      "nbconvert_exporter": "python",
      "pygments_lexer": "ipython3",
      "version": "3.8.8"
    },
    "colab": {
      "provenance": []
    }
  },
  "nbformat": 4,
  "nbformat_minor": 5
}